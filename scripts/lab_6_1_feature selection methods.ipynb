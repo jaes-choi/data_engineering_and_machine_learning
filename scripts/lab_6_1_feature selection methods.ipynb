{
 "cells": [
  {
   "cell_type": "markdown",
   "metadata": {},
   "source": [
    "# Feature engineering\n",
    "\n",
    "## pycaret\n",
    "- https://pycaret.org/preprocessing/\n",
    "\n",
    "## scikit-learn    \n",
    "- https://scikit-learn.org/stable/modules/preprocessing.html#preprocessing \n",
    "\n",
    "## scikit-learn categorical encoder\n",
    "- https://contrib.scikit-learn.org/category_encoders/ \n",
    "\n",
    "## A Short Guide for Feature Engineering and Feature Selection\n",
    "- https://github.com/ashishpatel26/Amazing-Feature-Engineering\n",
    "\n",
    "## O'Relly book : feature_engineering_for_machine_learning\n",
    "- https://www.repath.in/gallery/feature_engineering_for_machine_learning.pdf"
   ]
  },
  {
   "cell_type": "code",
   "execution_count": 1,
   "metadata": {},
   "outputs": [
    {
     "data": {
      "text/html": [
       "<style>.container { width:100% !important; }</style>"
      ],
      "text/plain": [
       "<IPython.core.display.HTML object>"
      ]
     },
     "metadata": {},
     "output_type": "display_data"
    }
   ],
   "source": [
    "from IPython.core.interactiveshell import InteractiveShell\n",
    "InteractiveShell.ast_node_interactivity = 'all'\n",
    "import pandas as pd\n",
    "import numpy as np\n",
    "import warnings\n",
    "warnings.filterwarnings('ignore')\n",
    "import matplotlib.pyplot as plt\n",
    "import seaborn as sns; sns.set()\n",
    "plt.rcParams['font.family']='Malgun Gothic'\n",
    "from IPython.core.display import display, HTML\n",
    "display(HTML(\"<style>.container { width:100% !important; }</style>\"))"
   ]
  },
  {
   "cell_type": "code",
   "execution_count": 2,
   "metadata": {},
   "outputs": [],
   "source": [
    "def summary(df) :\n",
    "    tf = pd.DataFrame({'데이터형태(dtypes)' : df.dtypes,\n",
    "                       '비 결측치 수(notnull': df.notnull().sum(),\n",
    "                       '결측치 수(null)' : df.isnull().sum(),\n",
    "                       '고유값 수(nunique)' : df.nunique()})\n",
    "    return tf"
   ]
  },
  {
   "cell_type": "markdown",
   "metadata": {},
   "source": [
    "## Recursive feature elimination with cross-validation\n",
    "### target에 영향을 주는 특성변수 selection method\n",
    "https://scikit-learn.org/stable/auto_examples/feature_selection/plot_rfe_with_cross_validation.html#sphx-glr-auto-examples-feature-selection-plot-rfe-with-cross-validation-py"
   ]
  },
  {
   "cell_type": "code",
   "execution_count": 3,
   "metadata": {},
   "outputs": [
    {
     "data": {
      "text/plain": [
       "RFECV(cv=StratifiedKFold(n_splits=2, random_state=None, shuffle=False),\n",
       "      estimator=SVC(kernel='linear'), scoring='accuracy')"
      ]
     },
     "execution_count": 3,
     "metadata": {},
     "output_type": "execute_result"
    }
   ],
   "source": [
    "import matplotlib.pyplot as plt\n",
    "from sklearn.svm import SVC\n",
    "from sklearn.model_selection import StratifiedKFold\n",
    "from sklearn.feature_selection import RFECV\n",
    "from sklearn.datasets import make_classification\n",
    "\n",
    "# Build a classification task using 3 informative features\n",
    "X, y = make_classification(n_samples=1000, n_features=25, n_informative=5,\n",
    "                           n_redundant=2, n_repeated=0, n_classes=8,\n",
    "                           n_clusters_per_class=1, random_state=0)\n",
    "\n",
    "# Create the RFE object and compute a cross-validated score.\n",
    "svc = SVC(kernel=\"linear\")\n",
    "# The \"accuracy\" scoring is proportional to the number of correct\n",
    "# classifications\n",
    "\n",
    "min_features_to_select = 1 # Minimum number of features to consider\n",
    "rfecv = RFECV(estimator=svc, step=1, cv=StratifiedKFold(2),\n",
    "              scoring='accuracy',\n",
    "              min_features_to_select=min_features_to_select)\n",
    "\n",
    "rfecv.fit(X, y)"
   ]
  },
  {
   "cell_type": "code",
   "execution_count": 4,
   "metadata": {},
   "outputs": [
    {
     "name": "stdout",
     "output_type": "stream",
     "text": [
      "Optimal number of features : 5\n",
      "Ranking of features : \n"
     ]
    },
    {
     "data": {
      "text/plain": [
       "array([14, 11, 13, 16,  1, 19,  5,  2,  1, 10,  9,  8, 17,  4,  7,  3, 15,\n",
       "        6, 21,  1, 12,  1, 18, 20,  1])"
      ]
     },
     "execution_count": 4,
     "metadata": {},
     "output_type": "execute_result"
    },
    {
     "data": {
      "text/plain": [
       "array([False, False, False, False,  True, False, False, False,  True,\n",
       "       False, False, False, False, False, False, False, False, False,\n",
       "       False,  True, False,  True, False, False,  True])"
      ]
     },
     "execution_count": 4,
     "metadata": {},
     "output_type": "execute_result"
    }
   ],
   "source": [
    "print(\"Optimal number of features : %d\" % rfecv.n_features_)\n",
    "print('Ranking of features : ')\n",
    "rfecv.ranking_\n",
    "rfecv.get_support()"
   ]
  },
  {
   "cell_type": "code",
   "execution_count": 5,
   "metadata": {},
   "outputs": [
    {
     "data": {
      "text/plain": [
       "<Figure size 432x288 with 0 Axes>"
      ]
     },
     "execution_count": 5,
     "metadata": {},
     "output_type": "execute_result"
    },
    {
     "data": {
      "text/plain": [
       "Text(0.5, 0, 'Number of features selected')"
      ]
     },
     "execution_count": 5,
     "metadata": {},
     "output_type": "execute_result"
    },
    {
     "data": {
      "text/plain": [
       "Text(0, 0.5, 'Cross validation score (nb of correct classifications)')"
      ]
     },
     "execution_count": 5,
     "metadata": {},
     "output_type": "execute_result"
    },
    {
     "data": {
      "text/plain": [
       "[<matplotlib.lines.Line2D at 0x20565a9c100>]"
      ]
     },
     "execution_count": 5,
     "metadata": {},
     "output_type": "execute_result"
    },
    {
     "data": {
      "image/png": "[encoded data removed]",
      "text/plain": [
       "<Figure size 432x288 with 1 Axes>"
      ]
     },
     "metadata": {},
     "output_type": "display_data"
    }
   ],
   "source": [
    "# Plot number of features VS. cross-validation scores\n",
    "plt.figure()\n",
    "plt.xlabel(\"Number of features selected\")\n",
    "plt.ylabel(\"Cross validation score (nb of correct classifications)\")\n",
    "plt.plot(range(min_features_to_select,\n",
    "               len(rfecv.grid_scores_) + min_features_to_select),\n",
    "         rfecv.grid_scores_)\n",
    "plt.show()"
   ]
  },
  {
   "cell_type": "markdown",
   "metadata": {},
   "source": [
    "## Test with permutations the significance of a classification score\n",
    "https://scikit-learn.org/stable/auto_examples/feature_selection/plot_permutation_test_for_classification.html#sphx-glr-auto-examples-feature-selection-plot-permutation-test-for-classification-py"
   ]
  },
  {
   "cell_type": "code",
   "execution_count": 6,
   "metadata": {},
   "outputs": [],
   "source": [
    "from sklearn.datasets import load_iris\n",
    "\n",
    "iris = load_iris()\n",
    "X = iris.data\n",
    "y = iris.target"
   ]
  },
  {
   "cell_type": "code",
   "execution_count": 7,
   "metadata": {},
   "outputs": [],
   "source": [
    "import numpy as np\n",
    "\n",
    "n_uncorrelated_features = 100\n",
    "rng = np.random.RandomState(seed=0)\n",
    "# Use same number of samples as in iris and 2200 features\n",
    "X_rand = rng.normal(size=(X.shape[0], n_uncorrelated_features))"
   ]
  },
  {
   "cell_type": "markdown",
   "metadata": {},
   "source": [
    "### Permutation test score\n",
    "permutation_test_score generates a null distribution by calculating the accuracy of the classifier on 1000 different permutations of the dataset, where features remain the same but labels undergo different permutations. This is the distribution for the null hypothesis which states there is no dependency between the features and labels. An empirical p-value is then calculated as the percentage of permutations for which the score obtained is greater that the score obtained using the original data."
   ]
  },
  {
   "cell_type": "code",
   "execution_count": 8,
   "metadata": {},
   "outputs": [],
   "source": [
    "from sklearn.svm import SVC\n",
    "from sklearn.model_selection import StratifiedKFold\n",
    "from sklearn.model_selection import permutation_test_score\n",
    "\n",
    "clf = SVC(kernel='linear', random_state=7)\n",
    "cv = StratifiedKFold(2, shuffle=True, random_state=0)"
   ]
  },
  {
   "cell_type": "code",
   "execution_count": 9,
   "metadata": {},
   "outputs": [],
   "source": [
    "score_iris, perm_scores_iris, pvalue_iris = permutation_test_score(clf, X, y, \n",
    "                                                                   scoring=\"accuracy\", cv=cv, n_permutations=1000)\n",
    "\n",
    "score_rand, perm_scores_rand, pvalue_rand = permutation_test_score(clf, X_rand, y, \n",
    "                                                                   scoring=\"accuracy\", cv=cv, n_permutations=1000)"
   ]
  },
  {
   "cell_type": "code",
   "execution_count": 10,
   "metadata": {},
   "outputs": [
    {
     "data": {
      "text/plain": [
       "(array([ 0.16666667,  0.41666667,  1.        ,  1.25      ,  1.        ,\n",
       "         3.        ,  5.        ,  8.08333333,  9.16666667,  5.16666667,\n",
       "        10.        , 11.66666667, 10.91666667,  7.83333333,  2.08333333,\n",
       "         2.75      ,  1.91666667,  1.16666667,  0.58333333,  0.16666667]),\n",
       " array([0.22666667, 0.23866667, 0.25066667, 0.26266667, 0.27466667,\n",
       "        0.28666667, 0.29866667, 0.31066667, 0.32266667, 0.33466667,\n",
       "        0.34666667, 0.35866667, 0.37066667, 0.38266667, 0.39466667,\n",
       "        0.40666667, 0.41866667, 0.43066667, 0.44266667, 0.45466667,\n",
       "        0.46666667]),\n",
       " <BarContainer object of 20 artists>)"
      ]
     },
     "execution_count": 10,
     "metadata": {},
     "output_type": "execute_result"
    },
    {
     "data": {
      "text/plain": [
       "<matplotlib.lines.Line2D at 0x20565b8d9d0>"
      ]
     },
     "execution_count": 10,
     "metadata": {},
     "output_type": "execute_result"
    },
    {
     "data": {
      "text/plain": [
       "Text(0.7, 260, 'Score on original\\ndata: 0.97\\n(p-value: 0.001)')"
      ]
     },
     "execution_count": 10,
     "metadata": {},
     "output_type": "execute_result"
    },
    {
     "data": {
      "text/plain": [
       "Text(0.5, 0, 'Accuracy score')"
      ]
     },
     "execution_count": 10,
     "metadata": {},
     "output_type": "execute_result"
    },
    {
     "data": {
      "image/png": "[encoded data removed]",
      "text/plain": [
       "<Figure size 432x288 with 1 Axes>"
      ]
     },
     "metadata": {},
     "output_type": "display_data"
    }
   ],
   "source": [
    "import matplotlib.pyplot as plt\n",
    "\n",
    "fig, ax = plt.subplots()\n",
    "\n",
    "ax.hist(perm_scores_iris, bins=20, density=True)\n",
    "ax.axvline(score_iris, ls='--', color='r')\n",
    "score_label = (f\"Score on original\\ndata: {score_iris:.2f}\\n\"\n",
    "               f\"(p-value: {pvalue_iris:.3f})\")\n",
    "ax.text(0.7, 260, score_label, fontsize=12)\n",
    "ax.set_xlabel(\"Accuracy score\")\n",
    "_ = ax.set_ylabel(\"Probability\")"
   ]
  },
  {
   "cell_type": "code",
   "execution_count": 11,
   "metadata": {},
   "outputs": [
    {
     "data": {
      "text/plain": [
       "(array([ 0.13043478,  0.06521739,  0.45652174,  0.58695652,  2.2826087 ,\n",
       "         2.73913043,  6.84782609,  6.26086957,  7.5       ,  8.02173913,\n",
       "        10.5       ,  5.47826087,  5.2173913 ,  5.08695652,  1.76086957,\n",
       "         1.36956522,  0.65217391,  0.06521739,  0.13043478,  0.06521739]),\n",
       " array([0.18666667, 0.202     , 0.21733333, 0.23266667, 0.248     ,\n",
       "        0.26333333, 0.27866667, 0.294     , 0.30933333, 0.32466667,\n",
       "        0.34      , 0.35533333, 0.37066667, 0.386     , 0.40133333,\n",
       "        0.41666667, 0.432     , 0.44733333, 0.46266667, 0.478     ,\n",
       "        0.49333333]),\n",
       " <BarContainer object of 20 artists>)"
      ]
     },
     "execution_count": 11,
     "metadata": {},
     "output_type": "execute_result"
    },
    {
     "data": {
      "text/plain": [
       "(0.13, 0.5086666666666666)"
      ]
     },
     "execution_count": 11,
     "metadata": {},
     "output_type": "execute_result"
    },
    {
     "data": {
      "text/plain": [
       "<matplotlib.lines.Line2D at 0x20565c2f850>"
      ]
     },
     "execution_count": 11,
     "metadata": {},
     "output_type": "execute_result"
    },
    {
     "data": {
      "text/plain": [
       "Text(0.14, 125, 'Score on original\\ndata: 0.39\\n(p-value: 0.119)')"
      ]
     },
     "execution_count": 11,
     "metadata": {},
     "output_type": "execute_result"
    },
    {
     "data": {
      "text/plain": [
       "Text(0.5, 0, 'Accuracy score')"
      ]
     },
     "execution_count": 11,
     "metadata": {},
     "output_type": "execute_result"
    },
    {
     "data": {
      "text/plain": [
       "Text(0, 0.5, 'Probability')"
      ]
     },
     "execution_count": 11,
     "metadata": {},
     "output_type": "execute_result"
    },
    {
     "data": {
      "image/png": "[encoded data removed]",
      "text/plain": [
       "<Figure size 432x288 with 1 Axes>"
      ]
     },
     "metadata": {},
     "output_type": "display_data"
    }
   ],
   "source": [
    "fig, ax = plt.subplots()\n",
    "\n",
    "ax.hist(perm_scores_rand, bins=20, density=True)\n",
    "ax.set_xlim(0.13)\n",
    "ax.axvline(score_rand, ls='--', color='r')\n",
    "score_label = (f\"Score on original\\ndata: {score_rand:.2f}\\n\"\n",
    "               f\"(p-value: {pvalue_rand:.3f})\")\n",
    "ax.text(0.14, 125, score_label, fontsize=12)\n",
    "ax.set_xlabel(\"Accuracy score\")\n",
    "ax.set_ylabel(\"Probability\")\n",
    "plt.show()"
   ]
  },
  {
   "cell_type": "markdown",
   "metadata": {},
   "source": [
    "## 1. 데이터 읽기\n",
    "### kaggle('../data/creditcard.csv'')로 search\n",
    "https://www.kaggle.com/mlg-ulb/creditcardfraud"
   ]
  },
  {
   "cell_type": "code",
   "execution_count": 12,
   "metadata": {},
   "outputs": [
    {
     "data": {
      "text/html": [
       "<div>\n",
       "<style scoped>\n",
       "    .dataframe tbody tr th:only-of-type {\n",
       "        vertical-align: middle;\n",
       "    }\n",
       "\n",
       "    .dataframe tbody tr th {\n",
       "        vertical-align: top;\n",
       "    }\n",
       "\n",
       "    .dataframe thead th {\n",
       "        text-align: right;\n",
       "    }\n",
       "</style>\n",
       "<table border=\"1\" class=\"dataframe\">\n",
       "  <thead>\n",
       "    <tr style=\"text-align: right;\">\n",
       "      <th></th>\n",
       "      <th>Time</th>\n",
       "      <th>V1</th>\n",
       "      <th>V2</th>\n",
       "      <th>V3</th>\n",
       "      <th>V4</th>\n",
       "      <th>V5</th>\n",
       "      <th>V6</th>\n",
       "      <th>V7</th>\n",
       "      <th>V8</th>\n",
       "      <th>V9</th>\n",
       "      <th>...</th>\n",
       "      <th>V21</th>\n",
       "      <th>V22</th>\n",
       "      <th>V23</th>\n",
       "      <th>V24</th>\n",
       "      <th>V25</th>\n",
       "      <th>V26</th>\n",
       "      <th>V27</th>\n",
       "      <th>V28</th>\n",
       "      <th>Amount</th>\n",
       "      <th>Class</th>\n",
       "    </tr>\n",
       "  </thead>\n",
       "  <tbody>\n",
       "    <tr>\n",
       "      <th>0</th>\n",
       "      <td>0.0</td>\n",
       "      <td>-1.359807</td>\n",
       "      <td>-0.072781</td>\n",
       "      <td>2.536347</td>\n",
       "      <td>1.378155</td>\n",
       "      <td>-0.338321</td>\n",
       "      <td>0.462388</td>\n",
       "      <td>0.239599</td>\n",
       "      <td>0.098698</td>\n",
       "      <td>0.363787</td>\n",
       "      <td>...</td>\n",
       "      <td>-0.018307</td>\n",
       "      <td>0.277838</td>\n",
       "      <td>-0.110474</td>\n",
       "      <td>0.066928</td>\n",
       "      <td>0.128539</td>\n",
       "      <td>-0.189115</td>\n",
       "      <td>0.133558</td>\n",
       "      <td>-0.021053</td>\n",
       "      <td>149.62</td>\n",
       "      <td>0</td>\n",
       "    </tr>\n",
       "    <tr>\n",
       "      <th>1</th>\n",
       "      <td>0.0</td>\n",
       "      <td>1.191857</td>\n",
       "      <td>0.266151</td>\n",
       "      <td>0.166480</td>\n",
       "      <td>0.448154</td>\n",
       "      <td>0.060018</td>\n",
       "      <td>-0.082361</td>\n",
       "      <td>-0.078803</td>\n",
       "      <td>0.085102</td>\n",
       "      <td>-0.255425</td>\n",
       "      <td>...</td>\n",
       "      <td>-0.225775</td>\n",
       "      <td>-0.638672</td>\n",
       "      <td>0.101288</td>\n",
       "      <td>-0.339846</td>\n",
       "      <td>0.167170</td>\n",
       "      <td>0.125895</td>\n",
       "      <td>-0.008983</td>\n",
       "      <td>0.014724</td>\n",
       "      <td>2.69</td>\n",
       "      <td>0</td>\n",
       "    </tr>\n",
       "    <tr>\n",
       "      <th>2</th>\n",
       "      <td>1.0</td>\n",
       "      <td>-1.358354</td>\n",
       "      <td>-1.340163</td>\n",
       "      <td>1.773209</td>\n",
       "      <td>0.379780</td>\n",
       "      <td>-0.503198</td>\n",
       "      <td>1.800499</td>\n",
       "      <td>0.791461</td>\n",
       "      <td>0.247676</td>\n",
       "      <td>-1.514654</td>\n",
       "      <td>...</td>\n",
       "      <td>0.247998</td>\n",
       "      <td>0.771679</td>\n",
       "      <td>0.909412</td>\n",
       "      <td>-0.689281</td>\n",
       "      <td>-0.327642</td>\n",
       "      <td>-0.139097</td>\n",
       "      <td>-0.055353</td>\n",
       "      <td>-0.059752</td>\n",
       "      <td>378.66</td>\n",
       "      <td>0</td>\n",
       "    </tr>\n",
       "    <tr>\n",
       "      <th>3</th>\n",
       "      <td>1.0</td>\n",
       "      <td>-0.966272</td>\n",
       "      <td>-0.185226</td>\n",
       "      <td>1.792993</td>\n",
       "      <td>-0.863291</td>\n",
       "      <td>-0.010309</td>\n",
       "      <td>1.247203</td>\n",
       "      <td>0.237609</td>\n",
       "      <td>0.377436</td>\n",
       "      <td>-1.387024</td>\n",
       "      <td>...</td>\n",
       "      <td>-0.108300</td>\n",
       "      <td>0.005274</td>\n",
       "      <td>-0.190321</td>\n",
       "      <td>-1.175575</td>\n",
       "      <td>0.647376</td>\n",
       "      <td>-0.221929</td>\n",
       "      <td>0.062723</td>\n",
       "      <td>0.061458</td>\n",
       "      <td>123.50</td>\n",
       "      <td>0</td>\n",
       "    </tr>\n",
       "    <tr>\n",
       "      <th>4</th>\n",
       "      <td>2.0</td>\n",
       "      <td>-1.158233</td>\n",
       "      <td>0.877737</td>\n",
       "      <td>1.548718</td>\n",
       "      <td>0.403034</td>\n",
       "      <td>-0.407193</td>\n",
       "      <td>0.095921</td>\n",
       "      <td>0.592941</td>\n",
       "      <td>-0.270533</td>\n",
       "      <td>0.817739</td>\n",
       "      <td>...</td>\n",
       "      <td>-0.009431</td>\n",
       "      <td>0.798278</td>\n",
       "      <td>-0.137458</td>\n",
       "      <td>0.141267</td>\n",
       "      <td>-0.206010</td>\n",
       "      <td>0.502292</td>\n",
       "      <td>0.219422</td>\n",
       "      <td>0.215153</td>\n",
       "      <td>69.99</td>\n",
       "      <td>0</td>\n",
       "    </tr>\n",
       "  </tbody>\n",
       "</table>\n",
       "<p>5 rows × 31 columns</p>\n",
       "</div>"
      ],
      "text/plain": [
       "   Time        V1        V2        V3        V4        V5        V6        V7  \\\n",
       "0   0.0 -1.359807 -0.072781  2.536347  1.378155 -0.338321  0.462388  0.239599   \n",
       "1   0.0  1.191857  0.266151  0.166480  0.448154  0.060018 -0.082361 -0.078803   \n",
       "2   1.0 -1.358354 -1.340163  1.773209  0.379780 -0.503198  1.800499  0.791461   \n",
       "3   1.0 -0.966272 -0.185226  1.792993 -0.863291 -0.010309  1.247203  0.237609   \n",
       "4   2.0 -1.158233  0.877737  1.548718  0.403034 -0.407193  0.095921  0.592941   \n",
       "\n",
       "         V8        V9  ...       V21       V22       V23       V24       V25  \\\n",
       "0  0.098698  0.363787  ... -0.018307  0.277838 -0.110474  0.066928  0.128539   \n",
       "1  0.085102 -0.255425  ... -0.225775 -0.638672  0.101288 -0.339846  0.167170   \n",
       "2  0.247676 -1.514654  ...  0.247998  0.771679  0.909412 -0.689281 -0.327642   \n",
       "3  0.377436 -1.387024  ... -0.108300  0.005274 -0.190321 -1.175575  0.647376   \n",
       "4 -0.270533  0.817739  ... -0.009431  0.798278 -0.137458  0.141267 -0.206010   \n",
       "\n",
       "        V26       V27       V28  Amount  Class  \n",
       "0 -0.189115  0.133558 -0.021053  149.62      0  \n",
       "1  0.125895 -0.008983  0.014724    2.69      0  \n",
       "2 -0.139097 -0.055353 -0.059752  378.66      0  \n",
       "3 -0.221929  0.062723  0.061458  123.50      0  \n",
       "4  0.502292  0.219422  0.215153   69.99      0  \n",
       "\n",
       "[5 rows x 31 columns]"
      ]
     },
     "execution_count": 12,
     "metadata": {},
     "output_type": "execute_result"
    },
    {
     "data": {
      "text/plain": [
       "(284807, 31)"
      ]
     },
     "execution_count": 12,
     "metadata": {},
     "output_type": "execute_result"
    }
   ],
   "source": [
    "df = pd.read_csv(\"../data/creditcard.csv\")\n",
    "df.head()\n",
    "df.shape"
   ]
  },
  {
   "cell_type": "code",
   "execution_count": 13,
   "metadata": {},
   "outputs": [],
   "source": [
    "df = df.sample(frac=0.1)"
   ]
  },
  {
   "cell_type": "code",
   "execution_count": 14,
   "metadata": {
    "scrolled": true
   },
   "outputs": [
    {
     "data": {
      "text/html": [
       "<div>\n",
       "<style scoped>\n",
       "    .dataframe tbody tr th:only-of-type {\n",
       "        vertical-align: middle;\n",
       "    }\n",
       "\n",
       "    .dataframe tbody tr th {\n",
       "        vertical-align: top;\n",
       "    }\n",
       "\n",
       "    .dataframe thead th {\n",
       "        text-align: right;\n",
       "    }\n",
       "</style>\n",
       "<table border=\"1\" class=\"dataframe\">\n",
       "  <thead>\n",
       "    <tr style=\"text-align: right;\">\n",
       "      <th></th>\n",
       "      <th>데이터형태(dtypes)</th>\n",
       "      <th>비 결측치 수(notnull</th>\n",
       "      <th>결측치 수(null)</th>\n",
       "      <th>고유값 수(nunique)</th>\n",
       "    </tr>\n",
       "  </thead>\n",
       "  <tbody>\n",
       "    <tr>\n",
       "      <th>Time</th>\n",
       "      <td>float64</td>\n",
       "      <td>28481</td>\n",
       "      <td>0</td>\n",
       "      <td>25737</td>\n",
       "    </tr>\n",
       "    <tr>\n",
       "      <th>V1</th>\n",
       "      <td>float64</td>\n",
       "      <td>28481</td>\n",
       "      <td>0</td>\n",
       "      <td>28252</td>\n",
       "    </tr>\n",
       "    <tr>\n",
       "      <th>V2</th>\n",
       "      <td>float64</td>\n",
       "      <td>28481</td>\n",
       "      <td>0</td>\n",
       "      <td>28252</td>\n",
       "    </tr>\n",
       "    <tr>\n",
       "      <th>V3</th>\n",
       "      <td>float64</td>\n",
       "      <td>28481</td>\n",
       "      <td>0</td>\n",
       "      <td>28252</td>\n",
       "    </tr>\n",
       "    <tr>\n",
       "      <th>V4</th>\n",
       "      <td>float64</td>\n",
       "      <td>28481</td>\n",
       "      <td>0</td>\n",
       "      <td>28252</td>\n",
       "    </tr>\n",
       "    <tr>\n",
       "      <th>V5</th>\n",
       "      <td>float64</td>\n",
       "      <td>28481</td>\n",
       "      <td>0</td>\n",
       "      <td>28252</td>\n",
       "    </tr>\n",
       "    <tr>\n",
       "      <th>V6</th>\n",
       "      <td>float64</td>\n",
       "      <td>28481</td>\n",
       "      <td>0</td>\n",
       "      <td>28252</td>\n",
       "    </tr>\n",
       "    <tr>\n",
       "      <th>V7</th>\n",
       "      <td>float64</td>\n",
       "      <td>28481</td>\n",
       "      <td>0</td>\n",
       "      <td>28252</td>\n",
       "    </tr>\n",
       "    <tr>\n",
       "      <th>V8</th>\n",
       "      <td>float64</td>\n",
       "      <td>28481</td>\n",
       "      <td>0</td>\n",
       "      <td>28252</td>\n",
       "    </tr>\n",
       "    <tr>\n",
       "      <th>V9</th>\n",
       "      <td>float64</td>\n",
       "      <td>28481</td>\n",
       "      <td>0</td>\n",
       "      <td>28252</td>\n",
       "    </tr>\n",
       "    <tr>\n",
       "      <th>V10</th>\n",
       "      <td>float64</td>\n",
       "      <td>28481</td>\n",
       "      <td>0</td>\n",
       "      <td>28252</td>\n",
       "    </tr>\n",
       "    <tr>\n",
       "      <th>V11</th>\n",
       "      <td>float64</td>\n",
       "      <td>28481</td>\n",
       "      <td>0</td>\n",
       "      <td>28252</td>\n",
       "    </tr>\n",
       "    <tr>\n",
       "      <th>V12</th>\n",
       "      <td>float64</td>\n",
       "      <td>28481</td>\n",
       "      <td>0</td>\n",
       "      <td>28252</td>\n",
       "    </tr>\n",
       "    <tr>\n",
       "      <th>V13</th>\n",
       "      <td>float64</td>\n",
       "      <td>28481</td>\n",
       "      <td>0</td>\n",
       "      <td>28252</td>\n",
       "    </tr>\n",
       "    <tr>\n",
       "      <th>V14</th>\n",
       "      <td>float64</td>\n",
       "      <td>28481</td>\n",
       "      <td>0</td>\n",
       "      <td>28252</td>\n",
       "    </tr>\n",
       "    <tr>\n",
       "      <th>V15</th>\n",
       "      <td>float64</td>\n",
       "      <td>28481</td>\n",
       "      <td>0</td>\n",
       "      <td>28252</td>\n",
       "    </tr>\n",
       "    <tr>\n",
       "      <th>V16</th>\n",
       "      <td>float64</td>\n",
       "      <td>28481</td>\n",
       "      <td>0</td>\n",
       "      <td>28252</td>\n",
       "    </tr>\n",
       "    <tr>\n",
       "      <th>V17</th>\n",
       "      <td>float64</td>\n",
       "      <td>28481</td>\n",
       "      <td>0</td>\n",
       "      <td>28252</td>\n",
       "    </tr>\n",
       "    <tr>\n",
       "      <th>V18</th>\n",
       "      <td>float64</td>\n",
       "      <td>28481</td>\n",
       "      <td>0</td>\n",
       "      <td>28252</td>\n",
       "    </tr>\n",
       "    <tr>\n",
       "      <th>V19</th>\n",
       "      <td>float64</td>\n",
       "      <td>28481</td>\n",
       "      <td>0</td>\n",
       "      <td>28252</td>\n",
       "    </tr>\n",
       "    <tr>\n",
       "      <th>V20</th>\n",
       "      <td>float64</td>\n",
       "      <td>28481</td>\n",
       "      <td>0</td>\n",
       "      <td>28252</td>\n",
       "    </tr>\n",
       "    <tr>\n",
       "      <th>V21</th>\n",
       "      <td>float64</td>\n",
       "      <td>28481</td>\n",
       "      <td>0</td>\n",
       "      <td>28252</td>\n",
       "    </tr>\n",
       "    <tr>\n",
       "      <th>V22</th>\n",
       "      <td>float64</td>\n",
       "      <td>28481</td>\n",
       "      <td>0</td>\n",
       "      <td>28252</td>\n",
       "    </tr>\n",
       "    <tr>\n",
       "      <th>V23</th>\n",
       "      <td>float64</td>\n",
       "      <td>28481</td>\n",
       "      <td>0</td>\n",
       "      <td>28252</td>\n",
       "    </tr>\n",
       "    <tr>\n",
       "      <th>V24</th>\n",
       "      <td>float64</td>\n",
       "      <td>28481</td>\n",
       "      <td>0</td>\n",
       "      <td>28252</td>\n",
       "    </tr>\n",
       "    <tr>\n",
       "      <th>V25</th>\n",
       "      <td>float64</td>\n",
       "      <td>28481</td>\n",
       "      <td>0</td>\n",
       "      <td>28252</td>\n",
       "    </tr>\n",
       "    <tr>\n",
       "      <th>V26</th>\n",
       "      <td>float64</td>\n",
       "      <td>28481</td>\n",
       "      <td>0</td>\n",
       "      <td>28252</td>\n",
       "    </tr>\n",
       "    <tr>\n",
       "      <th>V27</th>\n",
       "      <td>float64</td>\n",
       "      <td>28481</td>\n",
       "      <td>0</td>\n",
       "      <td>28252</td>\n",
       "    </tr>\n",
       "    <tr>\n",
       "      <th>V28</th>\n",
       "      <td>float64</td>\n",
       "      <td>28481</td>\n",
       "      <td>0</td>\n",
       "      <td>28252</td>\n",
       "    </tr>\n",
       "    <tr>\n",
       "      <th>Amount</th>\n",
       "      <td>float64</td>\n",
       "      <td>28481</td>\n",
       "      <td>0</td>\n",
       "      <td>8764</td>\n",
       "    </tr>\n",
       "    <tr>\n",
       "      <th>Class</th>\n",
       "      <td>int64</td>\n",
       "      <td>28481</td>\n",
       "      <td>0</td>\n",
       "      <td>2</td>\n",
       "    </tr>\n",
       "  </tbody>\n",
       "</table>\n",
       "</div>"
      ],
      "text/plain": [
       "       데이터형태(dtypes)  비 결측치 수(notnull  결측치 수(null)  고유값 수(nunique)\n",
       "Time         float64            28481            0           25737\n",
       "V1           float64            28481            0           28252\n",
       "V2           float64            28481            0           28252\n",
       "V3           float64            28481            0           28252\n",
       "V4           float64            28481            0           28252\n",
       "V5           float64            28481            0           28252\n",
       "V6           float64            28481            0           28252\n",
       "V7           float64            28481            0           28252\n",
       "V8           float64            28481            0           28252\n",
       "V9           float64            28481            0           28252\n",
       "V10          float64            28481            0           28252\n",
       "V11          float64            28481            0           28252\n",
       "V12          float64            28481            0           28252\n",
       "V13          float64            28481            0           28252\n",
       "V14          float64            28481            0           28252\n",
       "V15          float64            28481            0           28252\n",
       "V16          float64            28481            0           28252\n",
       "V17          float64            28481            0           28252\n",
       "V18          float64            28481            0           28252\n",
       "V19          float64            28481            0           28252\n",
       "V20          float64            28481            0           28252\n",
       "V21          float64            28481            0           28252\n",
       "V22          float64            28481            0           28252\n",
       "V23          float64            28481            0           28252\n",
       "V24          float64            28481            0           28252\n",
       "V25          float64            28481            0           28252\n",
       "V26          float64            28481            0           28252\n",
       "V27          float64            28481            0           28252\n",
       "V28          float64            28481            0           28252\n",
       "Amount       float64            28481            0            8764\n",
       "Class          int64            28481            0               2"
      ]
     },
     "execution_count": 14,
     "metadata": {},
     "output_type": "execute_result"
    }
   ],
   "source": [
    "summary(df)"
   ]
  },
  {
   "cell_type": "markdown",
   "metadata": {},
   "source": [
    "## 특성추출 및 선택"
   ]
  },
  {
   "cell_type": "markdown",
   "metadata": {},
   "source": [
    "## Feature selection\n",
    "### 가. Removing features with low variance"
   ]
  },
  {
   "cell_type": "code",
   "execution_count": 15,
   "metadata": {},
   "outputs": [
    {
     "data": {
      "text/html": [
       "<div>\n",
       "<style scoped>\n",
       "    .dataframe tbody tr th:only-of-type {\n",
       "        vertical-align: middle;\n",
       "    }\n",
       "\n",
       "    .dataframe tbody tr th {\n",
       "        vertical-align: top;\n",
       "    }\n",
       "\n",
       "    .dataframe thead th {\n",
       "        text-align: right;\n",
       "    }\n",
       "</style>\n",
       "<table border=\"1\" class=\"dataframe\">\n",
       "  <thead>\n",
       "    <tr style=\"text-align: right;\">\n",
       "      <th></th>\n",
       "      <th>0</th>\n",
       "      <th>1</th>\n",
       "      <th>2</th>\n",
       "      <th>3</th>\n",
       "    </tr>\n",
       "  </thead>\n",
       "  <tbody>\n",
       "    <tr>\n",
       "      <th>0</th>\n",
       "      <td>0</td>\n",
       "      <td>2</td>\n",
       "      <td>0</td>\n",
       "      <td>3</td>\n",
       "    </tr>\n",
       "    <tr>\n",
       "      <th>1</th>\n",
       "      <td>0</td>\n",
       "      <td>1</td>\n",
       "      <td>4</td>\n",
       "      <td>3</td>\n",
       "    </tr>\n",
       "    <tr>\n",
       "      <th>2</th>\n",
       "      <td>0</td>\n",
       "      <td>1</td>\n",
       "      <td>1</td>\n",
       "      <td>3</td>\n",
       "    </tr>\n",
       "  </tbody>\n",
       "</table>\n",
       "</div>"
      ],
      "text/plain": [
       "   0  1  2  3\n",
       "0  0  2  0  3\n",
       "1  0  1  4  3\n",
       "2  0  1  1  3"
      ]
     },
     "execution_count": 15,
     "metadata": {},
     "output_type": "execute_result"
    },
    {
     "data": {
      "text/plain": [
       "array([[2, 0],\n",
       "       [1, 4],\n",
       "       [1, 1]])"
      ]
     },
     "execution_count": 15,
     "metadata": {},
     "output_type": "execute_result"
    }
   ],
   "source": [
    "from sklearn.feature_selection import VarianceThreshold\n",
    "X = [[0, 2, 0, 3], [0, 1, 4, 3], [0, 1, 1, 3]]\n",
    "pd.DataFrame(X)\n",
    "selector = VarianceThreshold()\n",
    "selector.fit_transform(X)"
   ]
  },
  {
   "cell_type": "markdown",
   "metadata": {},
   "source": [
    "이항분포(베르누이)를 갖는 변수에서 '1', '0'이 전체의 80% 이상인 변수를 제거할 때, 이항분포의분산은 p*(1-p)\n",
    "첫번쨰와 마지막 컬럼은 p = 5/6 > 0.8 만큼 '1' 혹은 '0'을 포함하고 있어 제거함 "
   ]
  },
  {
   "cell_type": "code",
   "execution_count": 16,
   "metadata": {},
   "outputs": [
    {
     "data": {
      "text/plain": [
       "[[0, 0, 1, 1, 0],\n",
       " [0, 1, 0, 1, 0],\n",
       " [1, 0, 0, 0, 0],\n",
       " [0, 1, 1, 1, 0],\n",
       " [0, 1, 0, 1, 0],\n",
       " [0, 1, 1, 1, 0]]"
      ]
     },
     "execution_count": 16,
     "metadata": {},
     "output_type": "execute_result"
    },
    {
     "data": {
      "text/plain": [
       "array([[0, 1],\n",
       "       [1, 0],\n",
       "       [0, 0],\n",
       "       [1, 1],\n",
       "       [1, 0],\n",
       "       [1, 1]])"
      ]
     },
     "execution_count": 16,
     "metadata": {},
     "output_type": "execute_result"
    }
   ],
   "source": [
    "X = [[0, 0, 1, 1, 0], [0, 1, 0, 1, 0], [1, 0, 0, 0, 0], [0, 1, 1, 1, 0], [0, 1, 0, 1, 0], [0, 1, 1, 1, 0]]\n",
    "X\n",
    "sel = VarianceThreshold(threshold=(.8 * (1 - .8))) # \n",
    "sel.fit_transform(X)"
   ]
  },
  {
   "cell_type": "markdown",
   "metadata": {},
   "source": [
    "## 자료"
   ]
  },
  {
   "cell_type": "code",
   "execution_count": 17,
   "metadata": {},
   "outputs": [
    {
     "data": {
      "text/html": [
       "<div>\n",
       "<style scoped>\n",
       "    .dataframe tbody tr th:only-of-type {\n",
       "        vertical-align: middle;\n",
       "    }\n",
       "\n",
       "    .dataframe tbody tr th {\n",
       "        vertical-align: top;\n",
       "    }\n",
       "\n",
       "    .dataframe thead th {\n",
       "        text-align: right;\n",
       "    }\n",
       "</style>\n",
       "<table border=\"1\" class=\"dataframe\">\n",
       "  <thead>\n",
       "    <tr style=\"text-align: right;\">\n",
       "      <th></th>\n",
       "      <th>Time</th>\n",
       "      <th>V1</th>\n",
       "      <th>V2</th>\n",
       "      <th>V3</th>\n",
       "      <th>V4</th>\n",
       "      <th>V5</th>\n",
       "      <th>V6</th>\n",
       "      <th>V7</th>\n",
       "      <th>V8</th>\n",
       "      <th>V9</th>\n",
       "      <th>...</th>\n",
       "      <th>V20</th>\n",
       "      <th>V21</th>\n",
       "      <th>V22</th>\n",
       "      <th>V23</th>\n",
       "      <th>V24</th>\n",
       "      <th>V25</th>\n",
       "      <th>V26</th>\n",
       "      <th>V27</th>\n",
       "      <th>V28</th>\n",
       "      <th>Amount</th>\n",
       "    </tr>\n",
       "  </thead>\n",
       "  <tbody>\n",
       "    <tr>\n",
       "      <th>15742</th>\n",
       "      <td>27172.0</td>\n",
       "      <td>-0.358238</td>\n",
       "      <td>1.082731</td>\n",
       "      <td>0.639184</td>\n",
       "      <td>1.035113</td>\n",
       "      <td>-0.427959</td>\n",
       "      <td>-0.773610</td>\n",
       "      <td>0.523847</td>\n",
       "      <td>0.251635</td>\n",
       "      <td>-0.697094</td>\n",
       "      <td>...</td>\n",
       "      <td>-0.037004</td>\n",
       "      <td>0.202029</td>\n",
       "      <td>0.406190</td>\n",
       "      <td>0.064947</td>\n",
       "      <td>0.386027</td>\n",
       "      <td>-0.117952</td>\n",
       "      <td>-0.329095</td>\n",
       "      <td>-0.062258</td>\n",
       "      <td>-0.014814</td>\n",
       "      <td>60.00</td>\n",
       "    </tr>\n",
       "    <tr>\n",
       "      <th>77165</th>\n",
       "      <td>56920.0</td>\n",
       "      <td>1.311263</td>\n",
       "      <td>-1.546836</td>\n",
       "      <td>1.276280</td>\n",
       "      <td>-1.126983</td>\n",
       "      <td>-2.320698</td>\n",
       "      <td>-0.171389</td>\n",
       "      <td>-1.681770</td>\n",
       "      <td>0.208237</td>\n",
       "      <td>-1.143218</td>\n",
       "      <td>...</td>\n",
       "      <td>-0.317358</td>\n",
       "      <td>-0.163974</td>\n",
       "      <td>-0.088268</td>\n",
       "      <td>0.054566</td>\n",
       "      <td>0.495499</td>\n",
       "      <td>0.137004</td>\n",
       "      <td>-0.225941</td>\n",
       "      <td>0.060266</td>\n",
       "      <td>0.029507</td>\n",
       "      <td>56.00</td>\n",
       "    </tr>\n",
       "    <tr>\n",
       "      <th>102305</th>\n",
       "      <td>68134.0</td>\n",
       "      <td>1.105307</td>\n",
       "      <td>-0.119522</td>\n",
       "      <td>1.054853</td>\n",
       "      <td>1.378645</td>\n",
       "      <td>-0.904617</td>\n",
       "      <td>-0.076617</td>\n",
       "      <td>-0.495038</td>\n",
       "      <td>0.207886</td>\n",
       "      <td>0.741927</td>\n",
       "      <td>...</td>\n",
       "      <td>-0.207002</td>\n",
       "      <td>0.012417</td>\n",
       "      <td>0.253662</td>\n",
       "      <td>-0.092275</td>\n",
       "      <td>0.536210</td>\n",
       "      <td>0.585876</td>\n",
       "      <td>-0.303625</td>\n",
       "      <td>0.048513</td>\n",
       "      <td>0.017658</td>\n",
       "      <td>11.00</td>\n",
       "    </tr>\n",
       "    <tr>\n",
       "      <th>196814</th>\n",
       "      <td>131706.0</td>\n",
       "      <td>0.017308</td>\n",
       "      <td>1.361138</td>\n",
       "      <td>0.799169</td>\n",
       "      <td>4.303455</td>\n",
       "      <td>0.587501</td>\n",
       "      <td>0.721598</td>\n",
       "      <td>0.425481</td>\n",
       "      <td>0.246783</td>\n",
       "      <td>-1.809007</td>\n",
       "      <td>...</td>\n",
       "      <td>0.187635</td>\n",
       "      <td>0.379603</td>\n",
       "      <td>1.259203</td>\n",
       "      <td>-0.257050</td>\n",
       "      <td>-0.343610</td>\n",
       "      <td>-0.551205</td>\n",
       "      <td>0.623181</td>\n",
       "      <td>0.460875</td>\n",
       "      <td>0.259529</td>\n",
       "      <td>10.62</td>\n",
       "    </tr>\n",
       "    <tr>\n",
       "      <th>105753</th>\n",
       "      <td>69671.0</td>\n",
       "      <td>-0.453713</td>\n",
       "      <td>-0.163659</td>\n",
       "      <td>0.786720</td>\n",
       "      <td>-2.349517</td>\n",
       "      <td>-1.205128</td>\n",
       "      <td>-0.731777</td>\n",
       "      <td>-0.705560</td>\n",
       "      <td>0.471720</td>\n",
       "      <td>-2.162942</td>\n",
       "      <td>...</td>\n",
       "      <td>-0.414585</td>\n",
       "      <td>-0.098065</td>\n",
       "      <td>0.013084</td>\n",
       "      <td>0.103936</td>\n",
       "      <td>0.022383</td>\n",
       "      <td>-0.280768</td>\n",
       "      <td>-0.373574</td>\n",
       "      <td>0.194683</td>\n",
       "      <td>0.021552</td>\n",
       "      <td>15.00</td>\n",
       "    </tr>\n",
       "  </tbody>\n",
       "</table>\n",
       "<p>5 rows × 30 columns</p>\n",
       "</div>"
      ],
      "text/plain": [
       "            Time        V1        V2        V3        V4        V5        V6  \\\n",
       "15742    27172.0 -0.358238  1.082731  0.639184  1.035113 -0.427959 -0.773610   \n",
       "77165    56920.0  1.311263 -1.546836  1.276280 -1.126983 -2.320698 -0.171389   \n",
       "102305   68134.0  1.105307 -0.119522  1.054853  1.378645 -0.904617 -0.076617   \n",
       "196814  131706.0  0.017308  1.361138  0.799169  4.303455  0.587501  0.721598   \n",
       "105753   69671.0 -0.453713 -0.163659  0.786720 -2.349517 -1.205128 -0.731777   \n",
       "\n",
       "              V7        V8        V9  ...       V20       V21       V22  \\\n",
       "15742   0.523847  0.251635 -0.697094  ... -0.037004  0.202029  0.406190   \n",
       "77165  -1.681770  0.208237 -1.143218  ... -0.317358 -0.163974 -0.088268   \n",
       "102305 -0.495038  0.207886  0.741927  ... -0.207002  0.012417  0.253662   \n",
       "196814  0.425481  0.246783 -1.809007  ...  0.187635  0.379603  1.259203   \n",
       "105753 -0.705560  0.471720 -2.162942  ... -0.414585 -0.098065  0.013084   \n",
       "\n",
       "             V23       V24       V25       V26       V27       V28  Amount  \n",
       "15742   0.064947  0.386027 -0.117952 -0.329095 -0.062258 -0.014814   60.00  \n",
       "77165   0.054566  0.495499  0.137004 -0.225941  0.060266  0.029507   56.00  \n",
       "102305 -0.092275  0.536210  0.585876 -0.303625  0.048513  0.017658   11.00  \n",
       "196814 -0.257050 -0.343610 -0.551205  0.623181  0.460875  0.259529   10.62  \n",
       "105753  0.103936  0.022383 -0.280768 -0.373574  0.194683  0.021552   15.00  \n",
       "\n",
       "[5 rows x 30 columns]"
      ]
     },
     "execution_count": 17,
     "metadata": {},
     "output_type": "execute_result"
    }
   ],
   "source": [
    "X = df.drop(['Class'], axis=1)\n",
    "y = df['Class']\n",
    "feature_name = X.columns\n",
    "best_features = 15\n",
    "X.head()"
   ]
  },
  {
   "cell_type": "code",
   "execution_count": 18,
   "metadata": {},
   "outputs": [
    {
     "data": {
      "text/plain": [
       "VarianceThreshold(threshold=0.7)"
      ]
     },
     "execution_count": 18,
     "metadata": {},
     "output_type": "execute_result"
    },
    {
     "data": {
      "text/plain": [
       "array([ True,  True,  True,  True,  True,  True,  True,  True,  True,\n",
       "        True,  True,  True,  True,  True,  True,  True,  True, False,\n",
       "       False, False, False, False, False, False, False, False, False,\n",
       "       False, False,  True])"
      ]
     },
     "execution_count": 18,
     "metadata": {},
     "output_type": "execute_result"
    },
    {
     "data": {
      "text/plain": [
       "18"
      ]
     },
     "execution_count": 18,
     "metadata": {},
     "output_type": "execute_result"
    }
   ],
   "source": [
    "sel = VarianceThreshold(threshold = 0.7)\n",
    "sel.fit(X)\n",
    "var_support = sel.get_support()\n",
    "var_support\n",
    "np.sum(var_support*1)"
   ]
  },
  {
   "cell_type": "code",
   "execution_count": 19,
   "metadata": {},
   "outputs": [
    {
     "data": {
      "text/plain": [
       "Index(['Time', 'V1', 'V2', 'V3', 'V4', 'V5', 'V6', 'V7', 'V8', 'V9', 'V10',\n",
       "       'V11', 'V12', 'V13', 'V14', 'V15', 'V16', 'Amount'],\n",
       "      dtype='object')"
      ]
     },
     "execution_count": 19,
     "metadata": {},
     "output_type": "execute_result"
    }
   ],
   "source": [
    "var_features = X.loc[:, var_support].columns\n",
    "var_features"
   ]
  },
  {
   "cell_type": "code",
   "execution_count": 20,
   "metadata": {
    "scrolled": false
   },
   "outputs": [
    {
     "data": {
      "text/html": [
       "<div>\n",
       "<style scoped>\n",
       "    .dataframe tbody tr th:only-of-type {\n",
       "        vertical-align: middle;\n",
       "    }\n",
       "\n",
       "    .dataframe tbody tr th {\n",
       "        vertical-align: top;\n",
       "    }\n",
       "\n",
       "    .dataframe thead th {\n",
       "        text-align: right;\n",
       "    }\n",
       "</style>\n",
       "<table border=\"1\" class=\"dataframe\">\n",
       "  <thead>\n",
       "    <tr style=\"text-align: right;\">\n",
       "      <th></th>\n",
       "      <th>Time</th>\n",
       "      <th>V1</th>\n",
       "      <th>V2</th>\n",
       "      <th>V3</th>\n",
       "      <th>V4</th>\n",
       "      <th>V5</th>\n",
       "      <th>V6</th>\n",
       "      <th>V7</th>\n",
       "      <th>V8</th>\n",
       "      <th>V9</th>\n",
       "      <th>V10</th>\n",
       "      <th>V11</th>\n",
       "      <th>V12</th>\n",
       "      <th>V13</th>\n",
       "      <th>V14</th>\n",
       "      <th>V15</th>\n",
       "      <th>V16</th>\n",
       "      <th>Amount</th>\n",
       "    </tr>\n",
       "  </thead>\n",
       "  <tbody>\n",
       "    <tr>\n",
       "      <th>0</th>\n",
       "      <td>27172.0</td>\n",
       "      <td>-0.358238</td>\n",
       "      <td>1.082731</td>\n",
       "      <td>0.639184</td>\n",
       "      <td>1.035113</td>\n",
       "      <td>-0.427959</td>\n",
       "      <td>-0.773610</td>\n",
       "      <td>0.523847</td>\n",
       "      <td>0.251635</td>\n",
       "      <td>-0.697094</td>\n",
       "      <td>-0.407532</td>\n",
       "      <td>-0.666092</td>\n",
       "      <td>-0.009874</td>\n",
       "      <td>-0.032802</td>\n",
       "      <td>0.657483</td>\n",
       "      <td>0.998145</td>\n",
       "      <td>-0.131667</td>\n",
       "      <td>60.00</td>\n",
       "    </tr>\n",
       "    <tr>\n",
       "      <th>1</th>\n",
       "      <td>56920.0</td>\n",
       "      <td>1.311263</td>\n",
       "      <td>-1.546836</td>\n",
       "      <td>1.276280</td>\n",
       "      <td>-1.126983</td>\n",
       "      <td>-2.320698</td>\n",
       "      <td>-0.171389</td>\n",
       "      <td>-1.681770</td>\n",
       "      <td>0.208237</td>\n",
       "      <td>-1.143218</td>\n",
       "      <td>1.433559</td>\n",
       "      <td>0.805274</td>\n",
       "      <td>-0.482873</td>\n",
       "      <td>-0.782435</td>\n",
       "      <td>-0.522893</td>\n",
       "      <td>-0.822288</td>\n",
       "      <td>-0.289640</td>\n",
       "      <td>56.00</td>\n",
       "    </tr>\n",
       "    <tr>\n",
       "      <th>2</th>\n",
       "      <td>68134.0</td>\n",
       "      <td>1.105307</td>\n",
       "      <td>-0.119522</td>\n",
       "      <td>1.054853</td>\n",
       "      <td>1.378645</td>\n",
       "      <td>-0.904617</td>\n",
       "      <td>-0.076617</td>\n",
       "      <td>-0.495038</td>\n",
       "      <td>0.207886</td>\n",
       "      <td>0.741927</td>\n",
       "      <td>-0.037024</td>\n",
       "      <td>0.753014</td>\n",
       "      <td>0.809394</td>\n",
       "      <td>-1.168704</td>\n",
       "      <td>0.031310</td>\n",
       "      <td>-1.177488</td>\n",
       "      <td>-0.218992</td>\n",
       "      <td>11.00</td>\n",
       "    </tr>\n",
       "    <tr>\n",
       "      <th>3</th>\n",
       "      <td>131706.0</td>\n",
       "      <td>0.017308</td>\n",
       "      <td>1.361138</td>\n",
       "      <td>0.799169</td>\n",
       "      <td>4.303455</td>\n",
       "      <td>0.587501</td>\n",
       "      <td>0.721598</td>\n",
       "      <td>0.425481</td>\n",
       "      <td>0.246783</td>\n",
       "      <td>-1.809007</td>\n",
       "      <td>1.953909</td>\n",
       "      <td>-0.188659</td>\n",
       "      <td>-1.244541</td>\n",
       "      <td>-1.870228</td>\n",
       "      <td>0.817110</td>\n",
       "      <td>-0.116836</td>\n",
       "      <td>-0.041579</td>\n",
       "      <td>10.62</td>\n",
       "    </tr>\n",
       "    <tr>\n",
       "      <th>4</th>\n",
       "      <td>69671.0</td>\n",
       "      <td>-0.453713</td>\n",
       "      <td>-0.163659</td>\n",
       "      <td>0.786720</td>\n",
       "      <td>-2.349517</td>\n",
       "      <td>-1.205128</td>\n",
       "      <td>-0.731777</td>\n",
       "      <td>-0.705560</td>\n",
       "      <td>0.471720</td>\n",
       "      <td>-2.162942</td>\n",
       "      <td>0.825535</td>\n",
       "      <td>-0.754780</td>\n",
       "      <td>-1.201405</td>\n",
       "      <td>-0.236964</td>\n",
       "      <td>-0.026259</td>\n",
       "      <td>0.156511</td>\n",
       "      <td>-0.340305</td>\n",
       "      <td>15.00</td>\n",
       "    </tr>\n",
       "  </tbody>\n",
       "</table>\n",
       "</div>"
      ],
      "text/plain": [
       "       Time        V1        V2        V3        V4        V5        V6  \\\n",
       "0   27172.0 -0.358238  1.082731  0.639184  1.035113 -0.427959 -0.773610   \n",
       "1   56920.0  1.311263 -1.546836  1.276280 -1.126983 -2.320698 -0.171389   \n",
       "2   68134.0  1.105307 -0.119522  1.054853  1.378645 -0.904617 -0.076617   \n",
       "3  131706.0  0.017308  1.361138  0.799169  4.303455  0.587501  0.721598   \n",
       "4   69671.0 -0.453713 -0.163659  0.786720 -2.349517 -1.205128 -0.731777   \n",
       "\n",
       "         V7        V8        V9       V10       V11       V12       V13  \\\n",
       "0  0.523847  0.251635 -0.697094 -0.407532 -0.666092 -0.009874 -0.032802   \n",
       "1 -1.681770  0.208237 -1.143218  1.433559  0.805274 -0.482873 -0.782435   \n",
       "2 -0.495038  0.207886  0.741927 -0.037024  0.753014  0.809394 -1.168704   \n",
       "3  0.425481  0.246783 -1.809007  1.953909 -0.188659 -1.244541 -1.870228   \n",
       "4 -0.705560  0.471720 -2.162942  0.825535 -0.754780 -1.201405 -0.236964   \n",
       "\n",
       "        V14       V15       V16  Amount  \n",
       "0  0.657483  0.998145 -0.131667   60.00  \n",
       "1 -0.522893 -0.822288 -0.289640   56.00  \n",
       "2  0.031310 -1.177488 -0.218992   11.00  \n",
       "3  0.817110 -0.116836 -0.041579   10.62  \n",
       "4 -0.026259  0.156511 -0.340305   15.00  "
      ]
     },
     "execution_count": 20,
     "metadata": {},
     "output_type": "execute_result"
    }
   ],
   "source": [
    "pd.DataFrame(sel.fit_transform(X), columns = var_features).head()"
   ]
  },
  {
   "cell_type": "markdown",
   "metadata": {},
   "source": [
    "### 독립변수(연속형) : 입력변수(연속형) ---> 상관관계\n",
    "### 독립변수(연속형) : 입력변수(범주형) ---> LDA, Logistic\n",
    "### 독립변수(범주형) : 입력변수(연속형) ---> ANOVA\n",
    "### 독립변수(범주형) : 입력변수(범주형) ---> Chi-Squared"
   ]
  },
  {
   "cell_type": "markdown",
   "metadata": {},
   "source": [
    "- https://scikit-learn.org/stable/modules/feature_selection.html\n",
    "\n",
    "- ANOVA https://scikit-learn.org/stable/modules/generated/sklearn.feature_selection.f_classif.html"
   ]
  },
  {
   "cell_type": "markdown",
   "metadata": {},
   "source": [
    "### 나. 상관계수 (Pearson correlation)"
   ]
  },
  {
   "cell_type": "code",
   "execution_count": 21,
   "metadata": {},
   "outputs": [],
   "source": [
    "def corr_selector(X, y):\n",
    "\n",
    "    cor_list = []\n",
    "    for i in X.columns:\n",
    "        cor = np.corrcoef(X[i], y)[0, 1]\n",
    "        cor_list.append(cor)\n",
    "    cor_feat = X.iloc[:, np.argsort(np.abs(cor_list))[best_features*-1:]].columns.tolist()\n",
    "    cor_support = [True if i in cor_feat else False for i in feature_name]\n",
    "\n",
    "    return cor_feat, cor_support"
   ]
  },
  {
   "cell_type": "code",
   "execution_count": 22,
   "metadata": {
    "scrolled": true
   },
   "outputs": [
    {
     "data": {
      "text/plain": [
       "'V5/V21/V1/V2/V18/V9/V4/V11/V7/V3/V16/V10/V12/V17/V14'"
      ]
     },
     "execution_count": 22,
     "metadata": {},
     "output_type": "execute_result"
    },
    {
     "data": {
      "text/plain": [
       "'[False, True, True, True, True, True, False, True, False, True, True, True, True, False, True, False, True, True, True, False, False, True, False, False, False, False, False, False, False, False]'"
      ]
     },
     "execution_count": 22,
     "metadata": {},
     "output_type": "execute_result"
    }
   ],
   "source": [
    "corr_feature, corr_support = corr_selector(X, y)\n",
    "'/'.join(corr_feature)\n",
    "''.join(str(corr_support))"
   ]
  },
  {
   "cell_type": "markdown",
   "metadata": {},
   "source": [
    "### 다. 카이제곱"
   ]
  },
  {
   "cell_type": "code",
   "execution_count": 23,
   "metadata": {},
   "outputs": [],
   "source": [
    "from sklearn.feature_selection import SelectKBest\n",
    "from sklearn.feature_selection import chi2\n",
    "from sklearn.preprocessing import MinMaxScaler"
   ]
  },
  {
   "cell_type": "code",
   "execution_count": 24,
   "metadata": {},
   "outputs": [
    {
     "data": {
      "text/plain": [
       "15"
      ]
     },
     "execution_count": 24,
     "metadata": {},
     "output_type": "execute_result"
    }
   ],
   "source": [
    "best_features"
   ]
  },
  {
   "cell_type": "code",
   "execution_count": 25,
   "metadata": {
    "scrolled": true
   },
   "outputs": [
    {
     "data": {
      "text/plain": [
       "'V1,V3,V4,V6,V7,V9,V10,V11,V12,V14,V16,V17,V18,V19,Amount'"
      ]
     },
     "execution_count": 25,
     "metadata": {},
     "output_type": "execute_result"
    },
    {
     "data": {
      "text/plain": [
       "'[False  True False  True  True False  True  True False  True  True  True\\n  True False  True False  True  True  True  True False False False False\\n False False False False False  True]'"
      ]
     },
     "execution_count": 25,
     "metadata": {},
     "output_type": "execute_result"
    }
   ],
   "source": [
    "def Chi_selector(X, y):\n",
    "    chi_selector = SelectKBest(chi2, k=best_features)\n",
    "    X_norm = MinMaxScaler().fit_transform(X)\n",
    "    chi_selector.fit(X_norm, y)\n",
    "    chi_support = chi_selector.get_support()\n",
    "    chi_feature = X.loc[:, chi_support].columns.tolist()\n",
    "    \n",
    "    return chi_feature, chi_support\n",
    "\n",
    "chi_feature, chi_support = Chi_selector(X, y)\n",
    "','.join(chi_feature)\n",
    "''.join(str(chi_support))"
   ]
  },
  {
   "cell_type": "markdown",
   "metadata": {},
   "source": [
    "### 라. RFE(recursive feature elimination)"
   ]
  },
  {
   "cell_type": "code",
   "execution_count": 26,
   "metadata": {},
   "outputs": [],
   "source": [
    "from sklearn.feature_selection import RFE\n",
    "from sklearn.linear_model import LogisticRegression"
   ]
  },
  {
   "cell_type": "code",
   "execution_count": 27,
   "metadata": {
    "scrolled": true
   },
   "outputs": [
    {
     "data": {
      "text/plain": [
       "'Time,V1,V3,V4,V6,V7,V9,V10,V11,V12,V13,V14,V16,V17,V26'"
      ]
     },
     "execution_count": 27,
     "metadata": {},
     "output_type": "execute_result"
    },
    {
     "data": {
      "text/plain": [
       "'[ True  True False  True  True False  True  True False  True  True  True\\n  True  True  True False  True  True False False False False False False\\n False False  True False False False]'"
      ]
     },
     "execution_count": 27,
     "metadata": {},
     "output_type": "execute_result"
    }
   ],
   "source": [
    "def Wrapper_RFE(X, y):\n",
    "    rfe_selector = RFE(estimator=LogisticRegression(),\n",
    "                        n_features_to_select=best_features, step=20)\n",
    "    X_norm = MinMaxScaler().fit_transform(X)\n",
    "    rfe_selector.fit(X_norm, y)\n",
    "    rfe_support = rfe_selector.get_support()\n",
    "    rfe_feature = X.loc[:,rfe_support].columns.tolist()\n",
    "    \n",
    "    return rfe_support, rfe_feature\n",
    "\n",
    "rfe_support, rfe_feature = Wrapper_RFE(X, y)\n",
    "','.join(rfe_feature)\n",
    "''.join(str(rfe_support))"
   ]
  },
  {
   "cell_type": "markdown",
   "metadata": {},
   "source": [
    "### 마. SelectFromModel"
   ]
  },
  {
   "cell_type": "code",
   "execution_count": 68,
   "metadata": {},
   "outputs": [],
   "source": [
    "from sklearn.feature_selection import SelectFromModel"
   ]
  },
  {
   "cell_type": "code",
   "execution_count": 69,
   "metadata": {},
   "outputs": [
    {
     "data": {
      "text/plain": [
       "'V1,V2,V3,V4,V9,V10,V11,V12,V13,V14,V15,V16,V17,V22,V24'"
      ]
     },
     "execution_count": 69,
     "metadata": {},
     "output_type": "execute_result"
    },
    {
     "data": {
      "text/plain": [
       "15"
      ]
     },
     "execution_count": 69,
     "metadata": {},
     "output_type": "execute_result"
    }
   ],
   "source": [
    "def logistic_regression(X, y):\n",
    "    embeded_lr2_selector = SelectFromModel(LogisticRegression(), # default l2\n",
    "                                           threshold='median') \n",
    "    X_norm = MinMaxScaler().fit_transform(X)\n",
    "    embeded_lr2_selector.fit(X_norm, y)\n",
    "    embeded_lr2_support = embeded_lr2_selector.get_support()\n",
    "    embeded_lr2_feature = X.loc[:,embeded_lr2_support].columns.tolist()\n",
    "    \n",
    "    return embeded_lr2_support, embeded_lr2_feature\n",
    "\n",
    "embeded_lr2_support, embeded_lr2_feature = logistic_regression(X, y)\n",
    "','.join(embeded_lr2_feature)\n",
    "len(embeded_lr2_feature)"
   ]
  },
  {
   "cell_type": "code",
   "execution_count": 70,
   "metadata": {},
   "outputs": [
    {
     "data": {
      "text/plain": [
       "'V3/V4/V5/V7/V8/V9/V10/V11/V12/V13/V14/V16/V17/V18/V27'"
      ]
     },
     "execution_count": 70,
     "metadata": {},
     "output_type": "execute_result"
    }
   ],
   "source": [
    "from sklearn.ensemble import RandomForestClassifier\n",
    "def random_forest(X, y):\n",
    "    embeded_rf_selector = SelectFromModel(RandomForestClassifier(), \n",
    "                                          threshold='median')\n",
    "    embeded_rf_selector.fit(X, y)    \n",
    "    embeded_rf_support = embeded_rf_selector.get_support()\n",
    "    embeded_rf_feature = X.loc[:,embeded_rf_support].columns.tolist()\n",
    "    return embeded_rf_support, embeded_rf_feature\n",
    "\n",
    "embeded_rf_support, embeded_rf_feature = random_forest(X, y)\n",
    "'/'.join(embeded_rf_feature)"
   ]
  },
  {
   "cell_type": "code",
   "execution_count": 71,
   "metadata": {
    "scrolled": false
   },
   "outputs": [
    {
     "data": {
      "text/plain": [
       "RandomForestClassifier()"
      ]
     },
     "execution_count": 71,
     "metadata": {},
     "output_type": "execute_result"
    },
    {
     "data": {
      "text/plain": [
       "<Figure size 1800x432 with 0 Axes>"
      ]
     },
     "execution_count": 71,
     "metadata": {},
     "output_type": "execute_result"
    },
    {
     "data": {
      "text/plain": [
       "Text(0, 0.5, 'Features Importance')"
      ]
     },
     "execution_count": 71,
     "metadata": {},
     "output_type": "execute_result"
    },
    {
     "data": {
      "text/plain": [
       "([<matplotlib.axis.XTick at 0x190cc3021f0>,\n",
       "  <matplotlib.axis.XTick at 0x190cc447850>,\n",
       "  <matplotlib.axis.XTick at 0x190cc425580>,\n",
       "  <matplotlib.axis.XTick at 0x190cc75daf0>,\n",
       "  <matplotlib.axis.XTick at 0x190cc767040>,\n",
       "  <matplotlib.axis.XTick at 0x190cc767550>,\n",
       "  <matplotlib.axis.XTick at 0x190cc767700>,\n",
       "  <matplotlib.axis.XTick at 0x190cc767a60>,\n",
       "  <matplotlib.axis.XTick at 0x190cc767f70>,\n",
       "  <matplotlib.axis.XTick at 0x190cc76d4c0>,\n",
       "  <matplotlib.axis.XTick at 0x190cc76d9d0>,\n",
       "  <matplotlib.axis.XTick at 0x190cc76dee0>,\n",
       "  <matplotlib.axis.XTick at 0x190cc773430>,\n",
       "  <matplotlib.axis.XTick at 0x190cc773940>,\n",
       "  <matplotlib.axis.XTick at 0x190cc76da90>,\n",
       "  <matplotlib.axis.XTick at 0x190cc767b20>,\n",
       "  <matplotlib.axis.XTick at 0x190cc773580>,\n",
       "  <matplotlib.axis.XTick at 0x190cc77b190>,\n",
       "  <matplotlib.axis.XTick at 0x190cc77b6a0>,\n",
       "  <matplotlib.axis.XTick at 0x190cc77bbb0>,\n",
       "  <matplotlib.axis.XTick at 0x190cc780100>,\n",
       "  <matplotlib.axis.XTick at 0x190cc780610>,\n",
       "  <matplotlib.axis.XTick at 0x190cc780b20>,\n",
       "  <matplotlib.axis.XTick at 0x190cc785070>,\n",
       "  <matplotlib.axis.XTick at 0x190cc780190>,\n",
       "  <matplotlib.axis.XTick at 0x190cc77b220>,\n",
       "  <matplotlib.axis.XTick at 0x190cc76d700>,\n",
       "  <matplotlib.axis.XTick at 0x190cc785580>,\n",
       "  <matplotlib.axis.XTick at 0x190cc785a90>,\n",
       "  <matplotlib.axis.XTick at 0x190cc785fa0>],\n",
       " [Text(0, 0, 'Time'),\n",
       "  Text(1, 0, 'V1'),\n",
       "  Text(2, 0, 'V2'),\n",
       "  Text(3, 0, 'V3'),\n",
       "  Text(4, 0, 'V4'),\n",
       "  Text(5, 0, 'V5'),\n",
       "  Text(6, 0, 'V6'),\n",
       "  Text(7, 0, 'V7'),\n",
       "  Text(8, 0, 'V8'),\n",
       "  Text(9, 0, 'V9'),\n",
       "  Text(10, 0, 'V10'),\n",
       "  Text(11, 0, 'V11'),\n",
       "  Text(12, 0, 'V12'),\n",
       "  Text(13, 0, 'V13'),\n",
       "  Text(14, 0, 'V14'),\n",
       "  Text(15, 0, 'V15'),\n",
       "  Text(16, 0, 'V16'),\n",
       "  Text(17, 0, 'V17'),\n",
       "  Text(18, 0, 'V18'),\n",
       "  Text(19, 0, 'V19'),\n",
       "  Text(20, 0, 'V20'),\n",
       "  Text(21, 0, 'V21'),\n",
       "  Text(22, 0, 'V22'),\n",
       "  Text(23, 0, 'V23'),\n",
       "  Text(24, 0, 'V24'),\n",
       "  Text(25, 0, 'V25'),\n",
       "  Text(26, 0, 'V26'),\n",
       "  Text(27, 0, 'V27'),\n",
       "  Text(28, 0, 'V28'),\n",
       "  Text(29, 0, 'Amount')])"
      ]
     },
     "execution_count": 71,
     "metadata": {},
     "output_type": "execute_result"
    },
    {
     "data": {
      "image/png": "[encoded data removed]",
      "text/plain": [
       "<Figure size 1800x432 with 1 Axes>"
      ]
     },
     "metadata": {},
     "output_type": "display_data"
    }
   ],
   "source": [
    "forest = RandomForestClassifier()\n",
    "forest.fit(X, y)\n",
    "plt.figure(figsize=(25,6)); plt.ylabel('Features Importance')\n",
    "plt.xticks(np.arange(X.shape[1]), X.columns, rotation='45')\n",
    "ax = plt.bar(range(X.shape[1]), forest.feature_importances_, color='r')"
   ]
  },
  {
   "cell_type": "markdown",
   "metadata": {},
   "source": [
    "### 종합 평점"
   ]
  },
  {
   "cell_type": "code",
   "execution_count": 72,
   "metadata": {},
   "outputs": [
    {
     "data": {
      "text/plain": [
       "<matplotlib.image.AxesImage at 0x190cd7d3580>"
      ]
     },
     "execution_count": 72,
     "metadata": {},
     "output_type": "execute_result"
    },
    {
     "data": {
      "text/plain": [
       "Text(0.5, 0, '노랑은 True, 빨강은 False')"
      ]
     },
     "execution_count": 72,
     "metadata": {},
     "output_type": "execute_result"
    },
    {
     "data": {
      "text/plain": [
       "([], [])"
      ]
     },
     "execution_count": 72,
     "metadata": {},
     "output_type": "execute_result"
    },
    {
     "data": {
      "text/plain": [
       "<matplotlib.colorbar.Colorbar at 0x190cd57aeb0>"
      ]
     },
     "execution_count": 72,
     "metadata": {},
     "output_type": "execute_result"
    },
    {
     "data": {
      "text/plain": [
       "<matplotlib.image.AxesImage at 0x190d0cd13d0>"
      ]
     },
     "execution_count": 72,
     "metadata": {},
     "output_type": "execute_result"
    },
    {
     "data": {
      "text/plain": [
       "Text(0.5, 0, '노랑은 True, 빨강은 False')"
      ]
     },
     "execution_count": 72,
     "metadata": {},
     "output_type": "execute_result"
    },
    {
     "data": {
      "text/plain": [
       "([], [])"
      ]
     },
     "execution_count": 72,
     "metadata": {},
     "output_type": "execute_result"
    },
    {
     "data": {
      "text/plain": [
       "<matplotlib.colorbar.Colorbar at 0x190d0cd1880>"
      ]
     },
     "execution_count": 72,
     "metadata": {},
     "output_type": "execute_result"
    },
    {
     "data": {
      "text/plain": [
       "<matplotlib.image.AxesImage at 0x190d0d46040>"
      ]
     },
     "execution_count": 72,
     "metadata": {},
     "output_type": "execute_result"
    },
    {
     "data": {
      "text/plain": [
       "Text(0.5, 0, '노랑은 True, 빨강은 False')"
      ]
     },
     "execution_count": 72,
     "metadata": {},
     "output_type": "execute_result"
    },
    {
     "data": {
      "text/plain": [
       "([], [])"
      ]
     },
     "execution_count": 72,
     "metadata": {},
     "output_type": "execute_result"
    },
    {
     "data": {
      "text/plain": [
       "<matplotlib.colorbar.Colorbar at 0x190d0d46490>"
      ]
     },
     "execution_count": 72,
     "metadata": {},
     "output_type": "execute_result"
    },
    {
     "data": {
      "text/plain": [
       "<matplotlib.image.AxesImage at 0x190d0dade20>"
      ]
     },
     "execution_count": 72,
     "metadata": {},
     "output_type": "execute_result"
    },
    {
     "data": {
      "text/plain": [
       "Text(0.5, 0, '노랑은 True, 빨강은 False')"
      ]
     },
     "execution_count": 72,
     "metadata": {},
     "output_type": "execute_result"
    },
    {
     "data": {
      "text/plain": [
       "([], [])"
      ]
     },
     "execution_count": 72,
     "metadata": {},
     "output_type": "execute_result"
    },
    {
     "data": {
      "text/plain": [
       "<matplotlib.colorbar.Colorbar at 0x190d0d46730>"
      ]
     },
     "execution_count": 72,
     "metadata": {},
     "output_type": "execute_result"
    },
    {
     "data": {
      "text/plain": [
       "<matplotlib.image.AxesImage at 0x190d0e20b20>"
      ]
     },
     "execution_count": 72,
     "metadata": {},
     "output_type": "execute_result"
    },
    {
     "data": {
      "text/plain": [
       "Text(0.5, 0, '노랑은 True, 빨강은 False')"
      ]
     },
     "execution_count": 72,
     "metadata": {},
     "output_type": "execute_result"
    },
    {
     "data": {
      "text/plain": [
       "([], [])"
      ]
     },
     "execution_count": 72,
     "metadata": {},
     "output_type": "execute_result"
    },
    {
     "data": {
      "text/plain": [
       "<matplotlib.colorbar.Colorbar at 0x190d0e20e80>"
      ]
     },
     "execution_count": 72,
     "metadata": {},
     "output_type": "execute_result"
    },
    {
     "data": {
      "image/png": "[encoded data removed]",
      "text/plain": [
       "<Figure size 1152x144 with 2 Axes>"
      ]
     },
     "metadata": {},
     "output_type": "display_data"
    },
    {
     "data": {
      "image/png": "[encoded data removed]",
      "text/plain": [
       "<Figure size 1152x144 with 2 Axes>"
      ]
     },
     "metadata": {},
     "output_type": "display_data"
    },
    {
     "data": {
      "image/png": "[encoded data removed]",
      "text/plain": [
       "<Figure size 1152x144 with 2 Axes>"
      ]
     },
     "metadata": {},
     "output_type": "display_data"
    },
    {
     "data": {
      "image/png": "[encoded data removed]",
      "text/plain": [
       "<Figure size 1152x144 with 2 Axes>"
      ]
     },
     "metadata": {},
     "output_type": "display_data"
    },
    {
     "data": {
      "image/png": "[encoded data removed]",
      "text/plain": [
       "<Figure size 1152x144 with 2 Axes>"
      ]
     },
     "metadata": {},
     "output_type": "display_data"
    }
   ],
   "source": [
    "supports= [corr_support, chi_support, rfe_support, \n",
    "           embeded_lr2_support, embeded_rf_support]\n",
    "for sp in supports :\n",
    "    plt.matshow(np.array(sp).reshape(1, -1), cmap='autumn')\n",
    "    plt.xlabel('노랑은 True, 빨강은 False')\n",
    "    plt.yticks(());plt.colorbar()"
   ]
  },
  {
   "cell_type": "code",
   "execution_count": 73,
   "metadata": {},
   "outputs": [
    {
     "data": {
      "text/html": [
       "<div>\n",
       "<style scoped>\n",
       "    .dataframe tbody tr th:only-of-type {\n",
       "        vertical-align: middle;\n",
       "    }\n",
       "\n",
       "    .dataframe tbody tr th {\n",
       "        vertical-align: top;\n",
       "    }\n",
       "\n",
       "    .dataframe thead th {\n",
       "        text-align: right;\n",
       "    }\n",
       "</style>\n",
       "<table border=\"1\" class=\"dataframe\">\n",
       "  <thead>\n",
       "    <tr style=\"text-align: right;\">\n",
       "      <th></th>\n",
       "      <th>변수명</th>\n",
       "      <th>Pearson</th>\n",
       "      <th>Chi-2</th>\n",
       "      <th>RFE</th>\n",
       "      <th>Logit_L2</th>\n",
       "      <th>RF</th>\n",
       "      <th>총점</th>\n",
       "    </tr>\n",
       "  </thead>\n",
       "  <tbody>\n",
       "    <tr>\n",
       "      <th>10</th>\n",
       "      <td>V10</td>\n",
       "      <td>True</td>\n",
       "      <td>True</td>\n",
       "      <td>True</td>\n",
       "      <td>True</td>\n",
       "      <td>True</td>\n",
       "      <td>5</td>\n",
       "    </tr>\n",
       "    <tr>\n",
       "      <th>14</th>\n",
       "      <td>V14</td>\n",
       "      <td>True</td>\n",
       "      <td>True</td>\n",
       "      <td>True</td>\n",
       "      <td>True</td>\n",
       "      <td>True</td>\n",
       "      <td>5</td>\n",
       "    </tr>\n",
       "    <tr>\n",
       "      <th>3</th>\n",
       "      <td>V3</td>\n",
       "      <td>True</td>\n",
       "      <td>True</td>\n",
       "      <td>True</td>\n",
       "      <td>True</td>\n",
       "      <td>True</td>\n",
       "      <td>5</td>\n",
       "    </tr>\n",
       "    <tr>\n",
       "      <th>4</th>\n",
       "      <td>V4</td>\n",
       "      <td>True</td>\n",
       "      <td>True</td>\n",
       "      <td>True</td>\n",
       "      <td>True</td>\n",
       "      <td>True</td>\n",
       "      <td>5</td>\n",
       "    </tr>\n",
       "    <tr>\n",
       "      <th>17</th>\n",
       "      <td>V17</td>\n",
       "      <td>True</td>\n",
       "      <td>True</td>\n",
       "      <td>True</td>\n",
       "      <td>True</td>\n",
       "      <td>True</td>\n",
       "      <td>5</td>\n",
       "    </tr>\n",
       "    <tr>\n",
       "      <th>16</th>\n",
       "      <td>V16</td>\n",
       "      <td>True</td>\n",
       "      <td>True</td>\n",
       "      <td>True</td>\n",
       "      <td>True</td>\n",
       "      <td>True</td>\n",
       "      <td>5</td>\n",
       "    </tr>\n",
       "    <tr>\n",
       "      <th>9</th>\n",
       "      <td>V9</td>\n",
       "      <td>True</td>\n",
       "      <td>True</td>\n",
       "      <td>True</td>\n",
       "      <td>True</td>\n",
       "      <td>True</td>\n",
       "      <td>5</td>\n",
       "    </tr>\n",
       "    <tr>\n",
       "      <th>11</th>\n",
       "      <td>V11</td>\n",
       "      <td>True</td>\n",
       "      <td>True</td>\n",
       "      <td>True</td>\n",
       "      <td>True</td>\n",
       "      <td>True</td>\n",
       "      <td>5</td>\n",
       "    </tr>\n",
       "    <tr>\n",
       "      <th>12</th>\n",
       "      <td>V12</td>\n",
       "      <td>True</td>\n",
       "      <td>True</td>\n",
       "      <td>True</td>\n",
       "      <td>True</td>\n",
       "      <td>True</td>\n",
       "      <td>5</td>\n",
       "    </tr>\n",
       "    <tr>\n",
       "      <th>2</th>\n",
       "      <td>V2</td>\n",
       "      <td>True</td>\n",
       "      <td>True</td>\n",
       "      <td>True</td>\n",
       "      <td>True</td>\n",
       "      <td>False</td>\n",
       "      <td>4</td>\n",
       "    </tr>\n",
       "    <tr>\n",
       "      <th>1</th>\n",
       "      <td>V1</td>\n",
       "      <td>True</td>\n",
       "      <td>True</td>\n",
       "      <td>True</td>\n",
       "      <td>True</td>\n",
       "      <td>False</td>\n",
       "      <td>4</td>\n",
       "    </tr>\n",
       "    <tr>\n",
       "      <th>18</th>\n",
       "      <td>V18</td>\n",
       "      <td>True</td>\n",
       "      <td>True</td>\n",
       "      <td>False</td>\n",
       "      <td>False</td>\n",
       "      <td>True</td>\n",
       "      <td>3</td>\n",
       "    </tr>\n",
       "    <tr>\n",
       "      <th>7</th>\n",
       "      <td>V7</td>\n",
       "      <td>True</td>\n",
       "      <td>True</td>\n",
       "      <td>False</td>\n",
       "      <td>False</td>\n",
       "      <td>True</td>\n",
       "      <td>3</td>\n",
       "    </tr>\n",
       "    <tr>\n",
       "      <th>13</th>\n",
       "      <td>V13</td>\n",
       "      <td>False</td>\n",
       "      <td>False</td>\n",
       "      <td>True</td>\n",
       "      <td>True</td>\n",
       "      <td>True</td>\n",
       "      <td>3</td>\n",
       "    </tr>\n",
       "    <tr>\n",
       "      <th>15</th>\n",
       "      <td>V15</td>\n",
       "      <td>False</td>\n",
       "      <td>False</td>\n",
       "      <td>True</td>\n",
       "      <td>True</td>\n",
       "      <td>False</td>\n",
       "      <td>2</td>\n",
       "    </tr>\n",
       "    <tr>\n",
       "      <th>22</th>\n",
       "      <td>V22</td>\n",
       "      <td>False</td>\n",
       "      <td>False</td>\n",
       "      <td>True</td>\n",
       "      <td>True</td>\n",
       "      <td>False</td>\n",
       "      <td>2</td>\n",
       "    </tr>\n",
       "    <tr>\n",
       "      <th>8</th>\n",
       "      <td>V8</td>\n",
       "      <td>True</td>\n",
       "      <td>False</td>\n",
       "      <td>False</td>\n",
       "      <td>False</td>\n",
       "      <td>True</td>\n",
       "      <td>2</td>\n",
       "    </tr>\n",
       "    <tr>\n",
       "      <th>5</th>\n",
       "      <td>V5</td>\n",
       "      <td>True</td>\n",
       "      <td>False</td>\n",
       "      <td>False</td>\n",
       "      <td>False</td>\n",
       "      <td>True</td>\n",
       "      <td>2</td>\n",
       "    </tr>\n",
       "    <tr>\n",
       "      <th>24</th>\n",
       "      <td>V24</td>\n",
       "      <td>False</td>\n",
       "      <td>False</td>\n",
       "      <td>True</td>\n",
       "      <td>True</td>\n",
       "      <td>False</td>\n",
       "      <td>2</td>\n",
       "    </tr>\n",
       "    <tr>\n",
       "      <th>27</th>\n",
       "      <td>V27</td>\n",
       "      <td>False</td>\n",
       "      <td>False</td>\n",
       "      <td>False</td>\n",
       "      <td>False</td>\n",
       "      <td>True</td>\n",
       "      <td>1</td>\n",
       "    </tr>\n",
       "    <tr>\n",
       "      <th>0</th>\n",
       "      <td>Time</td>\n",
       "      <td>False</td>\n",
       "      <td>True</td>\n",
       "      <td>False</td>\n",
       "      <td>False</td>\n",
       "      <td>False</td>\n",
       "      <td>1</td>\n",
       "    </tr>\n",
       "    <tr>\n",
       "      <th>19</th>\n",
       "      <td>V19</td>\n",
       "      <td>False</td>\n",
       "      <td>True</td>\n",
       "      <td>False</td>\n",
       "      <td>False</td>\n",
       "      <td>False</td>\n",
       "      <td>1</td>\n",
       "    </tr>\n",
       "    <tr>\n",
       "      <th>21</th>\n",
       "      <td>V21</td>\n",
       "      <td>False</td>\n",
       "      <td>False</td>\n",
       "      <td>False</td>\n",
       "      <td>False</td>\n",
       "      <td>False</td>\n",
       "      <td>0</td>\n",
       "    </tr>\n",
       "    <tr>\n",
       "      <th>20</th>\n",
       "      <td>V20</td>\n",
       "      <td>False</td>\n",
       "      <td>False</td>\n",
       "      <td>False</td>\n",
       "      <td>False</td>\n",
       "      <td>False</td>\n",
       "      <td>0</td>\n",
       "    </tr>\n",
       "    <tr>\n",
       "      <th>23</th>\n",
       "      <td>V23</td>\n",
       "      <td>False</td>\n",
       "      <td>False</td>\n",
       "      <td>False</td>\n",
       "      <td>False</td>\n",
       "      <td>False</td>\n",
       "      <td>0</td>\n",
       "    </tr>\n",
       "    <tr>\n",
       "      <th>25</th>\n",
       "      <td>V25</td>\n",
       "      <td>False</td>\n",
       "      <td>False</td>\n",
       "      <td>False</td>\n",
       "      <td>False</td>\n",
       "      <td>False</td>\n",
       "      <td>0</td>\n",
       "    </tr>\n",
       "    <tr>\n",
       "      <th>26</th>\n",
       "      <td>V26</td>\n",
       "      <td>False</td>\n",
       "      <td>False</td>\n",
       "      <td>False</td>\n",
       "      <td>False</td>\n",
       "      <td>False</td>\n",
       "      <td>0</td>\n",
       "    </tr>\n",
       "    <tr>\n",
       "      <th>6</th>\n",
       "      <td>V6</td>\n",
       "      <td>False</td>\n",
       "      <td>False</td>\n",
       "      <td>False</td>\n",
       "      <td>False</td>\n",
       "      <td>False</td>\n",
       "      <td>0</td>\n",
       "    </tr>\n",
       "    <tr>\n",
       "      <th>28</th>\n",
       "      <td>V28</td>\n",
       "      <td>False</td>\n",
       "      <td>False</td>\n",
       "      <td>False</td>\n",
       "      <td>False</td>\n",
       "      <td>False</td>\n",
       "      <td>0</td>\n",
       "    </tr>\n",
       "    <tr>\n",
       "      <th>29</th>\n",
       "      <td>Amount</td>\n",
       "      <td>False</td>\n",
       "      <td>False</td>\n",
       "      <td>False</td>\n",
       "      <td>False</td>\n",
       "      <td>False</td>\n",
       "      <td>0</td>\n",
       "    </tr>\n",
       "  </tbody>\n",
       "</table>\n",
       "</div>"
      ],
      "text/plain": [
       "       변수명  Pearson  Chi-2    RFE  Logit_L2     RF  총점\n",
       "10     V10     True   True   True      True   True   5\n",
       "14     V14     True   True   True      True   True   5\n",
       "3       V3     True   True   True      True   True   5\n",
       "4       V4     True   True   True      True   True   5\n",
       "17     V17     True   True   True      True   True   5\n",
       "16     V16     True   True   True      True   True   5\n",
       "9       V9     True   True   True      True   True   5\n",
       "11     V11     True   True   True      True   True   5\n",
       "12     V12     True   True   True      True   True   5\n",
       "2       V2     True   True   True      True  False   4\n",
       "1       V1     True   True   True      True  False   4\n",
       "18     V18     True   True  False     False   True   3\n",
       "7       V7     True   True  False     False   True   3\n",
       "13     V13    False  False   True      True   True   3\n",
       "15     V15    False  False   True      True  False   2\n",
       "22     V22    False  False   True      True  False   2\n",
       "8       V8     True  False  False     False   True   2\n",
       "5       V5     True  False  False     False   True   2\n",
       "24     V24    False  False   True      True  False   2\n",
       "27     V27    False  False  False     False   True   1\n",
       "0     Time    False   True  False     False  False   1\n",
       "19     V19    False   True  False     False  False   1\n",
       "21     V21    False  False  False     False  False   0\n",
       "20     V20    False  False  False     False  False   0\n",
       "23     V23    False  False  False     False  False   0\n",
       "25     V25    False  False  False     False  False   0\n",
       "26     V26    False  False  False     False  False   0\n",
       "6       V6    False  False  False     False  False   0\n",
       "28     V28    False  False  False     False  False   0\n",
       "29  Amount    False  False  False     False  False   0"
      ]
     },
     "execution_count": 73,
     "metadata": {},
     "output_type": "execute_result"
    }
   ],
   "source": [
    "feature_list = pd.DataFrame({'변수명':feature_name, 'Pearson':corr_support, \n",
    "                             'Chi-2':chi_support, 'RFE':rfe_support, \n",
    "                             'Logit_L2':embeded_lr2_support, \n",
    "                             'RF':embeded_rf_support\n",
    "                            })\n",
    "feature_list['총점'] = np.sum(feature_list, axis=1)\n",
    "feature_list = feature_list.sort_values(['총점'] , ascending=False)\n",
    "feature_list"
   ]
  },
  {
   "cell_type": "code",
   "execution_count": 74,
   "metadata": {},
   "outputs": [
    {
     "data": {
      "text/plain": [
       "\"\\nfeature_list.to_excel('../output/feature.xlsx')\\ndata01 = pd.read_excel('../output/feature.xlsx', index_col=0)\\ndata01.head(2)\\n\\nfeature_list.to_pickle('../output/feature.pkl')\\ndata02 = pd.read_pickle('../output/feature.pkl')\\ndata02.head(2)\\n\""
      ]
     },
     "execution_count": 74,
     "metadata": {},
     "output_type": "execute_result"
    }
   ],
   "source": [
    "'''\n",
    "feature_list.to_excel('../output/feature.xlsx')\n",
    "data01 = pd.read_excel('../output/feature.xlsx', index_col=0)\n",
    "data01.head(2)\n",
    "\n",
    "feature_list.to_pickle('../output/feature.pkl')\n",
    "data02 = pd.read_pickle('../output/feature.pkl')\n",
    "data02.head(2)\n",
    "'''"
   ]
  },
  {
   "cell_type": "code",
   "execution_count": 75,
   "metadata": {},
   "outputs": [
    {
     "data": {
      "text/plain": [
       "<AxesSubplot:xlabel='변수명'>"
      ]
     },
     "execution_count": 75,
     "metadata": {},
     "output_type": "execute_result"
    },
    {
     "data": {
      "image/png": "[encoded data removed]",
      "text/plain": [
       "<Figure size 1800x360 with 1 Axes>"
      ]
     },
     "metadata": {},
     "output_type": "display_data"
    }
   ],
   "source": [
    "feature = feature_list.set_index('변수명')\n",
    "pd.DataFrame(feature).총점.plot(kind='bar', rot = '70', figsize = (25, 5))"
   ]
  },
  {
   "cell_type": "code",
   "execution_count": 76,
   "metadata": {},
   "outputs": [
    {
     "data": {
      "text/plain": [
       "(30, 6)"
      ]
     },
     "execution_count": 76,
     "metadata": {},
     "output_type": "execute_result"
    },
    {
     "data": {
      "text/plain": [
       "(14, 6)"
      ]
     },
     "execution_count": 76,
     "metadata": {},
     "output_type": "execute_result"
    },
    {
     "data": {
      "text/plain": [
       "Index(['V10', 'V14', 'V3', 'V4', 'V17', 'V16', 'V9', 'V11', 'V12', 'V2', 'V1',\n",
       "       'V18', 'V7', 'V13'],\n",
       "      dtype='object', name='변수명')"
      ]
     },
     "execution_count": 76,
     "metadata": {},
     "output_type": "execute_result"
    }
   ],
   "source": [
    "feature.shape\n",
    "feature_select = feature[feature['총점'] >= 3]\n",
    "feature_select.shape\n",
    "feature_select.index"
   ]
  },
  {
   "cell_type": "code",
   "execution_count": 77,
   "metadata": {},
   "outputs": [
    {
     "name": "stdout",
     "output_type": "stream",
     "text": [
      "nan, inf & -inf 의 개수는 ?   0\n"
     ]
    }
   ],
   "source": [
    "print('nan, inf & -inf 의 개수는 ?  ', df.isin([np.nan, np.inf, -np.inf]).any(1).sum())"
   ]
  },
  {
   "cell_type": "code",
   "execution_count": 78,
   "metadata": {},
   "outputs": [
    {
     "data": {
      "text/plain": [
       "<AxesSubplot:>"
      ]
     },
     "execution_count": 78,
     "metadata": {},
     "output_type": "execute_result"
    },
    {
     "data": {
      "text/plain": [
       "(array([ 0.5,  1.5,  2.5,  3.5,  4.5,  5.5,  6.5,  7.5,  8.5,  9.5, 10.5,\n",
       "        11.5, 12.5, 13.5]),\n",
       " [Text(0.5, 0, 'V10'),\n",
       "  Text(1.5, 0, 'V14'),\n",
       "  Text(2.5, 0, 'V3'),\n",
       "  Text(3.5, 0, 'V4'),\n",
       "  Text(4.5, 0, 'V17'),\n",
       "  Text(5.5, 0, 'V16'),\n",
       "  Text(6.5, 0, 'V9'),\n",
       "  Text(7.5, 0, 'V11'),\n",
       "  Text(8.5, 0, 'V12'),\n",
       "  Text(9.5, 0, 'V2'),\n",
       "  Text(10.5, 0, 'V1'),\n",
       "  Text(11.5, 0, 'V18'),\n",
       "  Text(12.5, 0, 'V7'),\n",
       "  Text(13.5, 0, 'V13')])"
      ]
     },
     "execution_count": 78,
     "metadata": {},
     "output_type": "execute_result"
    },
    {
     "data": {
      "image/png": "[encoded data removed]",
      "text/plain": [
       "<Figure size 864x576 with 2 Axes>"
      ]
     },
     "metadata": {},
     "output_type": "display_data"
    }
   ],
   "source": [
    "X = X[feature_select.index]\n",
    "corr_matrix = X.corr(method = \"spearman\")\n",
    "fig, ax = plt.subplots(figsize=(12,8))\n",
    "sns.heatmap(data = corr_matrix, annot = True, linewidths=.5, ax=ax)\n",
    "plt.xticks(rotation=45)"
   ]
  },
  {
   "cell_type": "markdown",
   "metadata": {},
   "source": [
    "# VIF(variance_inflation_factor)"
   ]
  },
  {
   "cell_type": "code",
   "execution_count": 79,
   "metadata": {},
   "outputs": [
    {
     "data": {
      "text/html": [
       "<div>\n",
       "<style scoped>\n",
       "    .dataframe tbody tr th:only-of-type {\n",
       "        vertical-align: middle;\n",
       "    }\n",
       "\n",
       "    .dataframe tbody tr th {\n",
       "        vertical-align: top;\n",
       "    }\n",
       "\n",
       "    .dataframe thead th {\n",
       "        text-align: right;\n",
       "    }\n",
       "</style>\n",
       "<table border=\"1\" class=\"dataframe\">\n",
       "  <thead>\n",
       "    <tr style=\"text-align: right;\">\n",
       "      <th></th>\n",
       "      <th>VIF Factor</th>\n",
       "      <th>features</th>\n",
       "    </tr>\n",
       "  </thead>\n",
       "  <tbody>\n",
       "    <tr>\n",
       "      <th>0</th>\n",
       "      <td>1.000366</td>\n",
       "      <td>V4</td>\n",
       "    </tr>\n",
       "    <tr>\n",
       "      <th>1</th>\n",
       "      <td>1.000384</td>\n",
       "      <td>V13</td>\n",
       "    </tr>\n",
       "    <tr>\n",
       "      <th>2</th>\n",
       "      <td>1.000792</td>\n",
       "      <td>V11</td>\n",
       "    </tr>\n",
       "    <tr>\n",
       "      <th>3</th>\n",
       "      <td>1.000954</td>\n",
       "      <td>V2</td>\n",
       "    </tr>\n",
       "    <tr>\n",
       "      <th>4</th>\n",
       "      <td>1.000970</td>\n",
       "      <td>V16</td>\n",
       "    </tr>\n",
       "  </tbody>\n",
       "</table>\n",
       "</div>"
      ],
      "text/plain": [
       "   VIF Factor features\n",
       "0    1.000366       V4\n",
       "1    1.000384      V13\n",
       "2    1.000792      V11\n",
       "3    1.000954       V2\n",
       "4    1.000970      V16"
      ]
     },
     "execution_count": 79,
     "metadata": {},
     "output_type": "execute_result"
    }
   ],
   "source": [
    "from statsmodels.stats.outliers_influence import variance_inflation_factor\n",
    "vif = pd.DataFrame()\n",
    "vif[\"VIF Factor\"] = [variance_inflation_factor(X.values, i) for i in range(X.shape[1])]\n",
    "vif[\"features\"] = X.columns\n",
    "vif = vif.sort_values(\"VIF Factor\").reset_index(drop=True)\n",
    "vif.head()"
   ]
  },
  {
   "cell_type": "code",
   "execution_count": 80,
   "metadata": {
    "scrolled": false
   },
   "outputs": [
    {
     "data": {
      "text/html": [
       "<div>\n",
       "<style scoped>\n",
       "    .dataframe tbody tr th:only-of-type {\n",
       "        vertical-align: middle;\n",
       "    }\n",
       "\n",
       "    .dataframe tbody tr th {\n",
       "        vertical-align: top;\n",
       "    }\n",
       "\n",
       "    .dataframe thead th {\n",
       "        text-align: right;\n",
       "    }\n",
       "</style>\n",
       "<table border=\"1\" class=\"dataframe\">\n",
       "  <thead>\n",
       "    <tr style=\"text-align: right;\">\n",
       "      <th></th>\n",
       "      <th>VIF Factor</th>\n",
       "      <th>features</th>\n",
       "    </tr>\n",
       "  </thead>\n",
       "  <tbody>\n",
       "    <tr>\n",
       "      <th>0</th>\n",
       "      <td>1.000366</td>\n",
       "      <td>V4</td>\n",
       "    </tr>\n",
       "    <tr>\n",
       "      <th>1</th>\n",
       "      <td>1.000384</td>\n",
       "      <td>V13</td>\n",
       "    </tr>\n",
       "    <tr>\n",
       "      <th>2</th>\n",
       "      <td>1.000792</td>\n",
       "      <td>V11</td>\n",
       "    </tr>\n",
       "    <tr>\n",
       "      <th>3</th>\n",
       "      <td>1.000954</td>\n",
       "      <td>V2</td>\n",
       "    </tr>\n",
       "    <tr>\n",
       "      <th>4</th>\n",
       "      <td>1.000970</td>\n",
       "      <td>V16</td>\n",
       "    </tr>\n",
       "    <tr>\n",
       "      <th>5</th>\n",
       "      <td>1.000980</td>\n",
       "      <td>V18</td>\n",
       "    </tr>\n",
       "    <tr>\n",
       "      <th>6</th>\n",
       "      <td>1.001119</td>\n",
       "      <td>V9</td>\n",
       "    </tr>\n",
       "    <tr>\n",
       "      <th>7</th>\n",
       "      <td>1.001433</td>\n",
       "      <td>V14</td>\n",
       "    </tr>\n",
       "    <tr>\n",
       "      <th>8</th>\n",
       "      <td>1.001486</td>\n",
       "      <td>V12</td>\n",
       "    </tr>\n",
       "    <tr>\n",
       "      <th>9</th>\n",
       "      <td>1.002169</td>\n",
       "      <td>V17</td>\n",
       "    </tr>\n",
       "    <tr>\n",
       "      <th>10</th>\n",
       "      <td>1.002770</td>\n",
       "      <td>V1</td>\n",
       "    </tr>\n",
       "    <tr>\n",
       "      <th>11</th>\n",
       "      <td>1.003262</td>\n",
       "      <td>V7</td>\n",
       "    </tr>\n",
       "    <tr>\n",
       "      <th>12</th>\n",
       "      <td>1.004681</td>\n",
       "      <td>V10</td>\n",
       "    </tr>\n",
       "    <tr>\n",
       "      <th>13</th>\n",
       "      <td>1.005072</td>\n",
       "      <td>V3</td>\n",
       "    </tr>\n",
       "  </tbody>\n",
       "</table>\n",
       "</div>"
      ],
      "text/plain": [
       "    VIF Factor features\n",
       "0     1.000366       V4\n",
       "1     1.000384      V13\n",
       "2     1.000792      V11\n",
       "3     1.000954       V2\n",
       "4     1.000970      V16\n",
       "5     1.000980      V18\n",
       "6     1.001119       V9\n",
       "7     1.001433      V14\n",
       "8     1.001486      V12\n",
       "9     1.002169      V17\n",
       "10    1.002770       V1\n",
       "11    1.003262       V7\n",
       "12    1.004681      V10\n",
       "13    1.005072       V3"
      ]
     },
     "execution_count": 80,
     "metadata": {},
     "output_type": "execute_result"
    }
   ],
   "source": [
    "vif"
   ]
  },
  {
   "cell_type": "markdown",
   "metadata": {},
   "source": [
    "# END"
   ]
  },
  {
   "cell_type": "code",
   "execution_count": null,
   "metadata": {},
   "outputs": [],
   "source": []
  }
 ],
 "metadata": {
  "kernelspec": {
   "display_name": "Python 3",
   "language": "python",
   "name": "python3"
  },
  "language_info": {
   "codemirror_mode": {
    "name": "ipython",
    "version": 3
   },
   "file_extension": ".py",
   "mimetype": "text/x-python",
   "name": "python",
   "nbconvert_exporter": "python",
   "pygments_lexer": "ipython3",
   "version": "3.8.8"
  }
 },
 "nbformat": 4,
 "nbformat_minor": 2
}
