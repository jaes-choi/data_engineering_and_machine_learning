{
 "cells": [
  {
   "cell_type": "markdown",
   "metadata": {},
   "source": [
    "# Multiclass and multioutput algorithms\n",
    "https://scikit-learn.org/stable/modules/multiclass.html#\n",
    "<img src='https://scikit-learn.org/stable/_images/multi_org_chart.png'>"
   ]
  },
  {
   "cell_type": "code",
   "execution_count": 1,
   "metadata": {},
   "outputs": [
    {
     "data": {
      "text/html": [
       "<style>.container { width:100% !important; }</style>"
      ],
      "text/plain": [
       "<IPython.core.display.HTML object>"
      ]
     },
     "metadata": {},
     "output_type": "display_data"
    }
   ],
   "source": [
    "from IPython.core.interactiveshell import InteractiveShell\n",
    "InteractiveShell.ast_node_interactivity = 'all'\n",
    "from IPython.core.display import display, HTML\n",
    "display(HTML(\"<style>.container { width:100% !important; }</style>\"))\n",
    "import warnings\n",
    "warnings.filterwarnings('ignore')\n",
    "import pandas as pd\n",
    "import matplotlib.pyplot as plt\n",
    "import seaborn as sns; sns.set()\n",
    "get_ipython().run_line_magic('matplotlib', 'inline')"
   ]
  },
  {
   "cell_type": "code",
   "execution_count": 2,
   "metadata": {},
   "outputs": [],
   "source": [
    "from sklearn.utils.multiclass import type_of_target\n",
    "import numpy as np"
   ]
  },
  {
   "cell_type": "code",
   "execution_count": 3,
   "metadata": {},
   "outputs": [
    {
     "data": {
      "text/plain": [
       "'continuous'"
      ]
     },
     "execution_count": 3,
     "metadata": {},
     "output_type": "execute_result"
    },
    {
     "data": {
      "text/plain": [
       "'binary'"
      ]
     },
     "execution_count": 3,
     "metadata": {},
     "output_type": "execute_result"
    },
    {
     "data": {
      "text/plain": [
       "'binary'"
      ]
     },
     "execution_count": 3,
     "metadata": {},
     "output_type": "execute_result"
    },
    {
     "data": {
      "text/plain": [
       "'binary'"
      ]
     },
     "execution_count": 3,
     "metadata": {},
     "output_type": "execute_result"
    },
    {
     "data": {
      "text/plain": [
       "'multiclass'"
      ]
     },
     "execution_count": 3,
     "metadata": {},
     "output_type": "execute_result"
    },
    {
     "data": {
      "text/plain": [
       "'multiclass'"
      ]
     },
     "execution_count": 3,
     "metadata": {},
     "output_type": "execute_result"
    },
    {
     "data": {
      "text/plain": [
       "'multiclass'"
      ]
     },
     "execution_count": 3,
     "metadata": {},
     "output_type": "execute_result"
    },
    {
     "data": {
      "text/plain": [
       "'multiclass-multioutput'"
      ]
     },
     "execution_count": 3,
     "metadata": {},
     "output_type": "execute_result"
    },
    {
     "data": {
      "text/plain": [
       "'multilabel-indicator'"
      ]
     },
     "execution_count": 3,
     "metadata": {},
     "output_type": "execute_result"
    },
    {
     "data": {
      "text/plain": [
       "'continuous-multioutput'"
      ]
     },
     "execution_count": 3,
     "metadata": {},
     "output_type": "execute_result"
    },
    {
     "data": {
      "text/plain": [
       "'multilabel-indicator'"
      ]
     },
     "execution_count": 3,
     "metadata": {},
     "output_type": "execute_result"
    }
   ],
   "source": [
    "type_of_target([0.1, 0.6])\n",
    "\n",
    "type_of_target([1, -1, -1, 1])\n",
    "\n",
    "type_of_target(['a', 'b', 'a'])\n",
    "\n",
    "type_of_target([1.0, 2.0])\n",
    "\n",
    "type_of_target([1, 0, 2])\n",
    "\n",
    "type_of_target([1.0, 0.0, 3.0])\n",
    "\n",
    "type_of_target(['a', 'b', 'c'])\n",
    "\n",
    "type_of_target(np.array([[1, 2], [3, 1]]))\n",
    "\n",
    "type_of_target([[1, 2]])\n",
    "\n",
    "type_of_target(np.array([[1.5, 2.0], [3.0, 1.6]]))\n",
    "\n",
    "type_of_target(np.array([[0, 1], [1, 1]]))"
   ]
  },
  {
   "cell_type": "markdown",
   "metadata": {},
   "source": [
    "## <font color='purple'> 1.12.1. Multiclass classification\n",
    "### 1.12.1.1. Target format"
   ]
  },
  {
   "cell_type": "code",
   "execution_count": 4,
   "metadata": {},
   "outputs": [
    {
     "name": "stdout",
     "output_type": "stream",
     "text": [
      "['apple' 'pear' 'apple' 'orange']\n"
     ]
    }
   ],
   "source": [
    "import numpy as np\n",
    "y = np.array(['apple', 'pear', 'apple', 'orange'])\n",
    "print(y)"
   ]
  },
  {
   "cell_type": "code",
   "execution_count": 5,
   "metadata": {},
   "outputs": [
    {
     "name": "stdout",
     "output_type": "stream",
     "text": [
      "[[1 0 0]\n",
      " [0 0 1]\n",
      " [1 0 0]\n",
      " [0 1 0]]\n"
     ]
    }
   ],
   "source": [
    "from sklearn.preprocessing import LabelBinarizer\n",
    "y = np.array(['apple', 'pear', 'apple', 'orange'])\n",
    "y_dense = LabelBinarizer().fit_transform(y)\n",
    "print(y_dense)"
   ]
  },
  {
   "cell_type": "markdown",
   "metadata": {},
   "source": [
    "### 1.12.1.2. OneVsRestClassifier\n",
    "- Binary Classification Problem 1: red vs [blue, green]\n",
    "- Binary Classification Problem 2: blue vs [red, green]\n",
    "- Binary Classification Problem 3: green vs [red, blue]"
   ]
  },
  {
   "cell_type": "code",
   "execution_count": 6,
   "metadata": {},
   "outputs": [
    {
     "data": {
      "text/plain": [
       "array([0, 0, 0, 0, 0, 0, 0, 0, 0, 0, 0, 0, 0, 0, 0, 0, 0, 0, 0, 0, 0, 0,\n",
       "       0, 0, 0, 0, 0, 0, 0, 0, 0, 0, 0, 0, 0, 0, 0, 0, 0, 0, 0, 0, 0, 0,\n",
       "       0, 0, 0, 0, 0, 0, 1, 1, 1, 1, 1, 1, 1, 1, 1, 1, 1, 1, 1, 1, 1, 1,\n",
       "       1, 1, 1, 1, 1, 1, 1, 1, 1, 1, 1, 1, 1, 1, 1, 1, 1, 1, 1, 1, 1, 1,\n",
       "       1, 1, 1, 1, 1, 1, 1, 1, 1, 1, 1, 1, 2, 2, 2, 2, 2, 2, 2, 2, 2, 2,\n",
       "       2, 2, 2, 2, 2, 2, 2, 2, 2, 2, 2, 2, 2, 2, 2, 2, 2, 2, 2, 2, 2, 2,\n",
       "       2, 2, 2, 2, 2, 2, 2, 2, 2, 2, 2, 2, 2, 2, 2, 2, 2, 2])"
      ]
     },
     "execution_count": 6,
     "metadata": {},
     "output_type": "execute_result"
    }
   ],
   "source": [
    "from sklearn import datasets\n",
    "from sklearn.multiclass import OneVsRestClassifier\n",
    "from sklearn.svm import LinearSVC\n",
    "\n",
    "X, y = datasets.load_iris(return_X_y=True)\n",
    "y"
   ]
  },
  {
   "cell_type": "code",
   "execution_count": 7,
   "metadata": {
    "scrolled": true
   },
   "outputs": [
    {
     "data": {
      "text/plain": [
       "array([0, 0, 0, 0, 0, 0, 0, 0, 0, 0, 0, 0, 0, 0, 0, 0, 0, 0, 0, 0, 0, 0,\n",
       "       0, 0, 0, 0, 0, 0, 0, 0, 0, 0, 0, 0, 0, 0, 0, 0, 0, 0, 0, 0, 0, 0,\n",
       "       0, 0, 0, 0, 0, 0, 1, 1, 1, 1, 1, 1, 1, 1, 1, 1, 1, 1, 1, 1, 1, 1,\n",
       "       1, 1, 1, 1, 2, 1, 1, 1, 1, 1, 1, 1, 1, 1, 1, 1, 1, 2, 2, 1, 1, 1,\n",
       "       1, 1, 1, 1, 1, 1, 1, 1, 1, 1, 1, 1, 2, 2, 2, 2, 2, 2, 2, 2, 2, 2,\n",
       "       2, 2, 2, 2, 2, 2, 2, 2, 2, 2, 2, 2, 2, 2, 2, 2, 2, 2, 2, 1, 2, 2,\n",
       "       2, 1, 2, 2, 2, 2, 2, 2, 2, 2, 2, 2, 2, 2, 2, 2, 2, 2])"
      ]
     },
     "execution_count": 7,
     "metadata": {},
     "output_type": "execute_result"
    }
   ],
   "source": [
    "OneVsRestClassifier(LinearSVC(random_state=0)).fit(X, y).predict(X)"
   ]
  },
  {
   "cell_type": "markdown",
   "metadata": {},
   "source": [
    "### LogisticRegression(multi_class='ovr') =  OneVsRestClassifier(LogisticRegression())"
   ]
  },
  {
   "cell_type": "code",
   "execution_count": 8,
   "metadata": {},
   "outputs": [
    {
     "data": {
      "text/plain": [
       "LogisticRegression(multi_class='ovr')"
      ]
     },
     "execution_count": 8,
     "metadata": {},
     "output_type": "execute_result"
    },
    {
     "data": {
      "text/plain": [
       "array([2, 2, 1, 0, 0, 0, 2, 0, 2, 2, 2, 2, 1, 2, 1, 0, 2, 1, 0, 1, 2, 2,\n",
       "       0, 0, 1, 1, 2, 2, 1, 2, 0, 0, 0, 1, 1, 0, 2, 2, 0, 2, 0, 0, 2, 0,\n",
       "       0, 2, 1, 2, 2, 2, 1, 1, 0, 2, 0, 0, 0, 1, 1, 0, 2, 0, 1, 1, 2, 0,\n",
       "       1, 0, 2, 1, 2, 0, 2, 0, 1, 2, 0, 2, 0, 2, 1, 2, 1, 1, 2, 1, 1, 1,\n",
       "       1, 0, 0, 1, 0, 1, 1, 0, 2, 0, 2, 1])"
      ]
     },
     "execution_count": 8,
     "metadata": {},
     "output_type": "execute_result"
    }
   ],
   "source": [
    "# logistic regression for multi-class classification using built-in one-vs-rest\n",
    "from sklearn.datasets import make_classification\n",
    "from sklearn.linear_model import LogisticRegression\n",
    "# define dataset\n",
    "X, y = make_classification(n_samples=100, n_features=10, n_informative=5, n_redundant=5, n_classes=3, random_state=1)\n",
    "# define model\n",
    "model = LogisticRegression(multi_class='ovr')\n",
    "# fit model\n",
    "model.fit(X, y)\n",
    "# make predictions\n",
    "yhat = model.predict(X)\n",
    "yhat"
   ]
  },
  {
   "cell_type": "code",
   "execution_count": 9,
   "metadata": {},
   "outputs": [
    {
     "data": {
      "text/plain": [
       "OneVsRestClassifier(estimator=LogisticRegression())"
      ]
     },
     "execution_count": 9,
     "metadata": {},
     "output_type": "execute_result"
    },
    {
     "data": {
      "text/plain": [
       "array([2, 2, 1, 0, 0, 0, 2, 0, 2, 2, 2, 2, 1, 2, 1, 0, 2, 1, 0, 1, 2, 2,\n",
       "       0, 0, 1, 1, 2, 2, 1, 2, 0, 0, 0, 1, 1, 0, 2, 2, 0, 2, 0, 0, 2, 0,\n",
       "       0, 2, 1, 2, 2, 2, 1, 1, 0, 2, 0, 0, 0, 1, 1, 0, 2, 0, 1, 1, 2, 0,\n",
       "       1, 0, 2, 1, 2, 0, 2, 0, 1, 2, 0, 2, 0, 2, 1, 2, 1, 1, 2, 1, 1, 1,\n",
       "       1, 0, 0, 1, 0, 1, 1, 0, 2, 0, 2, 1])"
      ]
     },
     "execution_count": 9,
     "metadata": {},
     "output_type": "execute_result"
    }
   ],
   "source": [
    "# define model\n",
    "model = LogisticRegression()\n",
    "# define the ovr strategy\n",
    "ovr = OneVsRestClassifier(model)\n",
    "# fit model\n",
    "ovr.fit(X, y)\n",
    "# make predictions\n",
    "yhat = ovr.predict(X)\n",
    "yhat"
   ]
  },
  {
   "cell_type": "code",
   "execution_count": 10,
   "metadata": {},
   "outputs": [
    {
     "name": "stdout",
     "output_type": "stream",
     "text": [
      "[[22  4  8]\n",
      " [ 7 24  2]\n",
      " [ 5  3 25]]\n",
      "              precision    recall  f1-score   support\n",
      "\n",
      "           0      0.647     0.647     0.647        34\n",
      "           1      0.774     0.727     0.750        33\n",
      "           2      0.714     0.758     0.735        33\n",
      "\n",
      "    accuracy                          0.710       100\n",
      "   macro avg      0.712     0.711     0.711       100\n",
      "weighted avg      0.711     0.710     0.710       100\n",
      "\n"
     ]
    }
   ],
   "source": [
    "from sklearn.metrics import confusion_matrix, classification_report\n",
    "print(confusion_matrix(y, yhat))\n",
    "print(classification_report(y, yhat, digits=3))"
   ]
  },
  {
   "cell_type": "markdown",
   "metadata": {},
   "source": [
    "### 1.12.1.3. OneVsOneClassifier"
   ]
  },
  {
   "cell_type": "code",
   "execution_count": 11,
   "metadata": {
    "scrolled": false
   },
   "outputs": [
    {
     "data": {
      "text/plain": [
       "array([2, 1, 1, 0, 0, 0, 2, 0, 2, 2, 2, 0, 1, 2, 1, 0, 2, 1, 0, 1, 2, 2,\n",
       "       0, 2, 1, 1, 1, 0, 1, 2, 0, 0, 0, 1, 2, 0, 1, 2, 0, 2, 0, 0, 2, 0,\n",
       "       0, 2, 1, 2, 1, 2, 1, 2, 0, 2, 0, 0, 0, 1, 1, 0, 2, 0, 1, 1, 0, 0,\n",
       "       1, 0, 2, 1, 2, 0, 2, 0, 1, 2, 0, 2, 0, 2, 1, 2, 1, 1, 2, 1, 1, 1,\n",
       "       1, 0, 0, 1, 0, 1, 1, 0, 2, 0, 2, 1])"
      ]
     },
     "execution_count": 11,
     "metadata": {},
     "output_type": "execute_result"
    },
    {
     "name": "stdout",
     "output_type": "stream",
     "text": [
      "[[23  5  6]\n",
      " [ 6 25  2]\n",
      " [ 7  3 23]]\n",
      "              precision    recall  f1-score   support\n",
      "\n",
      "           0      0.639     0.676     0.657        34\n",
      "           1      0.758     0.758     0.758        33\n",
      "           2      0.742     0.697     0.719        33\n",
      "\n",
      "    accuracy                          0.710       100\n",
      "   macro avg      0.713     0.710     0.711       100\n",
      "weighted avg      0.712     0.710     0.711       100\n",
      "\n"
     ]
    }
   ],
   "source": [
    "from sklearn.multiclass import OneVsOneClassifier\n",
    "y_pred = OneVsOneClassifier(LinearSVC(random_state=0)).fit(X, y).predict(X)\n",
    "y_pred\n",
    "\n",
    "print(confusion_matrix(y, y_pred))\n",
    "print(classification_report(y, y_pred, digits=3))"
   ]
  },
  {
   "cell_type": "markdown",
   "metadata": {},
   "source": [
    "### Multi-Class metrics\n",
    "- 'micro': Calculate metrics globally by counting the total true positives, false negatives and false positives.\n",
    "- 'macro': Calculate metrics for each label, and find their unweighted mean. This does not take label imbalance into account.\n",
    "- 'weighted': Calculate metrics for each label, and find their average weighted by support (the number of true instances for each label). This alters ‘macro’ to account for label imbalance; it can result in an F-score that is not between precision and recall."
   ]
  },
  {
   "cell_type": "code",
   "execution_count": 12,
   "metadata": {},
   "outputs": [
    {
     "name": "stdout",
     "output_type": "stream",
     "text": [
      "[[4 1 1]\n",
      " [6 2 2]\n",
      " [3 0 6]]\n",
      "              precision    recall  f1-score   support\n",
      "\n",
      "         Cat      0.308     0.667     0.421         6\n",
      "        Fish      0.667     0.200     0.308        10\n",
      "         Hen      0.667     0.667     0.667         9\n",
      "\n",
      "    accuracy                          0.480        25\n",
      "   macro avg      0.547     0.511     0.465        25\n",
      "weighted avg      0.581     0.480     0.464        25\n",
      "\n"
     ]
    }
   ],
   "source": [
    "from sklearn import metrics\n",
    "C=\"Cat\"; F=\"Fish\"; H=\"Hen\"\n",
    "y_true = [C,C,C,C,C,C, F,F,F,F,F,F,F,F,F,F, H,H,H,H,H,H,H,H,H]\n",
    "y_pred = [C,C,C,C,H,F, C,C,C,C,C,C,H,H,F,F, C,C,C,H,H,H,H,H,H]\n",
    "print(metrics.confusion_matrix(y_true, y_pred))\n",
    "print(metrics.classification_report(y_true, y_pred, digits=3))"
   ]
  },
  {
   "cell_type": "markdown",
   "metadata": {},
   "source": [
    "## <font color='purple'> 1.12.2. Multilabel classification\n",
    "### 1.12.2.1. Target format\n",
    "- dense binary matrix of shape (n_samples, n_classes)"
   ]
  },
  {
   "cell_type": "code",
   "execution_count": 13,
   "metadata": {
    "scrolled": true
   },
   "outputs": [
    {
     "data": {
      "text/plain": [
       "array([[1, 0, 0, 1],\n",
       "       [0, 0, 1, 1],\n",
       "       [0, 0, 0, 0]])"
      ]
     },
     "execution_count": 13,
     "metadata": {},
     "output_type": "execute_result"
    }
   ],
   "source": [
    "y = np.array([[1, 0, 0, 1], [0, 0, 1, 1], [0, 0, 0, 0]])\n",
    "y"
   ]
  },
  {
   "cell_type": "markdown",
   "metadata": {},
   "source": [
    "- sparse binary matrix of shape (n_samples, n_classes)"
   ]
  },
  {
   "cell_type": "code",
   "execution_count": 14,
   "metadata": {},
   "outputs": [
    {
     "name": "stdout",
     "output_type": "stream",
     "text": [
      "  (0, 0)\t1\n",
      "  (0, 3)\t1\n",
      "  (1, 2)\t1\n",
      "  (1, 3)\t1\n"
     ]
    }
   ],
   "source": [
    "from scipy import sparse\n",
    "y_sparse = sparse.csr_matrix(y)\n",
    "print(y_sparse)"
   ]
  },
  {
   "cell_type": "markdown",
   "metadata": {},
   "source": [
    "- MultiLabelBinarizer"
   ]
  },
  {
   "cell_type": "code",
   "execution_count": 15,
   "metadata": {},
   "outputs": [
    {
     "data": {
      "text/plain": [
       "array([[1, 1, 0, 0, 0],\n",
       "       [0, 0, 1, 1, 1],\n",
       "       [0, 0, 1, 0, 0]])"
      ]
     },
     "execution_count": 15,
     "metadata": {},
     "output_type": "execute_result"
    },
    {
     "data": {
      "text/plain": [
       "array([1, 2, 3, 4, 5])"
      ]
     },
     "execution_count": 15,
     "metadata": {},
     "output_type": "execute_result"
    }
   ],
   "source": [
    "from sklearn.preprocessing import MultiLabelBinarizer\n",
    "mlb = MultiLabelBinarizer()\n",
    "mlb.fit_transform([(1, 2), (3, 4, 5), (3,)])\n",
    "\n",
    "mlb.classes_"
   ]
  },
  {
   "cell_type": "markdown",
   "metadata": {},
   "source": [
    "- MultiLabelBinarizer"
   ]
  },
  {
   "cell_type": "code",
   "execution_count": 16,
   "metadata": {},
   "outputs": [
    {
     "data": {
      "text/plain": [
       "array([[0, 1, 1],\n",
       "       [1, 0, 0]])"
      ]
     },
     "execution_count": 16,
     "metadata": {},
     "output_type": "execute_result"
    },
    {
     "data": {
      "text/plain": [
       "['comedy', 'sci-fi', 'thriller']"
      ]
     },
     "execution_count": 16,
     "metadata": {},
     "output_type": "execute_result"
    }
   ],
   "source": [
    "mlb.fit_transform([{'sci-fi', 'thriller'}, {'comedy',}])\n",
    "\n",
    "\n",
    "list(mlb.classes_)"
   ]
  },
  {
   "cell_type": "markdown",
   "metadata": {},
   "source": [
    "### MultiLabelBinarizer\n",
    "- multiclass, multilabel, and multioutput classification and regression.\n",
    "- https://scikit-learn.org/stable/modules/generated/sklearn.preprocessing.MultiLabelBinarizer.html#sklearn.preprocessing.MultiLabelBinarizer\n",
    "\n",
    "### Use label_binarize to be multi-label like settings"
   ]
  },
  {
   "cell_type": "code",
   "execution_count": 17,
   "metadata": {},
   "outputs": [],
   "source": [
    "from sklearn import datasets\n",
    "iris = datasets.load_iris()\n",
    "X = iris.data\n",
    "y = iris.target\n",
    "\n",
    "from sklearn.preprocessing import label_binarize\n",
    "Y = label_binarize(y, classes=[0, 1, 2])\n",
    "n_classes = Y.shape[1]"
   ]
  },
  {
   "cell_type": "code",
   "execution_count": 18,
   "metadata": {},
   "outputs": [
    {
     "data": {
      "text/plain": [
       "OneVsRestClassifier(estimator=SVC(random_state=1024))"
      ]
     },
     "execution_count": 18,
     "metadata": {},
     "output_type": "execute_result"
    }
   ],
   "source": [
    "# Split into training and test\n",
    "from sklearn.model_selection import train_test_split\n",
    "from sklearn.svm import SVC\n",
    "\n",
    "random_state =1024\n",
    "\n",
    "X_train, X_test, Y_train, Y_test = train_test_split(X, Y, test_size=.5,\n",
    "                                                    random_state=random_state)\n",
    "\n",
    "# We use OneVsRestClassifier for multi-label prediction\n",
    "from sklearn.multiclass import OneVsRestClassifier\n",
    "\n",
    "# Run classifier\n",
    "classifier = OneVsRestClassifier(SVC(random_state=random_state))\n",
    "classifier.fit(X_train, Y_train)\n",
    "y_pred = classifier.predict(X_test)\n",
    "y_score = classifier.decision_function(X_test)"
   ]
  },
  {
   "cell_type": "markdown",
   "metadata": {},
   "source": [
    "multi-label예측은 confusion_matrix가 없음"
   ]
  },
  {
   "cell_type": "code",
   "execution_count": 19,
   "metadata": {
    "scrolled": true
   },
   "outputs": [
    {
     "name": "stdout",
     "output_type": "stream",
     "text": [
      "              precision    recall  f1-score   support\n",
      "\n",
      "           0       1.00      1.00      1.00        22\n",
      "           1       0.87      1.00      0.93        26\n",
      "           2       0.96      1.00      0.98        27\n",
      "\n",
      "   micro avg       0.94      1.00      0.97        75\n",
      "   macro avg       0.94      1.00      0.97        75\n",
      "weighted avg       0.94      1.00      0.97        75\n",
      " samples avg       0.97      1.00      0.98        75\n",
      "\n"
     ]
    }
   ],
   "source": [
    "from sklearn.metrics import classification_report\n",
    "print(classification_report(Y_test, y_pred))"
   ]
  },
  {
   "cell_type": "code",
   "execution_count": 20,
   "metadata": {},
   "outputs": [
    {
     "name": "stdout",
     "output_type": "stream",
     "text": [
      "Average precision score, micro-averaged over all classes: 1.00\n"
     ]
    }
   ],
   "source": [
    "from sklearn.metrics import precision_recall_curve\n",
    "from sklearn.metrics import average_precision_score\n",
    "\n",
    "# For each class\n",
    "precision = dict()\n",
    "recall = dict()\n",
    "average_precision = dict()\n",
    "for i in range(n_classes):\n",
    "    precision[i], recall[i], _ = precision_recall_curve(Y_test[:, i],\n",
    "                                                        y_score[:, i])\n",
    "    average_precision[i] = average_precision_score(Y_test[:, i], y_score[:, i])\n",
    "\n",
    "# A \"micro-average\": quantifying score on all classes jointly\n",
    "precision[\"micro\"], recall[\"micro\"], _ = precision_recall_curve(Y_test.ravel(),\n",
    "    y_score.ravel())\n",
    "average_precision[\"micro\"] = average_precision_score(Y_test, y_score,\n",
    "                                                     average=\"micro\")\n",
    "print('Average precision score, micro-averaged over all classes: {0:0.2f}'\n",
    "      .format(average_precision[\"micro\"]))"
   ]
  },
  {
   "cell_type": "code",
   "execution_count": 21,
   "metadata": {
    "scrolled": false
   },
   "outputs": [
    {
     "data": {
      "text/plain": [
       "<Figure size 432x288 with 0 Axes>"
      ]
     },
     "execution_count": 21,
     "metadata": {},
     "output_type": "execute_result"
    },
    {
     "data": {
      "text/plain": [
       "[<matplotlib.lines.Line2D at 0x15c0c57e760>]"
      ]
     },
     "execution_count": 21,
     "metadata": {},
     "output_type": "execute_result"
    },
    {
     "data": {
      "text/plain": [
       "Text(0.5, 0, 'Recall')"
      ]
     },
     "execution_count": 21,
     "metadata": {},
     "output_type": "execute_result"
    },
    {
     "data": {
      "text/plain": [
       "Text(0, 0.5, 'Precision')"
      ]
     },
     "execution_count": 21,
     "metadata": {},
     "output_type": "execute_result"
    },
    {
     "data": {
      "text/plain": [
       "(0.0, 1.05)"
      ]
     },
     "execution_count": 21,
     "metadata": {},
     "output_type": "execute_result"
    },
    {
     "data": {
      "text/plain": [
       "(0.0, 1.0)"
      ]
     },
     "execution_count": 21,
     "metadata": {},
     "output_type": "execute_result"
    },
    {
     "data": {
      "text/plain": [
       "Text(0.5, 1.0, 'Average precision score, micro-averaged over all classes: AP=1.00')"
      ]
     },
     "execution_count": 21,
     "metadata": {},
     "output_type": "execute_result"
    },
    {
     "data": {
      "image/png": "[encoded data removed]",
      "text/plain": [
       "<Figure size 432x288 with 1 Axes>"
      ]
     },
     "metadata": {
      "needs_background": "light"
     },
     "output_type": "display_data"
    }
   ],
   "source": [
    "plt.figure()\n",
    "plt.step(recall['micro'], precision['micro'], where='post')\n",
    "\n",
    "plt.xlabel('Recall')\n",
    "plt.ylabel('Precision')\n",
    "plt.ylim([0.0, 1.05])\n",
    "plt.xlim([0.0, 1.0])\n",
    "plt.title(\n",
    "    'Average precision score, micro-averaged over all classes: AP={0:0.2f}'\n",
    "    .format(average_precision[\"micro\"]))"
   ]
  },
  {
   "cell_type": "markdown",
   "metadata": {},
   "source": [
    "### 1.12.2.2. MultiOutputClassifier\n",
    "Multilabel classification support can be added to any classifier with MultiOutputClassifier. This strategy consists of fitting one classifier per target. This allows multiple target variable classifications. The purpose of this class is to extend estimators to be able to estimate a series of target functions (f1,f2,f3…,fn) that are trained on a single X predictor matrix to predict a series of responses (y1,y2,y3…,yn)."
   ]
  },
  {
   "cell_type": "code",
   "execution_count": 22,
   "metadata": {},
   "outputs": [],
   "source": [
    "from sklearn.datasets import make_classification\n",
    "from sklearn.multioutput import MultiOutputClassifier\n",
    "from sklearn.ensemble import RandomForestClassifier\n",
    "from sklearn.utils import shuffle\n",
    "X, y1 = make_classification(n_samples=10, n_features=100, n_informative=30, n_classes=3, random_state=1)\n",
    "y2 = shuffle(y1, random_state=1)\n",
    "y3 = shuffle(y1, random_state=2)\n",
    "Y = np.vstack((y1, y2, y3)).T"
   ]
  },
  {
   "cell_type": "code",
   "execution_count": 23,
   "metadata": {},
   "outputs": [
    {
     "data": {
      "text/html": [
       "<div>\n",
       "<style scoped>\n",
       "    .dataframe tbody tr th:only-of-type {\n",
       "        vertical-align: middle;\n",
       "    }\n",
       "\n",
       "    .dataframe tbody tr th {\n",
       "        vertical-align: top;\n",
       "    }\n",
       "\n",
       "    .dataframe thead th {\n",
       "        text-align: right;\n",
       "    }\n",
       "</style>\n",
       "<table border=\"1\" class=\"dataframe\">\n",
       "  <thead>\n",
       "    <tr style=\"text-align: right;\">\n",
       "      <th></th>\n",
       "      <th>0</th>\n",
       "      <th>1</th>\n",
       "      <th>2</th>\n",
       "      <th>3</th>\n",
       "      <th>4</th>\n",
       "      <th>5</th>\n",
       "      <th>6</th>\n",
       "      <th>7</th>\n",
       "      <th>8</th>\n",
       "      <th>9</th>\n",
       "      <th>...</th>\n",
       "      <th>90</th>\n",
       "      <th>91</th>\n",
       "      <th>92</th>\n",
       "      <th>93</th>\n",
       "      <th>94</th>\n",
       "      <th>95</th>\n",
       "      <th>96</th>\n",
       "      <th>97</th>\n",
       "      <th>98</th>\n",
       "      <th>99</th>\n",
       "    </tr>\n",
       "  </thead>\n",
       "  <tbody>\n",
       "    <tr>\n",
       "      <th>0</th>\n",
       "      <td>-0.934327</td>\n",
       "      <td>1.566246</td>\n",
       "      <td>-1.007259</td>\n",
       "      <td>-3.083766</td>\n",
       "      <td>-4.214301</td>\n",
       "      <td>0.116987</td>\n",
       "      <td>0.417639</td>\n",
       "      <td>0.900654</td>\n",
       "      <td>3.930051</td>\n",
       "      <td>-0.650885</td>\n",
       "      <td>...</td>\n",
       "      <td>-0.261394</td>\n",
       "      <td>0.281840</td>\n",
       "      <td>0.378392</td>\n",
       "      <td>2.361206</td>\n",
       "      <td>-0.218049</td>\n",
       "      <td>-1.024215</td>\n",
       "      <td>0.128084</td>\n",
       "      <td>-0.611115</td>\n",
       "      <td>-0.186305</td>\n",
       "      <td>-0.600593</td>\n",
       "    </tr>\n",
       "    <tr>\n",
       "      <th>1</th>\n",
       "      <td>1.184546</td>\n",
       "      <td>-1.161732</td>\n",
       "      <td>1.555493</td>\n",
       "      <td>0.228109</td>\n",
       "      <td>1.518193</td>\n",
       "      <td>-0.278292</td>\n",
       "      <td>0.024185</td>\n",
       "      <td>0.903772</td>\n",
       "      <td>0.255854</td>\n",
       "      <td>0.645867</td>\n",
       "      <td>...</td>\n",
       "      <td>1.650885</td>\n",
       "      <td>0.450942</td>\n",
       "      <td>1.373448</td>\n",
       "      <td>-3.221724</td>\n",
       "      <td>-2.147289</td>\n",
       "      <td>1.197473</td>\n",
       "      <td>0.886817</td>\n",
       "      <td>-0.251925</td>\n",
       "      <td>1.167535</td>\n",
       "      <td>1.156090</td>\n",
       "    </tr>\n",
       "    <tr>\n",
       "      <th>2</th>\n",
       "      <td>-0.511789</td>\n",
       "      <td>-0.227889</td>\n",
       "      <td>-0.946340</td>\n",
       "      <td>3.394399</td>\n",
       "      <td>-0.267970</td>\n",
       "      <td>0.102156</td>\n",
       "      <td>0.873626</td>\n",
       "      <td>0.281821</td>\n",
       "      <td>1.547924</td>\n",
       "      <td>-0.260002</td>\n",
       "      <td>...</td>\n",
       "      <td>0.314574</td>\n",
       "      <td>-0.621486</td>\n",
       "      <td>0.395546</td>\n",
       "      <td>-0.264281</td>\n",
       "      <td>-0.901784</td>\n",
       "      <td>-0.626172</td>\n",
       "      <td>0.884355</td>\n",
       "      <td>1.454720</td>\n",
       "      <td>0.349456</td>\n",
       "      <td>-1.212905</td>\n",
       "    </tr>\n",
       "    <tr>\n",
       "      <th>3</th>\n",
       "      <td>0.699886</td>\n",
       "      <td>-0.366210</td>\n",
       "      <td>1.250980</td>\n",
       "      <td>0.535822</td>\n",
       "      <td>-0.314439</td>\n",
       "      <td>1.282986</td>\n",
       "      <td>-0.652072</td>\n",
       "      <td>1.588483</td>\n",
       "      <td>-1.559337</td>\n",
       "      <td>0.752697</td>\n",
       "      <td>...</td>\n",
       "      <td>0.137424</td>\n",
       "      <td>0.456471</td>\n",
       "      <td>0.425725</td>\n",
       "      <td>1.256563</td>\n",
       "      <td>0.485102</td>\n",
       "      <td>2.149161</td>\n",
       "      <td>0.489643</td>\n",
       "      <td>-0.780219</td>\n",
       "      <td>0.511125</td>\n",
       "      <td>1.978993</td>\n",
       "    </tr>\n",
       "    <tr>\n",
       "      <th>4</th>\n",
       "      <td>1.419876</td>\n",
       "      <td>0.327002</td>\n",
       "      <td>0.322211</td>\n",
       "      <td>-3.716923</td>\n",
       "      <td>-1.261130</td>\n",
       "      <td>0.160134</td>\n",
       "      <td>-0.519291</td>\n",
       "      <td>-1.093102</td>\n",
       "      <td>1.337645</td>\n",
       "      <td>0.300852</td>\n",
       "      <td>...</td>\n",
       "      <td>-0.515113</td>\n",
       "      <td>-0.546857</td>\n",
       "      <td>-0.439073</td>\n",
       "      <td>-0.366359</td>\n",
       "      <td>-0.257172</td>\n",
       "      <td>0.288652</td>\n",
       "      <td>-0.599155</td>\n",
       "      <td>0.336921</td>\n",
       "      <td>0.278922</td>\n",
       "      <td>0.294427</td>\n",
       "    </tr>\n",
       "  </tbody>\n",
       "</table>\n",
       "<p>5 rows × 100 columns</p>\n",
       "</div>"
      ],
      "text/plain": [
       "         0         1         2         3         4         5         6   \\\n",
       "0 -0.934327  1.566246 -1.007259 -3.083766 -4.214301  0.116987  0.417639   \n",
       "1  1.184546 -1.161732  1.555493  0.228109  1.518193 -0.278292  0.024185   \n",
       "2 -0.511789 -0.227889 -0.946340  3.394399 -0.267970  0.102156  0.873626   \n",
       "3  0.699886 -0.366210  1.250980  0.535822 -0.314439  1.282986 -0.652072   \n",
       "4  1.419876  0.327002  0.322211 -3.716923 -1.261130  0.160134 -0.519291   \n",
       "\n",
       "         7         8         9   ...        90        91        92        93  \\\n",
       "0  0.900654  3.930051 -0.650885  ... -0.261394  0.281840  0.378392  2.361206   \n",
       "1  0.903772  0.255854  0.645867  ...  1.650885  0.450942  1.373448 -3.221724   \n",
       "2  0.281821  1.547924 -0.260002  ...  0.314574 -0.621486  0.395546 -0.264281   \n",
       "3  1.588483 -1.559337  0.752697  ...  0.137424  0.456471  0.425725  1.256563   \n",
       "4 -1.093102  1.337645  0.300852  ... -0.515113 -0.546857 -0.439073 -0.366359   \n",
       "\n",
       "         94        95        96        97        98        99  \n",
       "0 -0.218049 -1.024215  0.128084 -0.611115 -0.186305 -0.600593  \n",
       "1 -2.147289  1.197473  0.886817 -0.251925  1.167535  1.156090  \n",
       "2 -0.901784 -0.626172  0.884355  1.454720  0.349456 -1.212905  \n",
       "3  0.485102  2.149161  0.489643 -0.780219  0.511125  1.978993  \n",
       "4 -0.257172  0.288652 -0.599155  0.336921  0.278922  0.294427  \n",
       "\n",
       "[5 rows x 100 columns]"
      ]
     },
     "execution_count": 23,
     "metadata": {},
     "output_type": "execute_result"
    },
    {
     "data": {
      "text/html": [
       "<div>\n",
       "<style scoped>\n",
       "    .dataframe tbody tr th:only-of-type {\n",
       "        vertical-align: middle;\n",
       "    }\n",
       "\n",
       "    .dataframe tbody tr th {\n",
       "        vertical-align: top;\n",
       "    }\n",
       "\n",
       "    .dataframe thead th {\n",
       "        text-align: right;\n",
       "    }\n",
       "</style>\n",
       "<table border=\"1\" class=\"dataframe\">\n",
       "  <thead>\n",
       "    <tr style=\"text-align: right;\">\n",
       "      <th></th>\n",
       "      <th>0</th>\n",
       "      <th>1</th>\n",
       "      <th>2</th>\n",
       "    </tr>\n",
       "  </thead>\n",
       "  <tbody>\n",
       "    <tr>\n",
       "      <th>0</th>\n",
       "      <td>2</td>\n",
       "      <td>2</td>\n",
       "      <td>0</td>\n",
       "    </tr>\n",
       "    <tr>\n",
       "      <th>1</th>\n",
       "      <td>1</td>\n",
       "      <td>2</td>\n",
       "      <td>1</td>\n",
       "    </tr>\n",
       "    <tr>\n",
       "      <th>2</th>\n",
       "      <td>2</td>\n",
       "      <td>1</td>\n",
       "      <td>0</td>\n",
       "    </tr>\n",
       "    <tr>\n",
       "      <th>3</th>\n",
       "      <td>0</td>\n",
       "      <td>0</td>\n",
       "      <td>2</td>\n",
       "    </tr>\n",
       "    <tr>\n",
       "      <th>4</th>\n",
       "      <td>0</td>\n",
       "      <td>2</td>\n",
       "      <td>1</td>\n",
       "    </tr>\n",
       "  </tbody>\n",
       "</table>\n",
       "</div>"
      ],
      "text/plain": [
       "   0  1  2\n",
       "0  2  2  0\n",
       "1  1  2  1\n",
       "2  2  1  0\n",
       "3  0  0  2\n",
       "4  0  2  1"
      ]
     },
     "execution_count": 23,
     "metadata": {},
     "output_type": "execute_result"
    }
   ],
   "source": [
    "import pandas as pd\n",
    "pd.DataFrame(X).head()\n",
    "pd.DataFrame(Y).head()"
   ]
  },
  {
   "cell_type": "code",
   "execution_count": 24,
   "metadata": {},
   "outputs": [],
   "source": [
    "n_samples, n_features = X.shape # 10,100\n",
    "n_outputs = Y.shape[1] # 3\n",
    "n_classes = 3"
   ]
  },
  {
   "cell_type": "code",
   "execution_count": 25,
   "metadata": {},
   "outputs": [
    {
     "data": {
      "text/plain": [
       "array([[2, 2, 0],\n",
       "       [1, 2, 1],\n",
       "       [2, 1, 0],\n",
       "       [0, 0, 2],\n",
       "       [0, 2, 1],\n",
       "       [0, 0, 2],\n",
       "       [1, 1, 0],\n",
       "       [1, 1, 1],\n",
       "       [0, 0, 2],\n",
       "       [2, 0, 0]])"
      ]
     },
     "execution_count": 25,
     "metadata": {},
     "output_type": "execute_result"
    }
   ],
   "source": [
    "forest = RandomForestClassifier(random_state=1)\n",
    "multi_target_forest = MultiOutputClassifier(forest, n_jobs=-1)\n",
    "multi_target_forest.fit(X, Y).predict(X)"
   ]
  },
  {
   "cell_type": "markdown",
   "metadata": {},
   "source": [
    "## <font color='purple'> 1.12.3. Multiclass-multioutput classification(multitask classification)\n",
    "For example, classification of the properties “type of fruit” and “colour” for a set of images of fruit. The property “type of fruit” has the possible classes: “apple”, “pear” and “orange”. The property “colour” has the possible classes: “green”, “red”, “yellow” and “orange”. Each sample is an image of a fruit, a label is output for both properties and each label is one of the possible classes of the corresponding property."
   ]
  },
  {
   "cell_type": "code",
   "execution_count": 26,
   "metadata": {},
   "outputs": [
    {
     "name": "stdout",
     "output_type": "stream",
     "text": [
      "[['apple' 'green']\n",
      " ['orange' 'orange']\n",
      " ['pear' 'green']]\n"
     ]
    }
   ],
   "source": [
    "y = np.array([['apple', 'green'], ['orange', 'orange'], ['pear', 'green']])\n",
    "print(y)"
   ]
  },
  {
   "cell_type": "markdown",
   "metadata": {},
   "source": [
    "## <font color='purple'> 1.12.4. Multioutput regression\n",
    "Multioutput regression predicts multiple numerical properties for each sample. Each property is a numerical variable and the number of properties to be predicted for each sample is greater than or equal to 2. Some estimators that support multioutput regression are faster than just running n_output estimators.\n",
    "\n",
    "For example, prediction of both wind speed and wind direction, in degrees, using data obtained at a certain location. Each sample would be data obtained at one location and both wind speed and direction would be output for each sample."
   ]
  },
  {
   "cell_type": "code",
   "execution_count": 27,
   "metadata": {},
   "outputs": [
    {
     "name": "stdout",
     "output_type": "stream",
     "text": [
      "[[ 31.4  94. ]\n",
      " [ 40.5 109. ]\n",
      " [ 25.   30. ]]\n"
     ]
    }
   ],
   "source": [
    "y = np.array([[31.4, 94], [40.5, 109], [25.0, 30]])\n",
    "print(y)"
   ]
  },
  {
   "cell_type": "code",
   "execution_count": 28,
   "metadata": {},
   "outputs": [],
   "source": [
    "from sklearn.datasets import make_regression\n",
    "from sklearn.multioutput import MultiOutputRegressor\n",
    "from sklearn.ensemble import GradientBoostingRegressor\n",
    "X, y = make_regression(n_samples=10, n_targets=3, random_state=1)"
   ]
  },
  {
   "cell_type": "code",
   "execution_count": 29,
   "metadata": {},
   "outputs": [
    {
     "data": {
      "text/html": [
       "<div>\n",
       "<style scoped>\n",
       "    .dataframe tbody tr th:only-of-type {\n",
       "        vertical-align: middle;\n",
       "    }\n",
       "\n",
       "    .dataframe tbody tr th {\n",
       "        vertical-align: top;\n",
       "    }\n",
       "\n",
       "    .dataframe thead th {\n",
       "        text-align: right;\n",
       "    }\n",
       "</style>\n",
       "<table border=\"1\" class=\"dataframe\">\n",
       "  <thead>\n",
       "    <tr style=\"text-align: right;\">\n",
       "      <th></th>\n",
       "      <th>0</th>\n",
       "      <th>1</th>\n",
       "      <th>2</th>\n",
       "      <th>3</th>\n",
       "      <th>4</th>\n",
       "      <th>5</th>\n",
       "      <th>6</th>\n",
       "      <th>7</th>\n",
       "      <th>8</th>\n",
       "      <th>9</th>\n",
       "      <th>...</th>\n",
       "      <th>90</th>\n",
       "      <th>91</th>\n",
       "      <th>92</th>\n",
       "      <th>93</th>\n",
       "      <th>94</th>\n",
       "      <th>95</th>\n",
       "      <th>96</th>\n",
       "      <th>97</th>\n",
       "      <th>98</th>\n",
       "      <th>99</th>\n",
       "    </tr>\n",
       "  </thead>\n",
       "  <tbody>\n",
       "    <tr>\n",
       "      <th>0</th>\n",
       "      <td>1.760415</td>\n",
       "      <td>-0.391816</td>\n",
       "      <td>0.556074</td>\n",
       "      <td>-2.516304</td>\n",
       "      <td>-1.164008</td>\n",
       "      <td>0.636583</td>\n",
       "      <td>-0.806185</td>\n",
       "      <td>-0.183400</td>\n",
       "      <td>-1.787913</td>\n",
       "      <td>-1.154983</td>\n",
       "      <td>...</td>\n",
       "      <td>0.081768</td>\n",
       "      <td>-0.139712</td>\n",
       "      <td>-0.466155</td>\n",
       "      <td>-0.808847</td>\n",
       "      <td>0.089686</td>\n",
       "      <td>0.644354</td>\n",
       "      <td>0.361847</td>\n",
       "      <td>1.453918</td>\n",
       "      <td>0.648644</td>\n",
       "      <td>0.853282</td>\n",
       "    </tr>\n",
       "    <tr>\n",
       "      <th>1</th>\n",
       "      <td>0.109403</td>\n",
       "      <td>-1.233121</td>\n",
       "      <td>1.956079</td>\n",
       "      <td>0.080927</td>\n",
       "      <td>-0.586524</td>\n",
       "      <td>-0.700399</td>\n",
       "      <td>0.201830</td>\n",
       "      <td>-0.254180</td>\n",
       "      <td>-1.674196</td>\n",
       "      <td>-1.305727</td>\n",
       "      <td>...</td>\n",
       "      <td>-0.733272</td>\n",
       "      <td>-1.525680</td>\n",
       "      <td>-0.955425</td>\n",
       "      <td>0.623362</td>\n",
       "      <td>-0.890556</td>\n",
       "      <td>1.543359</td>\n",
       "      <td>0.825030</td>\n",
       "      <td>-0.297362</td>\n",
       "      <td>0.284748</td>\n",
       "      <td>0.106223</td>\n",
       "    </tr>\n",
       "    <tr>\n",
       "      <th>2</th>\n",
       "      <td>-0.826097</td>\n",
       "      <td>-0.618037</td>\n",
       "      <td>-0.599805</td>\n",
       "      <td>-0.533020</td>\n",
       "      <td>-0.661344</td>\n",
       "      <td>-0.237942</td>\n",
       "      <td>1.122328</td>\n",
       "      <td>-1.755926</td>\n",
       "      <td>-2.506441</td>\n",
       "      <td>-1.175983</td>\n",
       "      <td>...</td>\n",
       "      <td>0.324274</td>\n",
       "      <td>0.939169</td>\n",
       "      <td>-0.035368</td>\n",
       "      <td>0.654580</td>\n",
       "      <td>-0.694694</td>\n",
       "      <td>-0.468674</td>\n",
       "      <td>-2.114164</td>\n",
       "      <td>0.794528</td>\n",
       "      <td>0.515074</td>\n",
       "      <td>-0.557495</td>\n",
       "    </tr>\n",
       "    <tr>\n",
       "      <th>3</th>\n",
       "      <td>0.502494</td>\n",
       "      <td>-0.012665</td>\n",
       "      <td>-0.249370</td>\n",
       "      <td>1.129484</td>\n",
       "      <td>-0.384054</td>\n",
       "      <td>-0.267888</td>\n",
       "      <td>-0.396754</td>\n",
       "      <td>0.230095</td>\n",
       "      <td>1.659802</td>\n",
       "      <td>0.617203</td>\n",
       "      <td>...</td>\n",
       "      <td>-1.396496</td>\n",
       "      <td>1.252868</td>\n",
       "      <td>-0.620001</td>\n",
       "      <td>-0.172428</td>\n",
       "      <td>-0.761207</td>\n",
       "      <td>-0.504466</td>\n",
       "      <td>0.742044</td>\n",
       "      <td>0.077340</td>\n",
       "      <td>1.131629</td>\n",
       "      <td>-0.754398</td>\n",
       "    </tr>\n",
       "    <tr>\n",
       "      <th>4</th>\n",
       "      <td>-0.680852</td>\n",
       "      <td>0.915499</td>\n",
       "      <td>1.555016</td>\n",
       "      <td>-0.999427</td>\n",
       "      <td>-0.563237</td>\n",
       "      <td>-0.017818</td>\n",
       "      <td>0.571805</td>\n",
       "      <td>0.164665</td>\n",
       "      <td>0.394428</td>\n",
       "      <td>1.021248</td>\n",
       "      <td>...</td>\n",
       "      <td>0.098112</td>\n",
       "      <td>0.171957</td>\n",
       "      <td>0.494342</td>\n",
       "      <td>1.152599</td>\n",
       "      <td>1.851438</td>\n",
       "      <td>-1.711168</td>\n",
       "      <td>0.725523</td>\n",
       "      <td>0.578464</td>\n",
       "      <td>0.265642</td>\n",
       "      <td>-0.977773</td>\n",
       "    </tr>\n",
       "  </tbody>\n",
       "</table>\n",
       "<p>5 rows × 100 columns</p>\n",
       "</div>"
      ],
      "text/plain": [
       "         0         1         2         3         4         5         6   \\\n",
       "0  1.760415 -0.391816  0.556074 -2.516304 -1.164008  0.636583 -0.806185   \n",
       "1  0.109403 -1.233121  1.956079  0.080927 -0.586524 -0.700399  0.201830   \n",
       "2 -0.826097 -0.618037 -0.599805 -0.533020 -0.661344 -0.237942  1.122328   \n",
       "3  0.502494 -0.012665 -0.249370  1.129484 -0.384054 -0.267888 -0.396754   \n",
       "4 -0.680852  0.915499  1.555016 -0.999427 -0.563237 -0.017818  0.571805   \n",
       "\n",
       "         7         8         9   ...        90        91        92        93  \\\n",
       "0 -0.183400 -1.787913 -1.154983  ...  0.081768 -0.139712 -0.466155 -0.808847   \n",
       "1 -0.254180 -1.674196 -1.305727  ... -0.733272 -1.525680 -0.955425  0.623362   \n",
       "2 -1.755926 -2.506441 -1.175983  ...  0.324274  0.939169 -0.035368  0.654580   \n",
       "3  0.230095  1.659802  0.617203  ... -1.396496  1.252868 -0.620001 -0.172428   \n",
       "4  0.164665  0.394428  1.021248  ...  0.098112  0.171957  0.494342  1.152599   \n",
       "\n",
       "         94        95        96        97        98        99  \n",
       "0  0.089686  0.644354  0.361847  1.453918  0.648644  0.853282  \n",
       "1 -0.890556  1.543359  0.825030 -0.297362  0.284748  0.106223  \n",
       "2 -0.694694 -0.468674 -2.114164  0.794528  0.515074 -0.557495  \n",
       "3 -0.761207 -0.504466  0.742044  0.077340  1.131629 -0.754398  \n",
       "4  1.851438 -1.711168  0.725523  0.578464  0.265642 -0.977773  \n",
       "\n",
       "[5 rows x 100 columns]"
      ]
     },
     "execution_count": 29,
     "metadata": {},
     "output_type": "execute_result"
    },
    {
     "data": {
      "text/html": [
       "<div>\n",
       "<style scoped>\n",
       "    .dataframe tbody tr th:only-of-type {\n",
       "        vertical-align: middle;\n",
       "    }\n",
       "\n",
       "    .dataframe tbody tr th {\n",
       "        vertical-align: top;\n",
       "    }\n",
       "\n",
       "    .dataframe thead th {\n",
       "        text-align: right;\n",
       "    }\n",
       "</style>\n",
       "<table border=\"1\" class=\"dataframe\">\n",
       "  <thead>\n",
       "    <tr style=\"text-align: right;\">\n",
       "      <th></th>\n",
       "      <th>0</th>\n",
       "      <th>1</th>\n",
       "      <th>2</th>\n",
       "    </tr>\n",
       "  </thead>\n",
       "  <tbody>\n",
       "    <tr>\n",
       "      <th>0</th>\n",
       "      <td>-154.759251</td>\n",
       "      <td>-147.040082</td>\n",
       "      <td>-50.039113</td>\n",
       "    </tr>\n",
       "    <tr>\n",
       "      <th>1</th>\n",
       "      <td>7.121962</td>\n",
       "      <td>5.129472</td>\n",
       "      <td>-81.462711</td>\n",
       "    </tr>\n",
       "    <tr>\n",
       "      <th>2</th>\n",
       "      <td>-187.900829</td>\n",
       "      <td>-100.447527</td>\n",
       "      <td>13.892614</td>\n",
       "    </tr>\n",
       "    <tr>\n",
       "      <th>3</th>\n",
       "      <td>-141.630651</td>\n",
       "      <td>95.031546</td>\n",
       "      <td>-191.486344</td>\n",
       "    </tr>\n",
       "    <tr>\n",
       "      <th>4</th>\n",
       "      <td>97.034315</td>\n",
       "      <td>165.352688</td>\n",
       "      <td>139.524524</td>\n",
       "    </tr>\n",
       "  </tbody>\n",
       "</table>\n",
       "</div>"
      ],
      "text/plain": [
       "            0           1           2\n",
       "0 -154.759251 -147.040082  -50.039113\n",
       "1    7.121962    5.129472  -81.462711\n",
       "2 -187.900829 -100.447527   13.892614\n",
       "3 -141.630651   95.031546 -191.486344\n",
       "4   97.034315  165.352688  139.524524"
      ]
     },
     "execution_count": 29,
     "metadata": {},
     "output_type": "execute_result"
    }
   ],
   "source": [
    "pd.DataFrame(X).head()\n",
    "pd.DataFrame(y).head()"
   ]
  },
  {
   "cell_type": "code",
   "execution_count": 30,
   "metadata": {},
   "outputs": [
    {
     "data": {
      "text/plain": [
       "array([[-154.75474165, -147.03498585,  -50.03812219],\n",
       "       [   7.12165031,    5.12914884,  -81.46081961],\n",
       "       [-187.8948621 , -100.44373091,   13.88978285],\n",
       "       [-141.62745778,   95.02891072, -191.48204257],\n",
       "       [  97.03260883,  165.34867495,  139.52003279],\n",
       "       [ 123.92529176,   21.25719016,   -7.84253   ],\n",
       "       [-122.25193977,  -85.16443186, -107.12274212],\n",
       "       [ -30.170388  ,  -94.80956739,   12.16979946],\n",
       "       [ 140.72667194,  176.50941682,  -17.50447799],\n",
       "       [ 149.37967282,  -81.15699552,   -5.72850319]])"
      ]
     },
     "execution_count": 30,
     "metadata": {},
     "output_type": "execute_result"
    }
   ],
   "source": [
    "MultiOutputRegressor(GradientBoostingRegressor(random_state=0)).fit(X, y).predict(X)"
   ]
  },
  {
   "cell_type": "markdown",
   "metadata": {},
   "source": [
    "# END"
   ]
  },
  {
   "cell_type": "code",
   "execution_count": null,
   "metadata": {},
   "outputs": [],
   "source": []
  }
 ],
 "metadata": {
  "anaconda-cloud": {},
  "colab": {
   "name": "20210107-Linear-Regression.ipynb",
   "provenance": []
  },
  "kernelspec": {
   "display_name": "Python 3",
   "language": "python",
   "name": "python3"
  },
  "language_info": {
   "codemirror_mode": {
    "name": "ipython",
    "version": 3
   },
   "file_extension": ".py",
   "mimetype": "text/x-python",
   "name": "python",
   "nbconvert_exporter": "python",
   "pygments_lexer": "ipython3",
   "version": "3.8.8"
  }
 },
 "nbformat": 4,
 "nbformat_minor": 1
}
