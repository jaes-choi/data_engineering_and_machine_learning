{
 "cells": [
  {
   "cell_type": "markdown",
   "id": "94125ebd",
   "metadata": {},
   "source": [
    "# Kmeans Clustering as a feature discovery technique\n",
    "### Cluster lable를 구하면 기존 변수와 상관관계가 높아지게 되어 예측성능이 저하, So\n",
    "### Cluset transform(거리)를 구해 (만약 cluster가 n개이면, 기존변수는 모두 버리고 n개의 변수(거리)로 예측)"
   ]
  },
  {
   "cell_type": "code",
   "execution_count": 1,
   "id": "adjacent-advertising",
   "metadata": {},
   "outputs": [
    {
     "data": {
      "text/html": [
       "<style>.container { width:100% !important; }</style>"
      ],
      "text/plain": [
       "<IPython.core.display.HTML object>"
      ]
     },
     "metadata": {},
     "output_type": "display_data"
    }
   ],
   "source": [
    "from IPython.core.interactiveshell import InteractiveShell\n",
    "InteractiveShell.ast_node_interactivity = 'all'\n",
    "from IPython.core.display import display, HTML\n",
    "display(HTML(\"<style>.container { width:100% !important; }</style>\"))\n",
    "import warnings\n",
    "warnings.filterwarnings(action='ignore') \n",
    "\n",
    "import numpy as np\n",
    "import scipy as sp\n",
    "import pandas as pd\n",
    "import matplotlib.pyplot as plt\n",
    "import seaborn as sns"
   ]
  },
  {
   "cell_type": "markdown",
   "id": "velvet-browser",
   "metadata": {},
   "source": [
    "## SVM으로 예측 분류\n",
    "https://towardsdatascience.com/k-means-tricks-for-fun-and-profit-724996864274"
   ]
  },
  {
   "cell_type": "code",
   "execution_count": 2,
   "id": "incomplete-extreme",
   "metadata": {},
   "outputs": [
    {
     "data": {
      "text/plain": [
       "array([0, 1])"
      ]
     },
     "execution_count": 2,
     "metadata": {},
     "output_type": "execute_result"
    },
    {
     "data": {
      "text/plain": [
       "LinearSVC(random_state=17)"
      ]
     },
     "execution_count": 2,
     "metadata": {},
     "output_type": "execute_result"
    },
    {
     "data": {
      "text/plain": [
       "0.9300699300699301"
      ]
     },
     "execution_count": 2,
     "metadata": {},
     "output_type": "execute_result"
    }
   ],
   "source": [
    "from sklearn.cluster import KMeans\n",
    "from sklearn.svm import LinearSVC\n",
    "from sklearn.datasets import load_breast_cancer\n",
    "from sklearn.model_selection import train_test_split\n",
    "import numpy as np\n",
    "\n",
    "X, y = load_breast_cancer(return_X_y=True)\n",
    "np.unique(y)\n",
    "X_train, X_test, y_train, y_test = train_test_split(X, y, random_state=17)\n",
    "svm = LinearSVC(random_state=17)\n",
    "svm.fit(X_train, y_train)\n",
    "svm.score(X_test, y_test) # should be ~0.93"
   ]
  },
  {
   "cell_type": "code",
   "execution_count": 3,
   "id": "occasional-saint",
   "metadata": {},
   "outputs": [
    {
     "data": {
      "text/plain": [
       "array([0, 1])"
      ]
     },
     "execution_count": 3,
     "metadata": {},
     "output_type": "execute_result"
    },
    {
     "data": {
      "text/html": [
       "<div>\n",
       "<style scoped>\n",
       "    .dataframe tbody tr th:only-of-type {\n",
       "        vertical-align: middle;\n",
       "    }\n",
       "\n",
       "    .dataframe tbody tr th {\n",
       "        vertical-align: top;\n",
       "    }\n",
       "\n",
       "    .dataframe thead th {\n",
       "        text-align: right;\n",
       "    }\n",
       "</style>\n",
       "<table border=\"1\" class=\"dataframe\">\n",
       "  <thead>\n",
       "    <tr style=\"text-align: right;\">\n",
       "      <th></th>\n",
       "      <th>0</th>\n",
       "      <th>1</th>\n",
       "      <th>2</th>\n",
       "      <th>3</th>\n",
       "      <th>4</th>\n",
       "      <th>5</th>\n",
       "      <th>6</th>\n",
       "      <th>7</th>\n",
       "      <th>8</th>\n",
       "      <th>9</th>\n",
       "      <th>...</th>\n",
       "      <th>20</th>\n",
       "      <th>21</th>\n",
       "      <th>22</th>\n",
       "      <th>23</th>\n",
       "      <th>24</th>\n",
       "      <th>25</th>\n",
       "      <th>26</th>\n",
       "      <th>27</th>\n",
       "      <th>28</th>\n",
       "      <th>29</th>\n",
       "    </tr>\n",
       "  </thead>\n",
       "  <tbody>\n",
       "    <tr>\n",
       "      <th>0</th>\n",
       "      <td>8.219</td>\n",
       "      <td>20.70</td>\n",
       "      <td>53.27</td>\n",
       "      <td>203.9</td>\n",
       "      <td>0.09405</td>\n",
       "      <td>0.13050</td>\n",
       "      <td>0.132100</td>\n",
       "      <td>0.021680</td>\n",
       "      <td>0.2222</td>\n",
       "      <td>0.08261</td>\n",
       "      <td>...</td>\n",
       "      <td>9.092</td>\n",
       "      <td>29.72</td>\n",
       "      <td>58.08</td>\n",
       "      <td>249.8</td>\n",
       "      <td>0.1630</td>\n",
       "      <td>0.43100</td>\n",
       "      <td>0.538100</td>\n",
       "      <td>0.07879</td>\n",
       "      <td>0.3322</td>\n",
       "      <td>0.14860</td>\n",
       "    </tr>\n",
       "    <tr>\n",
       "      <th>1</th>\n",
       "      <td>13.960</td>\n",
       "      <td>17.05</td>\n",
       "      <td>91.43</td>\n",
       "      <td>602.4</td>\n",
       "      <td>0.10960</td>\n",
       "      <td>0.12790</td>\n",
       "      <td>0.097890</td>\n",
       "      <td>0.052460</td>\n",
       "      <td>0.1908</td>\n",
       "      <td>0.06130</td>\n",
       "      <td>...</td>\n",
       "      <td>16.390</td>\n",
       "      <td>22.07</td>\n",
       "      <td>108.10</td>\n",
       "      <td>826.0</td>\n",
       "      <td>0.1512</td>\n",
       "      <td>0.32620</td>\n",
       "      <td>0.320900</td>\n",
       "      <td>0.13740</td>\n",
       "      <td>0.3068</td>\n",
       "      <td>0.07957</td>\n",
       "    </tr>\n",
       "    <tr>\n",
       "      <th>2</th>\n",
       "      <td>15.500</td>\n",
       "      <td>21.08</td>\n",
       "      <td>102.90</td>\n",
       "      <td>803.1</td>\n",
       "      <td>0.11200</td>\n",
       "      <td>0.15710</td>\n",
       "      <td>0.152200</td>\n",
       "      <td>0.084810</td>\n",
       "      <td>0.2085</td>\n",
       "      <td>0.06864</td>\n",
       "      <td>...</td>\n",
       "      <td>23.170</td>\n",
       "      <td>27.65</td>\n",
       "      <td>157.10</td>\n",
       "      <td>1748.0</td>\n",
       "      <td>0.1517</td>\n",
       "      <td>0.40020</td>\n",
       "      <td>0.421100</td>\n",
       "      <td>0.21340</td>\n",
       "      <td>0.3003</td>\n",
       "      <td>0.10480</td>\n",
       "    </tr>\n",
       "    <tr>\n",
       "      <th>3</th>\n",
       "      <td>11.330</td>\n",
       "      <td>14.16</td>\n",
       "      <td>71.79</td>\n",
       "      <td>396.6</td>\n",
       "      <td>0.09379</td>\n",
       "      <td>0.03872</td>\n",
       "      <td>0.001487</td>\n",
       "      <td>0.003333</td>\n",
       "      <td>0.1954</td>\n",
       "      <td>0.05821</td>\n",
       "      <td>...</td>\n",
       "      <td>12.200</td>\n",
       "      <td>18.99</td>\n",
       "      <td>77.37</td>\n",
       "      <td>458.0</td>\n",
       "      <td>0.1259</td>\n",
       "      <td>0.07348</td>\n",
       "      <td>0.004955</td>\n",
       "      <td>0.01111</td>\n",
       "      <td>0.2758</td>\n",
       "      <td>0.06386</td>\n",
       "    </tr>\n",
       "    <tr>\n",
       "      <th>4</th>\n",
       "      <td>12.180</td>\n",
       "      <td>20.52</td>\n",
       "      <td>77.22</td>\n",
       "      <td>458.7</td>\n",
       "      <td>0.08013</td>\n",
       "      <td>0.04038</td>\n",
       "      <td>0.023830</td>\n",
       "      <td>0.017700</td>\n",
       "      <td>0.1739</td>\n",
       "      <td>0.05677</td>\n",
       "      <td>...</td>\n",
       "      <td>13.340</td>\n",
       "      <td>32.84</td>\n",
       "      <td>84.58</td>\n",
       "      <td>547.8</td>\n",
       "      <td>0.1123</td>\n",
       "      <td>0.08862</td>\n",
       "      <td>0.114500</td>\n",
       "      <td>0.07431</td>\n",
       "      <td>0.2694</td>\n",
       "      <td>0.06878</td>\n",
       "    </tr>\n",
       "  </tbody>\n",
       "</table>\n",
       "<p>5 rows × 30 columns</p>\n",
       "</div>"
      ],
      "text/plain": [
       "       0      1       2      3        4        5         6         7       8   \\\n",
       "0   8.219  20.70   53.27  203.9  0.09405  0.13050  0.132100  0.021680  0.2222   \n",
       "1  13.960  17.05   91.43  602.4  0.10960  0.12790  0.097890  0.052460  0.1908   \n",
       "2  15.500  21.08  102.90  803.1  0.11200  0.15710  0.152200  0.084810  0.2085   \n",
       "3  11.330  14.16   71.79  396.6  0.09379  0.03872  0.001487  0.003333  0.1954   \n",
       "4  12.180  20.52   77.22  458.7  0.08013  0.04038  0.023830  0.017700  0.1739   \n",
       "\n",
       "        9   ...      20     21      22      23      24       25        26  \\\n",
       "0  0.08261  ...   9.092  29.72   58.08   249.8  0.1630  0.43100  0.538100   \n",
       "1  0.06130  ...  16.390  22.07  108.10   826.0  0.1512  0.32620  0.320900   \n",
       "2  0.06864  ...  23.170  27.65  157.10  1748.0  0.1517  0.40020  0.421100   \n",
       "3  0.05821  ...  12.200  18.99   77.37   458.0  0.1259  0.07348  0.004955   \n",
       "4  0.05677  ...  13.340  32.84   84.58   547.8  0.1123  0.08862  0.114500   \n",
       "\n",
       "        27      28       29  \n",
       "0  0.07879  0.3322  0.14860  \n",
       "1  0.13740  0.3068  0.07957  \n",
       "2  0.21340  0.3003  0.10480  \n",
       "3  0.01111  0.2758  0.06386  \n",
       "4  0.07431  0.2694  0.06878  \n",
       "\n",
       "[5 rows x 30 columns]"
      ]
     },
     "execution_count": 3,
     "metadata": {},
     "output_type": "execute_result"
    }
   ],
   "source": [
    "np.unique(y)\n",
    "pd.DataFrame(X_train).head()"
   ]
  },
  {
   "cell_type": "markdown",
   "id": "117a8ad7",
   "metadata": {},
   "source": [
    "## SVM classification with new feature of clustering \n",
    "### 1. Cluster label을 feature로 구성한 훈련/검증데이터"
   ]
  },
  {
   "cell_type": "code",
   "execution_count": 4,
   "id": "58e38527",
   "metadata": {},
   "outputs": [],
   "source": [
    "svm = LinearSVC(random_state=17)\n",
    "kmeans = KMeans(n_clusters=3, random_state=17)"
   ]
  },
  {
   "cell_type": "markdown",
   "id": "d9ec3016",
   "metadata": {},
   "source": [
    "### 훈련데이터 with clustering label"
   ]
  },
  {
   "cell_type": "code",
   "execution_count": 5,
   "id": "d0eff9e2",
   "metadata": {
    "scrolled": true
   },
   "outputs": [
    {
     "data": {
      "text/plain": [
       "array([0, 1, 2])"
      ]
     },
     "execution_count": 5,
     "metadata": {},
     "output_type": "execute_result"
    },
    {
     "data": {
      "text/html": [
       "<div>\n",
       "<style scoped>\n",
       "    .dataframe tbody tr th:only-of-type {\n",
       "        vertical-align: middle;\n",
       "    }\n",
       "\n",
       "    .dataframe tbody tr th {\n",
       "        vertical-align: top;\n",
       "    }\n",
       "\n",
       "    .dataframe thead th {\n",
       "        text-align: right;\n",
       "    }\n",
       "</style>\n",
       "<table border=\"1\" class=\"dataframe\">\n",
       "  <thead>\n",
       "    <tr style=\"text-align: right;\">\n",
       "      <th></th>\n",
       "      <th>0</th>\n",
       "      <th>1</th>\n",
       "      <th>2</th>\n",
       "      <th>3</th>\n",
       "      <th>4</th>\n",
       "      <th>5</th>\n",
       "      <th>6</th>\n",
       "      <th>7</th>\n",
       "      <th>8</th>\n",
       "      <th>9</th>\n",
       "      <th>...</th>\n",
       "      <th>21</th>\n",
       "      <th>22</th>\n",
       "      <th>23</th>\n",
       "      <th>24</th>\n",
       "      <th>25</th>\n",
       "      <th>26</th>\n",
       "      <th>27</th>\n",
       "      <th>28</th>\n",
       "      <th>29</th>\n",
       "      <th>30</th>\n",
       "    </tr>\n",
       "  </thead>\n",
       "  <tbody>\n",
       "    <tr>\n",
       "      <th>0</th>\n",
       "      <td>8.219</td>\n",
       "      <td>20.70</td>\n",
       "      <td>53.27</td>\n",
       "      <td>203.9</td>\n",
       "      <td>0.09405</td>\n",
       "      <td>0.13050</td>\n",
       "      <td>0.132100</td>\n",
       "      <td>0.021680</td>\n",
       "      <td>0.2222</td>\n",
       "      <td>0.08261</td>\n",
       "      <td>...</td>\n",
       "      <td>29.72</td>\n",
       "      <td>58.08</td>\n",
       "      <td>249.8</td>\n",
       "      <td>0.1630</td>\n",
       "      <td>0.43100</td>\n",
       "      <td>0.538100</td>\n",
       "      <td>0.07879</td>\n",
       "      <td>0.3322</td>\n",
       "      <td>0.14860</td>\n",
       "      <td>0.0</td>\n",
       "    </tr>\n",
       "    <tr>\n",
       "      <th>1</th>\n",
       "      <td>13.960</td>\n",
       "      <td>17.05</td>\n",
       "      <td>91.43</td>\n",
       "      <td>602.4</td>\n",
       "      <td>0.10960</td>\n",
       "      <td>0.12790</td>\n",
       "      <td>0.097890</td>\n",
       "      <td>0.052460</td>\n",
       "      <td>0.1908</td>\n",
       "      <td>0.06130</td>\n",
       "      <td>...</td>\n",
       "      <td>22.07</td>\n",
       "      <td>108.10</td>\n",
       "      <td>826.0</td>\n",
       "      <td>0.1512</td>\n",
       "      <td>0.32620</td>\n",
       "      <td>0.320900</td>\n",
       "      <td>0.13740</td>\n",
       "      <td>0.3068</td>\n",
       "      <td>0.07957</td>\n",
       "      <td>0.0</td>\n",
       "    </tr>\n",
       "    <tr>\n",
       "      <th>2</th>\n",
       "      <td>15.500</td>\n",
       "      <td>21.08</td>\n",
       "      <td>102.90</td>\n",
       "      <td>803.1</td>\n",
       "      <td>0.11200</td>\n",
       "      <td>0.15710</td>\n",
       "      <td>0.152200</td>\n",
       "      <td>0.084810</td>\n",
       "      <td>0.2085</td>\n",
       "      <td>0.06864</td>\n",
       "      <td>...</td>\n",
       "      <td>27.65</td>\n",
       "      <td>157.10</td>\n",
       "      <td>1748.0</td>\n",
       "      <td>0.1517</td>\n",
       "      <td>0.40020</td>\n",
       "      <td>0.421100</td>\n",
       "      <td>0.21340</td>\n",
       "      <td>0.3003</td>\n",
       "      <td>0.10480</td>\n",
       "      <td>2.0</td>\n",
       "    </tr>\n",
       "    <tr>\n",
       "      <th>3</th>\n",
       "      <td>11.330</td>\n",
       "      <td>14.16</td>\n",
       "      <td>71.79</td>\n",
       "      <td>396.6</td>\n",
       "      <td>0.09379</td>\n",
       "      <td>0.03872</td>\n",
       "      <td>0.001487</td>\n",
       "      <td>0.003333</td>\n",
       "      <td>0.1954</td>\n",
       "      <td>0.05821</td>\n",
       "      <td>...</td>\n",
       "      <td>18.99</td>\n",
       "      <td>77.37</td>\n",
       "      <td>458.0</td>\n",
       "      <td>0.1259</td>\n",
       "      <td>0.07348</td>\n",
       "      <td>0.004955</td>\n",
       "      <td>0.01111</td>\n",
       "      <td>0.2758</td>\n",
       "      <td>0.06386</td>\n",
       "      <td>0.0</td>\n",
       "    </tr>\n",
       "    <tr>\n",
       "      <th>4</th>\n",
       "      <td>12.180</td>\n",
       "      <td>20.52</td>\n",
       "      <td>77.22</td>\n",
       "      <td>458.7</td>\n",
       "      <td>0.08013</td>\n",
       "      <td>0.04038</td>\n",
       "      <td>0.023830</td>\n",
       "      <td>0.017700</td>\n",
       "      <td>0.1739</td>\n",
       "      <td>0.05677</td>\n",
       "      <td>...</td>\n",
       "      <td>32.84</td>\n",
       "      <td>84.58</td>\n",
       "      <td>547.8</td>\n",
       "      <td>0.1123</td>\n",
       "      <td>0.08862</td>\n",
       "      <td>0.114500</td>\n",
       "      <td>0.07431</td>\n",
       "      <td>0.2694</td>\n",
       "      <td>0.06878</td>\n",
       "      <td>0.0</td>\n",
       "    </tr>\n",
       "  </tbody>\n",
       "</table>\n",
       "<p>5 rows × 31 columns</p>\n",
       "</div>"
      ],
      "text/plain": [
       "       0      1       2      3        4        5         6         7       8   \\\n",
       "0   8.219  20.70   53.27  203.9  0.09405  0.13050  0.132100  0.021680  0.2222   \n",
       "1  13.960  17.05   91.43  602.4  0.10960  0.12790  0.097890  0.052460  0.1908   \n",
       "2  15.500  21.08  102.90  803.1  0.11200  0.15710  0.152200  0.084810  0.2085   \n",
       "3  11.330  14.16   71.79  396.6  0.09379  0.03872  0.001487  0.003333  0.1954   \n",
       "4  12.180  20.52   77.22  458.7  0.08013  0.04038  0.023830  0.017700  0.1739   \n",
       "\n",
       "        9   ...     21      22      23      24       25        26       27  \\\n",
       "0  0.08261  ...  29.72   58.08   249.8  0.1630  0.43100  0.538100  0.07879   \n",
       "1  0.06130  ...  22.07  108.10   826.0  0.1512  0.32620  0.320900  0.13740   \n",
       "2  0.06864  ...  27.65  157.10  1748.0  0.1517  0.40020  0.421100  0.21340   \n",
       "3  0.05821  ...  18.99   77.37   458.0  0.1259  0.07348  0.004955  0.01111   \n",
       "4  0.05677  ...  32.84   84.58   547.8  0.1123  0.08862  0.114500  0.07431   \n",
       "\n",
       "       28       29   30  \n",
       "0  0.3322  0.14860  0.0  \n",
       "1  0.3068  0.07957  0.0  \n",
       "2  0.3003  0.10480  2.0  \n",
       "3  0.2758  0.06386  0.0  \n",
       "4  0.2694  0.06878  0.0  \n",
       "\n",
       "[5 rows x 31 columns]"
      ]
     },
     "execution_count": 5,
     "metadata": {},
     "output_type": "execute_result"
    },
    {
     "data": {
      "text/plain": [
       "0.0    0.744131\n",
       "2.0    0.215962\n",
       "1.0    0.039906\n",
       "Name: 30, dtype: float64"
      ]
     },
     "execution_count": 5,
     "metadata": {},
     "output_type": "execute_result"
    }
   ],
   "source": [
    "X_clusters_train = kmeans.fit_predict(X_train).reshape(-1, 1)\n",
    "\n",
    "# cluster의 개수와 데이터 구성\n",
    "np.unique(X_clusters_train)\n",
    "data_train = pd.DataFrame(np.hstack([X_train, X_clusters_train]))\n",
    "data_train.head()\n",
    "data_train[30].value_counts(normalize=True)"
   ]
  },
  {
   "cell_type": "markdown",
   "id": "07fc900c",
   "metadata": {},
   "source": [
    "### 검증데이터 with clustering label"
   ]
  },
  {
   "cell_type": "code",
   "execution_count": 6,
   "id": "a5af775e",
   "metadata": {},
   "outputs": [
    {
     "data": {
      "text/plain": [
       "array([0, 1, 2])"
      ]
     },
     "execution_count": 6,
     "metadata": {},
     "output_type": "execute_result"
    },
    {
     "data": {
      "text/html": [
       "<div>\n",
       "<style scoped>\n",
       "    .dataframe tbody tr th:only-of-type {\n",
       "        vertical-align: middle;\n",
       "    }\n",
       "\n",
       "    .dataframe tbody tr th {\n",
       "        vertical-align: top;\n",
       "    }\n",
       "\n",
       "    .dataframe thead th {\n",
       "        text-align: right;\n",
       "    }\n",
       "</style>\n",
       "<table border=\"1\" class=\"dataframe\">\n",
       "  <thead>\n",
       "    <tr style=\"text-align: right;\">\n",
       "      <th></th>\n",
       "      <th>0</th>\n",
       "      <th>1</th>\n",
       "      <th>2</th>\n",
       "      <th>3</th>\n",
       "      <th>4</th>\n",
       "      <th>5</th>\n",
       "      <th>6</th>\n",
       "      <th>7</th>\n",
       "      <th>8</th>\n",
       "      <th>9</th>\n",
       "      <th>...</th>\n",
       "      <th>21</th>\n",
       "      <th>22</th>\n",
       "      <th>23</th>\n",
       "      <th>24</th>\n",
       "      <th>25</th>\n",
       "      <th>26</th>\n",
       "      <th>27</th>\n",
       "      <th>28</th>\n",
       "      <th>29</th>\n",
       "      <th>30</th>\n",
       "    </tr>\n",
       "  </thead>\n",
       "  <tbody>\n",
       "    <tr>\n",
       "      <th>0</th>\n",
       "      <td>12.56</td>\n",
       "      <td>19.07</td>\n",
       "      <td>81.92</td>\n",
       "      <td>485.8</td>\n",
       "      <td>0.08760</td>\n",
       "      <td>0.10380</td>\n",
       "      <td>0.10300</td>\n",
       "      <td>0.04391</td>\n",
       "      <td>0.1533</td>\n",
       "      <td>0.06184</td>\n",
       "      <td>...</td>\n",
       "      <td>22.43</td>\n",
       "      <td>89.02</td>\n",
       "      <td>547.4</td>\n",
       "      <td>0.1096</td>\n",
       "      <td>0.2002</td>\n",
       "      <td>0.23880</td>\n",
       "      <td>0.09265</td>\n",
       "      <td>0.2121</td>\n",
       "      <td>0.07188</td>\n",
       "      <td>0.0</td>\n",
       "    </tr>\n",
       "    <tr>\n",
       "      <th>1</th>\n",
       "      <td>11.04</td>\n",
       "      <td>16.83</td>\n",
       "      <td>70.92</td>\n",
       "      <td>373.2</td>\n",
       "      <td>0.10770</td>\n",
       "      <td>0.07804</td>\n",
       "      <td>0.03046</td>\n",
       "      <td>0.02480</td>\n",
       "      <td>0.1714</td>\n",
       "      <td>0.06340</td>\n",
       "      <td>...</td>\n",
       "      <td>26.44</td>\n",
       "      <td>79.93</td>\n",
       "      <td>471.4</td>\n",
       "      <td>0.1369</td>\n",
       "      <td>0.1482</td>\n",
       "      <td>0.10670</td>\n",
       "      <td>0.07431</td>\n",
       "      <td>0.2998</td>\n",
       "      <td>0.07881</td>\n",
       "      <td>0.0</td>\n",
       "    </tr>\n",
       "    <tr>\n",
       "      <th>2</th>\n",
       "      <td>11.81</td>\n",
       "      <td>17.39</td>\n",
       "      <td>75.27</td>\n",
       "      <td>428.9</td>\n",
       "      <td>0.10070</td>\n",
       "      <td>0.05562</td>\n",
       "      <td>0.02353</td>\n",
       "      <td>0.01553</td>\n",
       "      <td>0.1718</td>\n",
       "      <td>0.05780</td>\n",
       "      <td>...</td>\n",
       "      <td>26.48</td>\n",
       "      <td>79.57</td>\n",
       "      <td>489.5</td>\n",
       "      <td>0.1356</td>\n",
       "      <td>0.1000</td>\n",
       "      <td>0.08803</td>\n",
       "      <td>0.04306</td>\n",
       "      <td>0.3200</td>\n",
       "      <td>0.06576</td>\n",
       "      <td>0.0</td>\n",
       "    </tr>\n",
       "    <tr>\n",
       "      <th>3</th>\n",
       "      <td>13.87</td>\n",
       "      <td>16.21</td>\n",
       "      <td>88.52</td>\n",
       "      <td>593.7</td>\n",
       "      <td>0.08743</td>\n",
       "      <td>0.05492</td>\n",
       "      <td>0.01502</td>\n",
       "      <td>0.02088</td>\n",
       "      <td>0.1424</td>\n",
       "      <td>0.05883</td>\n",
       "      <td>...</td>\n",
       "      <td>25.58</td>\n",
       "      <td>96.74</td>\n",
       "      <td>694.4</td>\n",
       "      <td>0.1153</td>\n",
       "      <td>0.1008</td>\n",
       "      <td>0.05285</td>\n",
       "      <td>0.05556</td>\n",
       "      <td>0.2362</td>\n",
       "      <td>0.07113</td>\n",
       "      <td>0.0</td>\n",
       "    </tr>\n",
       "    <tr>\n",
       "      <th>4</th>\n",
       "      <td>11.08</td>\n",
       "      <td>14.71</td>\n",
       "      <td>70.21</td>\n",
       "      <td>372.7</td>\n",
       "      <td>0.10060</td>\n",
       "      <td>0.05743</td>\n",
       "      <td>0.02363</td>\n",
       "      <td>0.02583</td>\n",
       "      <td>0.1566</td>\n",
       "      <td>0.06669</td>\n",
       "      <td>...</td>\n",
       "      <td>16.82</td>\n",
       "      <td>72.01</td>\n",
       "      <td>396.5</td>\n",
       "      <td>0.1216</td>\n",
       "      <td>0.0824</td>\n",
       "      <td>0.03938</td>\n",
       "      <td>0.04306</td>\n",
       "      <td>0.1902</td>\n",
       "      <td>0.07313</td>\n",
       "      <td>0.0</td>\n",
       "    </tr>\n",
       "  </tbody>\n",
       "</table>\n",
       "<p>5 rows × 31 columns</p>\n",
       "</div>"
      ],
      "text/plain": [
       "      0      1      2      3        4        5        6        7       8   \\\n",
       "0  12.56  19.07  81.92  485.8  0.08760  0.10380  0.10300  0.04391  0.1533   \n",
       "1  11.04  16.83  70.92  373.2  0.10770  0.07804  0.03046  0.02480  0.1714   \n",
       "2  11.81  17.39  75.27  428.9  0.10070  0.05562  0.02353  0.01553  0.1718   \n",
       "3  13.87  16.21  88.52  593.7  0.08743  0.05492  0.01502  0.02088  0.1424   \n",
       "4  11.08  14.71  70.21  372.7  0.10060  0.05743  0.02363  0.02583  0.1566   \n",
       "\n",
       "        9   ...     21     22     23      24      25       26       27  \\\n",
       "0  0.06184  ...  22.43  89.02  547.4  0.1096  0.2002  0.23880  0.09265   \n",
       "1  0.06340  ...  26.44  79.93  471.4  0.1369  0.1482  0.10670  0.07431   \n",
       "2  0.05780  ...  26.48  79.57  489.5  0.1356  0.1000  0.08803  0.04306   \n",
       "3  0.05883  ...  25.58  96.74  694.4  0.1153  0.1008  0.05285  0.05556   \n",
       "4  0.06669  ...  16.82  72.01  396.5  0.1216  0.0824  0.03938  0.04306   \n",
       "\n",
       "       28       29   30  \n",
       "0  0.2121  0.07188  0.0  \n",
       "1  0.2998  0.07881  0.0  \n",
       "2  0.3200  0.06576  0.0  \n",
       "3  0.2362  0.07113  0.0  \n",
       "4  0.1902  0.07313  0.0  \n",
       "\n",
       "[5 rows x 31 columns]"
      ]
     },
     "execution_count": 6,
     "metadata": {},
     "output_type": "execute_result"
    },
    {
     "data": {
      "text/plain": [
       "0.0    0.699301\n",
       "2.0    0.174825\n",
       "1.0    0.125874\n",
       "Name: 30, dtype: float64"
      ]
     },
     "execution_count": 6,
     "metadata": {},
     "output_type": "execute_result"
    }
   ],
   "source": [
    "X_clusters_test = kmeans.fit_predict(X_test).reshape(-1, 1)\n",
    "np.unique(X_clusters_test)\n",
    "data_test = pd.DataFrame(np.hstack([X_test, X_clusters_test]))\n",
    "data_test.head()\n",
    "data_test[30].value_counts(normalize=True)"
   ]
  },
  {
   "cell_type": "code",
   "execution_count": 7,
   "id": "e339c848",
   "metadata": {
    "scrolled": true
   },
   "outputs": [
    {
     "data": {
      "text/plain": [
       "LinearSVC(random_state=17)"
      ]
     },
     "execution_count": 7,
     "metadata": {},
     "output_type": "execute_result"
    },
    {
     "data": {
      "text/plain": [
       "0.9370629370629371"
      ]
     },
     "execution_count": 7,
     "metadata": {},
     "output_type": "execute_result"
    }
   ],
   "source": [
    "svm.fit(data_train, y_train)\n",
    "svm.score(data_test, y_test) # should be ~0.937"
   ]
  },
  {
   "cell_type": "markdown",
   "id": "10cf158f",
   "metadata": {},
   "source": [
    "### 검증데이터 with clustering distances"
   ]
  },
  {
   "cell_type": "code",
   "execution_count": 8,
   "id": "single-rebate",
   "metadata": {
    "scrolled": false
   },
   "outputs": [
    {
     "data": {
      "text/html": [
       "<div>\n",
       "<style scoped>\n",
       "    .dataframe tbody tr th:only-of-type {\n",
       "        vertical-align: middle;\n",
       "    }\n",
       "\n",
       "    .dataframe tbody tr th {\n",
       "        vertical-align: top;\n",
       "    }\n",
       "\n",
       "    .dataframe thead th {\n",
       "        text-align: right;\n",
       "    }\n",
       "</style>\n",
       "<table border=\"1\" class=\"dataframe\">\n",
       "  <thead>\n",
       "    <tr style=\"text-align: right;\">\n",
       "      <th></th>\n",
       "      <th>0</th>\n",
       "      <th>1</th>\n",
       "      <th>2</th>\n",
       "    </tr>\n",
       "  </thead>\n",
       "  <tbody>\n",
       "    <tr>\n",
       "      <th>0</th>\n",
       "      <td>460.810456</td>\n",
       "      <td>2856.187554</td>\n",
       "      <td>1492.436826</td>\n",
       "    </tr>\n",
       "    <tr>\n",
       "      <th>1</th>\n",
       "      <td>246.126672</td>\n",
       "      <td>2155.525148</td>\n",
       "      <td>788.934356</td>\n",
       "    </tr>\n",
       "    <tr>\n",
       "      <th>2</th>\n",
       "      <td>1193.675364</td>\n",
       "      <td>1275.165189</td>\n",
       "      <td>360.824967</td>\n",
       "    </tr>\n",
       "    <tr>\n",
       "      <th>3</th>\n",
       "      <td>177.948433</td>\n",
       "      <td>2578.850344</td>\n",
       "      <td>1211.961091</td>\n",
       "    </tr>\n",
       "    <tr>\n",
       "      <th>4</th>\n",
       "      <td>69.661908</td>\n",
       "      <td>2470.238122</td>\n",
       "      <td>1102.790002</td>\n",
       "    </tr>\n",
       "  </tbody>\n",
       "</table>\n",
       "</div>"
      ],
      "text/plain": [
       "             0            1            2\n",
       "0   460.810456  2856.187554  1492.436826\n",
       "1   246.126672  2155.525148   788.934356\n",
       "2  1193.675364  1275.165189   360.824967\n",
       "3   177.948433  2578.850344  1211.961091\n",
       "4    69.661908  2470.238122  1102.790002"
      ]
     },
     "execution_count": 8,
     "metadata": {},
     "output_type": "execute_result"
    },
    {
     "data": {
      "text/plain": [
       "LinearSVC(random_state=17)"
      ]
     },
     "execution_count": 8,
     "metadata": {},
     "output_type": "execute_result"
    },
    {
     "data": {
      "text/plain": [
       "0.7272727272727273"
      ]
     },
     "execution_count": 8,
     "metadata": {},
     "output_type": "execute_result"
    }
   ],
   "source": [
    "# imports from the example above\n",
    "svm = LinearSVC(random_state=17)\n",
    "kmeans = KMeans(n_clusters=3, random_state=17)\n",
    "X_clusters = kmeans.fit_transform(X_train)\n",
    "pd.DataFrame(X_clusters).head()\n",
    "\n",
    "svm.fit(np.hstack([X_train, X_clusters]), y_train)\n",
    "svm.score(np.hstack([X_test, kmeans.transform(X_test)]), y_test)\n",
    "# should be ~0.727\n",
    "# kmeans.transform(X_test)"
   ]
  },
  {
   "cell_type": "markdown",
   "id": "attended-particular",
   "metadata": {},
   "source": [
    "### <font color ='red'> 클러스터의 거리를 파생변수로 추출하여 예측하면 성능이 떨어지나? 거리와 원래 변수간 상관관계가 높기 떄문(PCA)"
   ]
  },
  {
   "cell_type": "code",
   "execution_count": 9,
   "id": "precious-eleven",
   "metadata": {},
   "outputs": [
    {
     "data": {
      "text/html": [
       "<div>\n",
       "<style scoped>\n",
       "    .dataframe tbody tr th:only-of-type {\n",
       "        vertical-align: middle;\n",
       "    }\n",
       "\n",
       "    .dataframe tbody tr th {\n",
       "        vertical-align: top;\n",
       "    }\n",
       "\n",
       "    .dataframe thead th {\n",
       "        text-align: right;\n",
       "    }\n",
       "</style>\n",
       "<table border=\"1\" class=\"dataframe\">\n",
       "  <thead>\n",
       "    <tr style=\"text-align: right;\">\n",
       "      <th></th>\n",
       "      <th>mean radius</th>\n",
       "      <th>mean texture</th>\n",
       "      <th>mean perimeter</th>\n",
       "      <th>mean area</th>\n",
       "      <th>mean smoothness</th>\n",
       "      <th>mean compactness</th>\n",
       "      <th>mean concavity</th>\n",
       "      <th>mean concave points</th>\n",
       "      <th>mean symmetry</th>\n",
       "      <th>mean fractal dimension</th>\n",
       "      <th>...</th>\n",
       "      <th>worst area</th>\n",
       "      <th>worst smoothness</th>\n",
       "      <th>worst compactness</th>\n",
       "      <th>worst concavity</th>\n",
       "      <th>worst concave points</th>\n",
       "      <th>worst symmetry</th>\n",
       "      <th>worst fractal dimension</th>\n",
       "      <th>distance to cluster 1</th>\n",
       "      <th>distance to cluster 2</th>\n",
       "      <th>distance to cluster 3</th>\n",
       "    </tr>\n",
       "  </thead>\n",
       "  <tbody>\n",
       "    <tr>\n",
       "      <th>0</th>\n",
       "      <td>8.219</td>\n",
       "      <td>20.70</td>\n",
       "      <td>53.27</td>\n",
       "      <td>203.9</td>\n",
       "      <td>0.09405</td>\n",
       "      <td>0.13050</td>\n",
       "      <td>0.132100</td>\n",
       "      <td>0.021680</td>\n",
       "      <td>0.2222</td>\n",
       "      <td>0.08261</td>\n",
       "      <td>...</td>\n",
       "      <td>249.8</td>\n",
       "      <td>0.1630</td>\n",
       "      <td>0.43100</td>\n",
       "      <td>0.538100</td>\n",
       "      <td>0.07879</td>\n",
       "      <td>0.3322</td>\n",
       "      <td>0.14860</td>\n",
       "      <td>460.810456</td>\n",
       "      <td>2856.187554</td>\n",
       "      <td>1492.436826</td>\n",
       "    </tr>\n",
       "    <tr>\n",
       "      <th>1</th>\n",
       "      <td>13.960</td>\n",
       "      <td>17.05</td>\n",
       "      <td>91.43</td>\n",
       "      <td>602.4</td>\n",
       "      <td>0.10960</td>\n",
       "      <td>0.12790</td>\n",
       "      <td>0.097890</td>\n",
       "      <td>0.052460</td>\n",
       "      <td>0.1908</td>\n",
       "      <td>0.06130</td>\n",
       "      <td>...</td>\n",
       "      <td>826.0</td>\n",
       "      <td>0.1512</td>\n",
       "      <td>0.32620</td>\n",
       "      <td>0.320900</td>\n",
       "      <td>0.13740</td>\n",
       "      <td>0.3068</td>\n",
       "      <td>0.07957</td>\n",
       "      <td>246.126672</td>\n",
       "      <td>2155.525148</td>\n",
       "      <td>788.934356</td>\n",
       "    </tr>\n",
       "    <tr>\n",
       "      <th>2</th>\n",
       "      <td>15.500</td>\n",
       "      <td>21.08</td>\n",
       "      <td>102.90</td>\n",
       "      <td>803.1</td>\n",
       "      <td>0.11200</td>\n",
       "      <td>0.15710</td>\n",
       "      <td>0.152200</td>\n",
       "      <td>0.084810</td>\n",
       "      <td>0.2085</td>\n",
       "      <td>0.06864</td>\n",
       "      <td>...</td>\n",
       "      <td>1748.0</td>\n",
       "      <td>0.1517</td>\n",
       "      <td>0.40020</td>\n",
       "      <td>0.421100</td>\n",
       "      <td>0.21340</td>\n",
       "      <td>0.3003</td>\n",
       "      <td>0.10480</td>\n",
       "      <td>1193.675364</td>\n",
       "      <td>1275.165189</td>\n",
       "      <td>360.824967</td>\n",
       "    </tr>\n",
       "    <tr>\n",
       "      <th>3</th>\n",
       "      <td>11.330</td>\n",
       "      <td>14.16</td>\n",
       "      <td>71.79</td>\n",
       "      <td>396.6</td>\n",
       "      <td>0.09379</td>\n",
       "      <td>0.03872</td>\n",
       "      <td>0.001487</td>\n",
       "      <td>0.003333</td>\n",
       "      <td>0.1954</td>\n",
       "      <td>0.05821</td>\n",
       "      <td>...</td>\n",
       "      <td>458.0</td>\n",
       "      <td>0.1259</td>\n",
       "      <td>0.07348</td>\n",
       "      <td>0.004955</td>\n",
       "      <td>0.01111</td>\n",
       "      <td>0.2758</td>\n",
       "      <td>0.06386</td>\n",
       "      <td>177.948433</td>\n",
       "      <td>2578.850344</td>\n",
       "      <td>1211.961091</td>\n",
       "    </tr>\n",
       "    <tr>\n",
       "      <th>4</th>\n",
       "      <td>12.180</td>\n",
       "      <td>20.52</td>\n",
       "      <td>77.22</td>\n",
       "      <td>458.7</td>\n",
       "      <td>0.08013</td>\n",
       "      <td>0.04038</td>\n",
       "      <td>0.023830</td>\n",
       "      <td>0.017700</td>\n",
       "      <td>0.1739</td>\n",
       "      <td>0.05677</td>\n",
       "      <td>...</td>\n",
       "      <td>547.8</td>\n",
       "      <td>0.1123</td>\n",
       "      <td>0.08862</td>\n",
       "      <td>0.114500</td>\n",
       "      <td>0.07431</td>\n",
       "      <td>0.2694</td>\n",
       "      <td>0.06878</td>\n",
       "      <td>69.661908</td>\n",
       "      <td>2470.238122</td>\n",
       "      <td>1102.790002</td>\n",
       "    </tr>\n",
       "    <tr>\n",
       "      <th>...</th>\n",
       "      <td>...</td>\n",
       "      <td>...</td>\n",
       "      <td>...</td>\n",
       "      <td>...</td>\n",
       "      <td>...</td>\n",
       "      <td>...</td>\n",
       "      <td>...</td>\n",
       "      <td>...</td>\n",
       "      <td>...</td>\n",
       "      <td>...</td>\n",
       "      <td>...</td>\n",
       "      <td>...</td>\n",
       "      <td>...</td>\n",
       "      <td>...</td>\n",
       "      <td>...</td>\n",
       "      <td>...</td>\n",
       "      <td>...</td>\n",
       "      <td>...</td>\n",
       "      <td>...</td>\n",
       "      <td>...</td>\n",
       "      <td>...</td>\n",
       "    </tr>\n",
       "    <tr>\n",
       "      <th>421</th>\n",
       "      <td>11.540</td>\n",
       "      <td>10.72</td>\n",
       "      <td>73.73</td>\n",
       "      <td>409.1</td>\n",
       "      <td>0.08597</td>\n",
       "      <td>0.05969</td>\n",
       "      <td>0.013670</td>\n",
       "      <td>0.008907</td>\n",
       "      <td>0.1833</td>\n",
       "      <td>0.06100</td>\n",
       "      <td>...</td>\n",
       "      <td>467.8</td>\n",
       "      <td>0.1092</td>\n",
       "      <td>0.16260</td>\n",
       "      <td>0.083240</td>\n",
       "      <td>0.04715</td>\n",
       "      <td>0.3390</td>\n",
       "      <td>0.07434</td>\n",
       "      <td>163.786752</td>\n",
       "      <td>2564.595523</td>\n",
       "      <td>1197.315783</td>\n",
       "    </tr>\n",
       "    <tr>\n",
       "      <th>422</th>\n",
       "      <td>16.140</td>\n",
       "      <td>14.86</td>\n",
       "      <td>104.30</td>\n",
       "      <td>800.0</td>\n",
       "      <td>0.09495</td>\n",
       "      <td>0.08501</td>\n",
       "      <td>0.055000</td>\n",
       "      <td>0.045280</td>\n",
       "      <td>0.1735</td>\n",
       "      <td>0.05875</td>\n",
       "      <td>...</td>\n",
       "      <td>947.9</td>\n",
       "      <td>0.1206</td>\n",
       "      <td>0.17220</td>\n",
       "      <td>0.231000</td>\n",
       "      <td>0.11290</td>\n",
       "      <td>0.2778</td>\n",
       "      <td>0.07012</td>\n",
       "      <td>461.348649</td>\n",
       "      <td>1957.557337</td>\n",
       "      <td>588.944731</td>\n",
       "    </tr>\n",
       "    <tr>\n",
       "      <th>423</th>\n",
       "      <td>10.260</td>\n",
       "      <td>12.22</td>\n",
       "      <td>65.75</td>\n",
       "      <td>321.6</td>\n",
       "      <td>0.09996</td>\n",
       "      <td>0.07542</td>\n",
       "      <td>0.019230</td>\n",
       "      <td>0.019680</td>\n",
       "      <td>0.1800</td>\n",
       "      <td>0.06569</td>\n",
       "      <td>...</td>\n",
       "      <td>394.5</td>\n",
       "      <td>0.1343</td>\n",
       "      <td>0.16500</td>\n",
       "      <td>0.086150</td>\n",
       "      <td>0.06696</td>\n",
       "      <td>0.2937</td>\n",
       "      <td>0.07722</td>\n",
       "      <td>273.503420</td>\n",
       "      <td>2671.432833</td>\n",
       "      <td>1306.126128</td>\n",
       "    </tr>\n",
       "    <tr>\n",
       "      <th>424</th>\n",
       "      <td>12.900</td>\n",
       "      <td>15.92</td>\n",
       "      <td>83.74</td>\n",
       "      <td>512.2</td>\n",
       "      <td>0.08677</td>\n",
       "      <td>0.09509</td>\n",
       "      <td>0.048940</td>\n",
       "      <td>0.030880</td>\n",
       "      <td>0.1778</td>\n",
       "      <td>0.06235</td>\n",
       "      <td>...</td>\n",
       "      <td>643.8</td>\n",
       "      <td>0.1312</td>\n",
       "      <td>0.25480</td>\n",
       "      <td>0.209000</td>\n",
       "      <td>0.10120</td>\n",
       "      <td>0.3549</td>\n",
       "      <td>0.08118</td>\n",
       "      <td>43.142430</td>\n",
       "      <td>2359.892913</td>\n",
       "      <td>992.376748</td>\n",
       "    </tr>\n",
       "    <tr>\n",
       "      <th>425</th>\n",
       "      <td>12.420</td>\n",
       "      <td>15.04</td>\n",
       "      <td>78.61</td>\n",
       "      <td>476.5</td>\n",
       "      <td>0.07926</td>\n",
       "      <td>0.03393</td>\n",
       "      <td>0.010530</td>\n",
       "      <td>0.011080</td>\n",
       "      <td>0.1546</td>\n",
       "      <td>0.05754</td>\n",
       "      <td>...</td>\n",
       "      <td>543.4</td>\n",
       "      <td>0.1037</td>\n",
       "      <td>0.07776</td>\n",
       "      <td>0.062430</td>\n",
       "      <td>0.04052</td>\n",
       "      <td>0.2901</td>\n",
       "      <td>0.06783</td>\n",
       "      <td>68.752003</td>\n",
       "      <td>2466.016402</td>\n",
       "      <td>1097.822352</td>\n",
       "    </tr>\n",
       "  </tbody>\n",
       "</table>\n",
       "<p>426 rows × 33 columns</p>\n",
       "</div>"
      ],
      "text/plain": [
       "     mean radius  mean texture  mean perimeter  mean area  mean smoothness  \\\n",
       "0          8.219         20.70           53.27      203.9          0.09405   \n",
       "1         13.960         17.05           91.43      602.4          0.10960   \n",
       "2         15.500         21.08          102.90      803.1          0.11200   \n",
       "3         11.330         14.16           71.79      396.6          0.09379   \n",
       "4         12.180         20.52           77.22      458.7          0.08013   \n",
       "..           ...           ...             ...        ...              ...   \n",
       "421       11.540         10.72           73.73      409.1          0.08597   \n",
       "422       16.140         14.86          104.30      800.0          0.09495   \n",
       "423       10.260         12.22           65.75      321.6          0.09996   \n",
       "424       12.900         15.92           83.74      512.2          0.08677   \n",
       "425       12.420         15.04           78.61      476.5          0.07926   \n",
       "\n",
       "     mean compactness  mean concavity  mean concave points  mean symmetry  \\\n",
       "0             0.13050        0.132100             0.021680         0.2222   \n",
       "1             0.12790        0.097890             0.052460         0.1908   \n",
       "2             0.15710        0.152200             0.084810         0.2085   \n",
       "3             0.03872        0.001487             0.003333         0.1954   \n",
       "4             0.04038        0.023830             0.017700         0.1739   \n",
       "..                ...             ...                  ...            ...   \n",
       "421           0.05969        0.013670             0.008907         0.1833   \n",
       "422           0.08501        0.055000             0.045280         0.1735   \n",
       "423           0.07542        0.019230             0.019680         0.1800   \n",
       "424           0.09509        0.048940             0.030880         0.1778   \n",
       "425           0.03393        0.010530             0.011080         0.1546   \n",
       "\n",
       "     mean fractal dimension  ...  worst area  worst smoothness  \\\n",
       "0                   0.08261  ...       249.8            0.1630   \n",
       "1                   0.06130  ...       826.0            0.1512   \n",
       "2                   0.06864  ...      1748.0            0.1517   \n",
       "3                   0.05821  ...       458.0            0.1259   \n",
       "4                   0.05677  ...       547.8            0.1123   \n",
       "..                      ...  ...         ...               ...   \n",
       "421                 0.06100  ...       467.8            0.1092   \n",
       "422                 0.05875  ...       947.9            0.1206   \n",
       "423                 0.06569  ...       394.5            0.1343   \n",
       "424                 0.06235  ...       643.8            0.1312   \n",
       "425                 0.05754  ...       543.4            0.1037   \n",
       "\n",
       "     worst compactness  worst concavity  worst concave points  worst symmetry  \\\n",
       "0              0.43100         0.538100               0.07879          0.3322   \n",
       "1              0.32620         0.320900               0.13740          0.3068   \n",
       "2              0.40020         0.421100               0.21340          0.3003   \n",
       "3              0.07348         0.004955               0.01111          0.2758   \n",
       "4              0.08862         0.114500               0.07431          0.2694   \n",
       "..                 ...              ...                   ...             ...   \n",
       "421            0.16260         0.083240               0.04715          0.3390   \n",
       "422            0.17220         0.231000               0.11290          0.2778   \n",
       "423            0.16500         0.086150               0.06696          0.2937   \n",
       "424            0.25480         0.209000               0.10120          0.3549   \n",
       "425            0.07776         0.062430               0.04052          0.2901   \n",
       "\n",
       "     worst fractal dimension  distance to cluster 1  distance to cluster 2  \\\n",
       "0                    0.14860             460.810456            2856.187554   \n",
       "1                    0.07957             246.126672            2155.525148   \n",
       "2                    0.10480            1193.675364            1275.165189   \n",
       "3                    0.06386             177.948433            2578.850344   \n",
       "4                    0.06878              69.661908            2470.238122   \n",
       "..                       ...                    ...                    ...   \n",
       "421                  0.07434             163.786752            2564.595523   \n",
       "422                  0.07012             461.348649            1957.557337   \n",
       "423                  0.07722             273.503420            2671.432833   \n",
       "424                  0.08118              43.142430            2359.892913   \n",
       "425                  0.06783              68.752003            2466.016402   \n",
       "\n",
       "     distance to cluster 3  \n",
       "0              1492.436826  \n",
       "1               788.934356  \n",
       "2               360.824967  \n",
       "3              1211.961091  \n",
       "4              1102.790002  \n",
       "..                     ...  \n",
       "421            1197.315783  \n",
       "422             588.944731  \n",
       "423            1306.126128  \n",
       "424             992.376748  \n",
       "425            1097.822352  \n",
       "\n",
       "[426 rows x 33 columns]"
      ]
     },
     "execution_count": 9,
     "metadata": {},
     "output_type": "execute_result"
    }
   ],
   "source": [
    "import matplotlib.pyplot as plt\n",
    "import seaborn as sns\n",
    "import pandas as pd\n",
    "columns = ['mean radius', 'mean texture', 'mean perimeter', 'mean area', 'mean smoothness', \n",
    "           'mean compactness', 'mean concavity', 'mean concave points', 'mean symmetry', \n",
    "           'mean fractal dimension', 'radius error', 'texture error', 'perimeter error', \n",
    "           'area error', 'smoothness error', 'compactness error', 'concavity error', 'concave points error', \n",
    "           'symmetry error', 'fractal dimension error', 'worst radius', 'worst texture', 'worst perimeter', \n",
    "           'worst area', 'worst smoothness', 'worst compactness', 'worst concavity', 'worst concave points', \n",
    "           'worst symmetry', 'worst fractal dimension', 'distance to cluster 1', 'distance to cluster 2', 'distance to cluster 3']\n",
    "data = pd.DataFrame.from_records(np.hstack([X_train, X_clusters]), columns=columns)\n",
    "data = pd.DataFrame(np.hstack([X_train, X_clusters]), columns=columns)\n",
    "data"
   ]
  },
  {
   "cell_type": "code",
   "execution_count": 10,
   "id": "26a79341",
   "metadata": {},
   "outputs": [],
   "source": [
    "#data.corr().style.background_gradient(axis=0)"
   ]
  },
  {
   "cell_type": "code",
   "execution_count": 11,
   "id": "structured-dealing",
   "metadata": {},
   "outputs": [
    {
     "data": {
      "text/plain": [
       "<AxesSubplot:>"
      ]
     },
     "execution_count": 11,
     "metadata": {},
     "output_type": "execute_result"
    },
    {
     "data": {
      "text/plain": [
       "(array([ 0.5,  2.5,  4.5,  6.5,  8.5, 10.5, 12.5, 14.5, 16.5, 18.5, 20.5,\n",
       "        22.5, 24.5, 26.5, 28.5, 30.5, 32.5]),\n",
       " [Text(0.5, 0, 'mean radius'),\n",
       "  Text(2.5, 0, 'mean perimeter'),\n",
       "  Text(4.5, 0, 'mean smoothness'),\n",
       "  Text(6.5, 0, 'mean concavity'),\n",
       "  Text(8.5, 0, 'mean symmetry'),\n",
       "  Text(10.5, 0, 'radius error'),\n",
       "  Text(12.5, 0, 'perimeter error'),\n",
       "  Text(14.5, 0, 'smoothness error'),\n",
       "  Text(16.5, 0, 'concavity error'),\n",
       "  Text(18.5, 0, 'symmetry error'),\n",
       "  Text(20.5, 0, 'worst radius'),\n",
       "  Text(22.5, 0, 'worst perimeter'),\n",
       "  Text(24.5, 0, 'worst smoothness'),\n",
       "  Text(26.5, 0, 'worst concavity'),\n",
       "  Text(28.5, 0, 'worst symmetry'),\n",
       "  Text(30.5, 0, 'distance to cluster 1'),\n",
       "  Text(32.5, 0, 'distance to cluster 3')])"
      ]
     },
     "execution_count": 11,
     "metadata": {},
     "output_type": "execute_result"
    },
    {
     "data": {
      "image/png": "[encoded data removed]",
      "text/plain": [
       "<Figure size 432x288 with 2 Axes>"
      ]
     },
     "metadata": {
      "needs_background": "light"
     },
     "output_type": "display_data"
    }
   ],
   "source": [
    "sns.heatmap(data.corr())\n",
    "plt.xticks(rotation=-45)\n",
    "plt.show()"
   ]
  },
  {
   "cell_type": "markdown",
   "id": "alone-minority",
   "metadata": {},
   "source": [
    "## 2. 원래 변수는 모두 제거하고 클러스터링 거리, 파생변수만 가지고 예측"
   ]
  },
  {
   "cell_type": "code",
   "execution_count": 12,
   "id": "794d3273",
   "metadata": {
    "scrolled": false
   },
   "outputs": [
    {
     "data": {
      "image/png": "[encoded data removed]",
      "text/plain": [
       "<Figure size 576x396 with 1 Axes>"
      ]
     },
     "metadata": {},
     "output_type": "display_data"
    },
    {
     "data": {
      "text/plain": [
       "SilhouetteVisualizer(ax=<AxesSubplot:title={'center':'Silhouette Plot of KMeans Clustering for 426 Samples in 2 Centers'}, xlabel='silhouette coefficient values', ylabel='cluster label'>,\n",
       "                     colors='yellowbrick',\n",
       "                     estimator=KMeans(n_clusters=2, random_state=16))"
      ]
     },
     "execution_count": 12,
     "metadata": {},
     "output_type": "execute_result"
    },
    {
     "data": {
      "image/png": "[encoded data removed]",
      "text/plain": [
       "<Figure size 576x396 with 1 Axes>"
      ]
     },
     "metadata": {},
     "output_type": "display_data"
    },
    {
     "data": {
      "text/plain": [
       "SilhouetteVisualizer(ax=<AxesSubplot:title={'center':'Silhouette Plot of KMeans Clustering for 426 Samples in 3 Centers'}, xlabel='silhouette coefficient values', ylabel='cluster label'>,\n",
       "                     colors='yellowbrick',\n",
       "                     estimator=KMeans(n_clusters=3, random_state=16))"
      ]
     },
     "execution_count": 12,
     "metadata": {},
     "output_type": "execute_result"
    },
    {
     "data": {
      "image/png": "[encoded data removed]",
      "text/plain": [
       "<Figure size 576x396 with 1 Axes>"
      ]
     },
     "metadata": {},
     "output_type": "display_data"
    },
    {
     "data": {
      "text/plain": [
       "SilhouetteVisualizer(ax=<AxesSubplot:title={'center':'Silhouette Plot of KMeans Clustering for 426 Samples in 4 Centers'}, xlabel='silhouette coefficient values', ylabel='cluster label'>,\n",
       "                     colors='yellowbrick',\n",
       "                     estimator=KMeans(n_clusters=4, random_state=16))"
      ]
     },
     "execution_count": 12,
     "metadata": {},
     "output_type": "execute_result"
    },
    {
     "data": {
      "image/png": "[encoded data removed]",
      "text/plain": [
       "<Figure size 576x396 with 1 Axes>"
      ]
     },
     "metadata": {},
     "output_type": "display_data"
    },
    {
     "data": {
      "text/plain": [
       "SilhouetteVisualizer(ax=<AxesSubplot:title={'center':'Silhouette Plot of KMeans Clustering for 426 Samples in 5 Centers'}, xlabel='silhouette coefficient values', ylabel='cluster label'>,\n",
       "                     colors='yellowbrick',\n",
       "                     estimator=KMeans(n_clusters=5, random_state=16))"
      ]
     },
     "execution_count": 12,
     "metadata": {},
     "output_type": "execute_result"
    },
    {
     "data": {
      "image/png": "[encoded data removed]",
      "text/plain": [
       "<Figure size 576x396 with 1 Axes>"
      ]
     },
     "metadata": {},
     "output_type": "display_data"
    },
    {
     "data": {
      "text/plain": [
       "SilhouetteVisualizer(ax=<AxesSubplot:title={'center':'Silhouette Plot of KMeans Clustering for 426 Samples in 6 Centers'}, xlabel='silhouette coefficient values', ylabel='cluster label'>,\n",
       "                     colors='yellowbrick',\n",
       "                     estimator=KMeans(n_clusters=6, random_state=16))"
      ]
     },
     "execution_count": 12,
     "metadata": {},
     "output_type": "execute_result"
    },
    {
     "data": {
      "image/png": "[encoded data removed]",
      "text/plain": [
       "<Figure size 576x396 with 1 Axes>"
      ]
     },
     "metadata": {},
     "output_type": "display_data"
    },
    {
     "data": {
      "text/plain": [
       "SilhouetteVisualizer(ax=<AxesSubplot:title={'center':'Silhouette Plot of KMeans Clustering for 426 Samples in 7 Centers'}, xlabel='silhouette coefficient values', ylabel='cluster label'>,\n",
       "                     colors='yellowbrick',\n",
       "                     estimator=KMeans(n_clusters=7, random_state=16))"
      ]
     },
     "execution_count": 12,
     "metadata": {},
     "output_type": "execute_result"
    }
   ],
   "source": [
    "from yellowbrick.cluster import silhouette_visualizer\n",
    "# Use the quick method and immediately show the figure\n",
    "for i in range(2,8):\n",
    "    silhouette_visualizer(KMeans(n_clusters=i, random_state=16),\n",
    "                      X_train, \n",
    "                      colors='yellowbrick')"
   ]
  },
  {
   "cell_type": "code",
   "execution_count": 13,
   "id": "98bda38e",
   "metadata": {},
   "outputs": [
    {
     "data": {
      "text/html": [
       "<div>\n",
       "<style scoped>\n",
       "    .dataframe tbody tr th:only-of-type {\n",
       "        vertical-align: middle;\n",
       "    }\n",
       "\n",
       "    .dataframe tbody tr th {\n",
       "        vertical-align: top;\n",
       "    }\n",
       "\n",
       "    .dataframe thead th {\n",
       "        text-align: right;\n",
       "    }\n",
       "</style>\n",
       "<table border=\"1\" class=\"dataframe\">\n",
       "  <thead>\n",
       "    <tr style=\"text-align: right;\">\n",
       "      <th></th>\n",
       "      <th>0</th>\n",
       "      <th>1</th>\n",
       "      <th>2</th>\n",
       "    </tr>\n",
       "  </thead>\n",
       "  <tbody>\n",
       "    <tr>\n",
       "      <th>0</th>\n",
       "      <td>460.810456</td>\n",
       "      <td>2856.187554</td>\n",
       "      <td>1492.436826</td>\n",
       "    </tr>\n",
       "    <tr>\n",
       "      <th>1</th>\n",
       "      <td>246.126672</td>\n",
       "      <td>2155.525148</td>\n",
       "      <td>788.934356</td>\n",
       "    </tr>\n",
       "    <tr>\n",
       "      <th>2</th>\n",
       "      <td>1193.675364</td>\n",
       "      <td>1275.165189</td>\n",
       "      <td>360.824967</td>\n",
       "    </tr>\n",
       "    <tr>\n",
       "      <th>3</th>\n",
       "      <td>177.948433</td>\n",
       "      <td>2578.850344</td>\n",
       "      <td>1211.961091</td>\n",
       "    </tr>\n",
       "    <tr>\n",
       "      <th>4</th>\n",
       "      <td>69.661908</td>\n",
       "      <td>2470.238122</td>\n",
       "      <td>1102.790002</td>\n",
       "    </tr>\n",
       "  </tbody>\n",
       "</table>\n",
       "</div>"
      ],
      "text/plain": [
       "             0            1            2\n",
       "0   460.810456  2856.187554  1492.436826\n",
       "1   246.126672  2155.525148   788.934356\n",
       "2  1193.675364  1275.165189   360.824967\n",
       "3   177.948433  2578.850344  1211.961091\n",
       "4    69.661908  2470.238122  1102.790002"
      ]
     },
     "execution_count": 13,
     "metadata": {},
     "output_type": "execute_result"
    },
    {
     "data": {
      "text/plain": [
       "LinearSVC(random_state=17)"
      ]
     },
     "execution_count": 13,
     "metadata": {},
     "output_type": "execute_result"
    },
    {
     "data": {
      "text/plain": [
       "0.951048951048951"
      ]
     },
     "execution_count": 13,
     "metadata": {},
     "output_type": "execute_result"
    }
   ],
   "source": [
    "# imports from the example above\n",
    "svm = LinearSVC(random_state=17)\n",
    "kmeans = KMeans(n_clusters=3, random_state=17)\n",
    "X_clusters = kmeans.fit_transform(X_train)\n",
    "pd.DataFrame(X_clusters).head()\n",
    "svm.fit(X_clusters, y_train)\n",
    "svm.score(kmeans.transform(X_test), y_test) # should be ~0.951"
   ]
  },
  {
   "cell_type": "markdown",
   "id": "9f783d2b",
   "metadata": {},
   "source": [
    "# End"
   ]
  }
 ],
 "metadata": {
  "kernelspec": {
   "display_name": "Python 3",
   "language": "python",
   "name": "python3"
  },
  "language_info": {
   "codemirror_mode": {
    "name": "ipython",
    "version": 3
   },
   "file_extension": ".py",
   "mimetype": "text/x-python",
   "name": "python",
   "nbconvert_exporter": "python",
   "pygments_lexer": "ipython3",
   "version": "3.8.8"
  }
 },
 "nbformat": 4,
 "nbformat_minor": 5
}
