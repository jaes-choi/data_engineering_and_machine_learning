{
 "cells": [
  {
   "cell_type": "markdown",
   "metadata": {},
   "source": [
    "# Genetic algorithms\n",
    "https://arxiv.org/abs/2106.06158"
   ]
  },
  {
   "cell_type": "code",
   "execution_count": 1,
   "metadata": {},
   "outputs": [
    {
     "data": {
      "text/html": [
       "<style>.container { width:100% !important; }</style>"
      ],
      "text/plain": [
       "<IPython.core.display.HTML object>"
      ]
     },
     "metadata": {},
     "output_type": "display_data"
    }
   ],
   "source": [
    "# 명령 결과 모두 보기\n",
    "from IPython.core.interactiveshell import InteractiveShell\n",
    "InteractiveShell.ast_node_interactivity = 'all'\n",
    "from IPython.core.display import display, HTML\n",
    "display(HTML(\"<style>.container { width:100% !important; }</style>\"))\n",
    "\n",
    "# 버전 경고 무시\n",
    "import warnings\n",
    "warnings.filterwarnings('ignore')"
   ]
  },
  {
   "cell_type": "code",
   "execution_count": 2,
   "metadata": {},
   "outputs": [],
   "source": [
    "import pygad\n",
    "import numpy"
   ]
  },
  {
   "cell_type": "code",
   "execution_count": 3,
   "metadata": {},
   "outputs": [
    {
     "data": {
      "text/plain": [
       "'\\nThe y=target is to maximize this equation ASAP:\\n    Y = W1*X1 + W2*X2 + W3*X3\\n    where \\n           Y = 44\\n          (X1, X1, X3)=(4,-2,3.5)\\n    What are the best values for the 3 weights W1 to W3?\\n    We are going to use the genetic algorithm for the best possible values after a number of generations.\\n'"
      ]
     },
     "execution_count": 3,
     "metadata": {},
     "output_type": "execute_result"
    }
   ],
   "source": [
    "\"\"\"\n",
    "The y=target is to maximize this equation ASAP:\n",
    "    Y = W1*X1 + W2*X2 + W3*X3\n",
    "    where \n",
    "           Y = 44\n",
    "          (X1, X1, X3)=(4,-2,3.5)\n",
    "    What are the best values for the 3 weights W1 to W3?\n",
    "    We are going to use the genetic algorithm for the best possible values after a number of generations.\n",
    "\"\"\""
   ]
  },
  {
   "cell_type": "code",
   "execution_count": 4,
   "metadata": {},
   "outputs": [],
   "source": [
    "equation_inputs = [4, -2, 3.5]\n",
    "Y = 44"
   ]
  },
  {
   "cell_type": "code",
   "execution_count": 5,
   "metadata": {},
   "outputs": [],
   "source": [
    "def fitness_func(solution, solution_idx):\n",
    "    output = numpy.sum(solution * equation_inputs)\n",
    "    fitness = 1.0 / (numpy.abs(output - Y) + 0.000000001) # Fitness value of the best solution\n",
    "    return fitness"
   ]
  },
  {
   "cell_type": "code",
   "execution_count": 6,
   "metadata": {},
   "outputs": [],
   "source": [
    "ga_instance = pygad.GA(num_generations = 100,\n",
    "                       fitness_func=fitness_func,\n",
    "                       sol_per_pop = 10,\n",
    "                       num_parents_mating = 5,\n",
    "                       num_genes = 3)\n",
    "ga_instance.run()"
   ]
  },
  {
   "cell_type": "markdown",
   "metadata": {},
   "source": [
    "## 1) best_solution(): Returns the following information about the best solution found by PyGAD:\n",
    "- a) The parameters of the best solution (e.g. the 3 weights for the problem solved in Listing 1.\n",
    "- b) The fitness value of the best solution.\n",
    "- c) The index of this solution in its population.\n",
    "\n",
    "##  2) plot_result():  Creates a plot showing how the fitness\n",
    "value evolves by each generation. This method returns the figure in case the user would like to save it."
   ]
  },
  {
   "cell_type": "code",
   "execution_count": 7,
   "metadata": {},
   "outputs": [
    {
     "name": "stdout",
     "output_type": "stream",
     "text": [
      "(array([ 4.88298852, -3.30629027,  5.1017591 ]), 1446.1522523730823, 0)\n"
     ]
    }
   ],
   "source": [
    "print(ga_instance.best_solution())"
   ]
  },
  {
   "cell_type": "code",
   "execution_count": 8,
   "metadata": {},
   "outputs": [
    {
     "name": "stdout",
     "output_type": "stream",
     "text": [
      "Parameters of the best solution : [ 4.88298852 -3.30629027  5.1017591 ]\n",
      "Fitness value of the best solution = 1446.1522523730823\n"
     ]
    }
   ],
   "source": [
    "solution, solution_fitness, solution_idx = ga_instance.best_solution()\n",
    "print(f\"Parameters of the best solution : {solution}\")\n",
    "print(f\"Fitness value of the best solution = {solution_fitness}\")"
   ]
  },
  {
   "cell_type": "code",
   "execution_count": 9,
   "metadata": {},
   "outputs": [
    {
     "name": "stdout",
     "output_type": "stream",
     "text": [
      "Predicted output based on the best solution : 44.00069148912378\n"
     ]
    }
   ],
   "source": [
    "prediction = numpy.sum(numpy.array(equation_inputs)*solution)\n",
    "print(f\"Predicted output based on the best solution : {prediction}\")"
   ]
  },
  {
   "cell_type": "code",
   "execution_count": 10,
   "metadata": {},
   "outputs": [
    {
     "data": {
      "image/png": "[encoded data removed]",
      "text/plain": [
       "<Figure size 432x288 with 1 Axes>"
      ]
     },
     "metadata": {
      "needs_background": "light"
     },
     "output_type": "display_data"
    }
   ],
   "source": [
    "fig = ga_instance.plot_fitness()"
   ]
  },
  {
   "cell_type": "markdown",
   "metadata": {},
   "source": [
    "## Genetic Algorithm Python\n",
    "https://towardsdatascience.com/genetic-algorithm-implementation-in-python-5ab67bb124a6"
   ]
  },
  {
   "cell_type": "markdown",
   "metadata": {},
   "source": [
    "## 6개 유전자를 가진 최적의 염색체\n",
    "The equation has 6 inputs (x1 to x6) and 6 weights (w1 to w6) as shown and inputs values are (x1,x2,x3,x4,x5,x6)=(4,-2,7,5,11,1). We are looking to find the parameters (weights) that maximize such equation."
   ]
  },
  {
   "cell_type": "code",
   "execution_count": 11,
   "metadata": {},
   "outputs": [
    {
     "data": {
      "text/plain": [
       "'\\nThe y=target is to maximize this equation ASAP:\\n    y = w1x1+w2x2+w3x3+w4x4+w5x5+6wx6\\n    where (x1,x2,x3,x4,x5,x6)=(4,-2,3.5,5,-11,-4.7)\\n    What are the best values for the 6 weights w1 to w6?\\n    We are going to use the genetic algorithm for the best possible values after a number of generations.\\n'"
      ]
     },
     "execution_count": 11,
     "metadata": {},
     "output_type": "execute_result"
    }
   ],
   "source": [
    "\"\"\"\n",
    "The y=target is to maximize this equation ASAP:\n",
    "    y = w1x1+w2x2+w3x3+w4x4+w5x5+6wx6\n",
    "    where (x1,x2,x3,x4,x5,x6)=(4,-2,3.5,5,-11,-4.7)\n",
    "    What are the best values for the 6 weights w1 to w6?\n",
    "    We are going to use the genetic algorithm for the best possible values after a number of generations.\n",
    "\"\"\""
   ]
  },
  {
   "cell_type": "code",
   "execution_count": 12,
   "metadata": {},
   "outputs": [],
   "source": [
    "# Inputs of the equation.\n",
    "equation_inputs = [4, -2, 3.5, 5, -11, -4.7]"
   ]
  },
  {
   "cell_type": "code",
   "execution_count": 13,
   "metadata": {},
   "outputs": [],
   "source": [
    "def fitness_func(solution, solution_idx):\n",
    "    fitness = numpy.sum(solution * equation_inputs) # Fitness value of the best solution\n",
    "    return fitness"
   ]
  },
  {
   "cell_type": "code",
   "execution_count": 14,
   "metadata": {},
   "outputs": [],
   "source": [
    "ga_instance = pygad.GA(num_generations = 5,\n",
    "                       fitness_func=fitness_func,\n",
    "                       sol_per_pop = 8,\n",
    "                       num_parents_mating = 4,\n",
    "                       num_genes = 6)\n",
    "ga_instance.run()"
   ]
  },
  {
   "cell_type": "code",
   "execution_count": 15,
   "metadata": {},
   "outputs": [
    {
     "name": "stdout",
     "output_type": "stream",
     "text": [
      "(array([ 3.93842579, -1.3134689 ,  2.68667823,  2.47072114, -3.19725645,\n",
      "       -3.52551492]), 91.87736147473775, 7)\n"
     ]
    }
   ],
   "source": [
    "print(ga_instance.best_solution())"
   ]
  },
  {
   "cell_type": "code",
   "execution_count": 16,
   "metadata": {},
   "outputs": [
    {
     "name": "stdout",
     "output_type": "stream",
     "text": [
      "Parameters of the best solution : [ 3.93842579 -1.3134689   2.68667823  2.47072114 -3.19725645 -3.52551492]\n",
      "Fitness value of the best solution = 91.87736147473775\n"
     ]
    }
   ],
   "source": [
    "solution, solution_fitness, solution_idx = ga_instance.best_solution()\n",
    "print(f\"Parameters of the best solution : {solution}\")\n",
    "print(f\"Fitness value of the best solution = {solution_fitness}\")"
   ]
  },
  {
   "cell_type": "code",
   "execution_count": 17,
   "metadata": {},
   "outputs": [
    {
     "data": {
      "text/plain": [
       "89.20401386199998"
      ]
     },
     "execution_count": 17,
     "metadata": {},
     "output_type": "execute_result"
    }
   ],
   "source": [
    "W = numpy.array([ 3.76878301,  1.23595292, -0.60336164,  3.20877529, -4.21580933, -3.46697326])\n",
    "numpy.sum(W * equation_inputs)"
   ]
  },
  {
   "cell_type": "code",
   "execution_count": 18,
   "metadata": {},
   "outputs": [],
   "source": [
    "# 예제에는 돌연 변이를 포함"
   ]
  },
  {
   "cell_type": "code",
   "execution_count": 19,
   "metadata": {},
   "outputs": [
    {
     "data": {
      "text/plain": [
       "44.81692354700001"
      ]
     },
     "execution_count": 19,
     "metadata": {},
     "output_type": "execute_result"
    }
   ],
   "source": [
    "W = numpy.array([3.00912373, -2.745417, 3.27131287,-1.40103767,-2.20744102, 0.30567304])\n",
    "numpy.sum(W * equation_inputs)"
   ]
  },
  {
   "cell_type": "code",
   "execution_count": 20,
   "metadata": {},
   "outputs": [
    {
     "name": "stdout",
     "output_type": "stream",
     "text": [
      "Predicted output based on the best solution : 91.87736147473775\n"
     ]
    }
   ],
   "source": [
    "prediction = numpy.sum(numpy.array(equation_inputs)*solution)\n",
    "print(f\"Predicted output based on the best solution : {prediction}\")"
   ]
  },
  {
   "cell_type": "code",
   "execution_count": 21,
   "metadata": {},
   "outputs": [
    {
     "data": {
      "image/png": "[encoded data removed]",
      "text/plain": [
       "<Figure size 432x288 with 1 Axes>"
      ]
     },
     "metadata": {
      "needs_background": "light"
     },
     "output_type": "display_data"
    }
   ],
   "source": [
    "fig = ga_instance.plot_fitness()"
   ]
  },
  {
   "cell_type": "markdown",
   "metadata": {},
   "source": [
    "## sklearn-genetic 0.4.1\n",
    "https://pypi.org/project/sklearn-genetic/"
   ]
  },
  {
   "cell_type": "code",
   "execution_count": 22,
   "metadata": {},
   "outputs": [
    {
     "name": "stdout",
     "output_type": "stream",
     "text": [
      "Selecting features with genetic algorithm.\n",
      "gen\tnevals\tavg                    \tstd                  \tmin                    \tmax        \n",
      "0  \t50    \t[0.48373333 2.8       ]\t[0.2211371 1.356466 ]\t[0.22666667 1.        ]\t[0.92 5.  ]\n",
      "1  \t35    \t[-799.42626667    3.46      ]\t[2.71310119e+03 1.72290452e+00]\t[-1.e+04  1.e+00]      \t[0.92 8.  ]\n",
      "2  \t31    \t[-1399.3512     3.66  ]      \t[3.47013209e+03 1.66865215e+00]\t[-1.e+04  1.e+00]      \t[0.92 9.  ]\n",
      "3  \t25    \t[0.83093333 3.46      ]      \t[0.12209111 1.11731822]        \t[0.27333333 2.        ]\t[0.94 5.  ]\n",
      "4  \t31    \t[-799.20866667    3.82      ]\t[2.71316535e+03 1.36660162e+00]\t[-1.e+04  2.e+00]      \t[0.94 7.  ]\n",
      "5  \t31    \t[-399.16373333    3.82      ]\t[1.95976250e+03 1.12587744e+00]\t[-1.e+04  2.e+00]      \t[0.96 7.  ]\n",
      "6  \t32    \t[-799.1496    4.28  ]        \t[2.71318276e+03 8.25590698e-01]\t[-1.e+04  2.e+00]      \t[0.96 6.  ]\n",
      "7  \t33    \t[-799.14413333    4.36      ]\t[2.71318437e+03 8.89044431e-01]\t[-1.e+04  2.e+00]      \t[0.96 7.  ]\n",
      "8  \t19    \t[-1199.1664     4.56  ]      \t[3.24992319e+03 8.97997773e-01]\t[-1.e+04  3.e+00]      \t[0.96 7.  ]\n",
      "9  \t39    \t[-1199.16506667     4.62      ]\t[3.24992368e+03 1.01764434e+00]\t[-1.e+04  3.e+00]      \t[0.96 8.  ]\n",
      "10 \t27    \t[-799.12266667    4.58      ]  \t[2.71319070e+03 8.02246845e-01]\t[-1.e+04  2.e+00]      \t[0.96 6.  ]\n",
      "11 \t24    \t[-599.0984    4.74  ]          \t[2.37509620e+03 7.15821207e-01]\t[-1.e+04  4.e+00]      \t[0.96 8.  ]\n",
      "12 \t27    \t[-999.1376    4.44  ]          \t[3.00028747e+03 6.97423831e-01]\t[-1.e+04  3.e+00]      \t[0.96 6.  ]\n",
      "13 \t34    \t[-599.0976    4.24  ]          \t[2.3750964e+03 6.8000000e-01]  \t[-1.e+04  4.e+00]      \t[0.96 7.  ]\n",
      "14 \t27    \t[-399.0792    4.14  ]          \t[1.95977975e+03 6.32771681e-01]\t[-1.e+04  2.e+00]      \t[0.96 7.  ]\n",
      "15 \t32    \t[-399.07853333    4.22      ]  \t[1.95977989e+03 5.01597448e-01]\t[-1.e+04  4.e+00]      \t[0.96 6.  ]\n",
      "16 \t23    \t[-399.0792    4.16  ]          \t[1.95977975e+03 6.43739078e-01]\t[-1.e+04  4.e+00]      \t[0.96 8.  ]\n",
      "17 \t28    \t[-799.11773333    4.3       ]  \t[2.71319216e+03 7.28010989e-01]\t[-1.e+04  4.e+00]      \t[0.96 7.  ]\n",
      "18 \t26    \t[-399.07946667    4.22      ]  \t[1.95977970e+03 7.82048592e-01]\t[-1.e+04  4.e+00]      \t[0.96 9.  ]\n",
      "19 \t36    \t[-399.07893333    4.16      ]  \t[1.95977981e+03 6.11882342e-01]\t[-1.e+04  4.e+00]      \t[0.96 7.  ]\n",
      "[ True  True  True  True False False False False False False False False\n",
      " False False False False False False False False False False False False]\n"
     ]
    }
   ],
   "source": [
    "from __future__ import print_function\n",
    "import numpy as np\n",
    "from sklearn import datasets, linear_model\n",
    "\n",
    "from genetic_selection import GeneticSelectionCV\n",
    "\n",
    "\n",
    "def main():\n",
    "    iris = datasets.load_iris()\n",
    "\n",
    "    # Some noisy data not correlated\n",
    "    E = np.random.uniform(0, 0.1, size=(len(iris.data), 20))\n",
    "\n",
    "    X = np.hstack((iris.data, E))\n",
    "    y = iris.target\n",
    "\n",
    "    estimator = linear_model.LogisticRegression(solver=\"liblinear\", multi_class=\"ovr\")\n",
    "\n",
    "    selector = GeneticSelectionCV(estimator,\n",
    "                                  cv=5,\n",
    "                                  verbose=1,\n",
    "                                  scoring=\"accuracy\",\n",
    "                                  max_features=5,\n",
    "                                  n_population=50,\n",
    "                                  crossover_proba=0.5,\n",
    "                                  mutation_proba=0.2,\n",
    "                                  n_generations=40,\n",
    "                                  crossover_independent_proba=0.5,\n",
    "                                  mutation_independent_proba=0.05,\n",
    "                                  tournament_size=3,\n",
    "                                  n_gen_no_change=10,\n",
    "                                  caching=True,\n",
    "                                  n_jobs=-1)\n",
    "    selector = selector.fit(X, y)\n",
    "\n",
    "    print(selector.support_)\n",
    "\n",
    "\n",
    "if __name__ == \"__main__\":\n",
    "    main()"
   ]
  },
  {
   "cell_type": "markdown",
   "metadata": {},
   "source": [
    "# How to Use Sklearn-genetic-opt\n",
    "https://sklearn-genetic-opt.readthedocs.io/en/stable/tutorials/basic_usage.html"
   ]
  },
  {
   "cell_type": "code",
   "execution_count": 23,
   "metadata": {},
   "outputs": [],
   "source": [
    "from sklearn_genetic import GASearchCV\n",
    "from sklearn_genetic.space import Categorical, Integer, Continuous\n",
    "from sklearn.model_selection import train_test_split, StratifiedKFold\n",
    "from sklearn.ensemble import RandomForestClassifier\n",
    "from sklearn.datasets import load_digits\n",
    "from sklearn.metrics import accuracy_score"
   ]
  },
  {
   "cell_type": "code",
   "execution_count": 24,
   "metadata": {},
   "outputs": [
    {
     "data": {
      "text/plain": [
       "<matplotlib.image.AxesImage at 0x2a4728b0340>"
      ]
     },
     "execution_count": 24,
     "metadata": {},
     "output_type": "execute_result"
    },
    {
     "data": {
      "text/plain": [
       "Text(0.5, 1.0, 'Training: 0')"
      ]
     },
     "execution_count": 24,
     "metadata": {},
     "output_type": "execute_result"
    },
    {
     "data": {
      "text/plain": [
       "<matplotlib.image.AxesImage at 0x2a4728b07c0>"
      ]
     },
     "execution_count": 24,
     "metadata": {},
     "output_type": "execute_result"
    },
    {
     "data": {
      "text/plain": [
       "Text(0.5, 1.0, 'Training: 1')"
      ]
     },
     "execution_count": 24,
     "metadata": {},
     "output_type": "execute_result"
    },
    {
     "data": {
      "text/plain": [
       "<matplotlib.image.AxesImage at 0x2a4728b0af0>"
      ]
     },
     "execution_count": 24,
     "metadata": {},
     "output_type": "execute_result"
    },
    {
     "data": {
      "text/plain": [
       "Text(0.5, 1.0, 'Training: 2')"
      ]
     },
     "execution_count": 24,
     "metadata": {},
     "output_type": "execute_result"
    },
    {
     "data": {
      "text/plain": [
       "<matplotlib.image.AxesImage at 0x2a47177a3a0>"
      ]
     },
     "execution_count": 24,
     "metadata": {},
     "output_type": "execute_result"
    },
    {
     "data": {
      "text/plain": [
       "Text(0.5, 1.0, 'Training: 3')"
      ]
     },
     "execution_count": 24,
     "metadata": {},
     "output_type": "execute_result"
    },
    {
     "data": {
      "image/png": "[encoded data removed]",
      "text/plain": [
       "<Figure size 720x216 with 4 Axes>"
      ]
     },
     "metadata": {
      "needs_background": "light"
     },
     "output_type": "display_data"
    }
   ],
   "source": [
    "import matplotlib.pyplot as plt\n",
    "data = load_digits()\n",
    "n_samples = len(data.images)\n",
    "X = data.images.reshape((n_samples, -1))\n",
    "y = data['target']\n",
    "X_train, X_test, y_train, y_test = train_test_split(X, y, test_size=0.33, random_state=42)\n",
    "\n",
    "_, axes = plt.subplots(nrows=1, ncols=4, figsize=(10, 3))\n",
    "for ax, image, label in zip(axes, data.images, data.target):\n",
    "    ax.set_axis_off()\n",
    "    ax.imshow(image, cmap=plt.cm.gray_r, interpolation='nearest')\n",
    "    ax.set_title('Training: %i' % label)"
   ]
  },
  {
   "cell_type": "code",
   "execution_count": 25,
   "metadata": {},
   "outputs": [],
   "source": [
    "param_grid = {'min_weight_fraction_leaf': Continuous(0.01, 0.5, distribution='log-uniform'),\n",
    "              'bootstrap': Categorical([True, False]),\n",
    "              'max_depth': Integer(2, 30),\n",
    "              'max_leaf_nodes': Integer(2, 35),\n",
    "              'n_estimators': Integer(100, 300)}"
   ]
  },
  {
   "cell_type": "code",
   "execution_count": 26,
   "metadata": {},
   "outputs": [],
   "source": [
    "# The base classifier to tune\n",
    "clf = RandomForestClassifier()\n",
    "\n",
    "# Our cross-validation strategy (it could be just an int)\n",
    "cv = StratifiedKFold(n_splits=3, shuffle=True)\n",
    "\n",
    "# The main class from sklearn-genetic-opt\n",
    "evolved_estimator = GASearchCV(estimator=clf,\n",
    "                              cv=cv,\n",
    "                              scoring='accuracy',\n",
    "                              param_grid=param_grid,\n",
    "                              n_jobs=-1,\n",
    "                              verbose=True)"
   ]
  },
  {
   "cell_type": "code",
   "execution_count": 27,
   "metadata": {},
   "outputs": [
    {
     "name": "stdout",
     "output_type": "stream",
     "text": [
      "gen\tnevals\tfitness \tfitness_std\tfitness_max\tfitness_min\n",
      "0  \t10    \t0.818786\t0.0754576  \t0.930175   \t0.650873   \n",
      "1  \t19    \t0.850042\t0.0543875  \t0.930175   \t0.78803    \n",
      "2  \t20    \t0.90532 \t0.0236884  \t0.934331   \t0.862012   \n",
      "3  \t19    \t0.918371\t0.0138688  \t0.936825   \t0.902743   \n",
      "4  \t19    \t0.924771\t0.0127226  \t0.936825   \t0.906068   \n",
      "5  \t19    \t0.936326\t0.00315877 \t0.940981   \t0.930175   \n",
      "6  \t20    \t0.936825\t0.00313241 \t0.940981   \t0.931837   \n",
      "7  \t16    \t0.938155\t0.00235702 \t0.940981   \t0.935162   \n",
      "8  \t19    \t0.938404\t0.00224439 \t0.940981   \t0.935162   \n",
      "9  \t17    \t0.938404\t0.00205137 \t0.941812   \t0.935162   \n",
      "10 \t18    \t0.937988\t0.00290821 \t0.941812   \t0.9335     \n",
      "11 \t18    \t0.939983\t0.00192449 \t0.941812   \t0.935993   \n",
      "12 \t18    \t0.939152\t0.00340307 \t0.941812   \t0.930175   \n",
      "13 \t18    \t0.939817\t0.00360807 \t0.941812   \t0.929343   \n",
      "14 \t19    \t0.940067\t0.00108063 \t0.941812   \t0.938487   \n",
      "15 \t18    \t0.938487\t0.00315439 \t0.941812   \t0.931837   \n",
      "16 \t19    \t0.9399  \t0.00207148 \t0.941812   \t0.935993   \n",
      "17 \t19    \t0.939485\t0.00259692 \t0.941812   \t0.934331   \n",
      "18 \t18    \t0.938238\t0.00326314 \t0.940981   \t0.932668   \n",
      "19 \t18    \t0.941646\t0.00081446 \t0.942643   \t0.940981   \n",
      "20 \t18    \t0.940981\t0.00223049 \t0.942643   \t0.935993   \n",
      "21 \t18    \t0.940898\t0.0017614  \t0.942643   \t0.937656   \n",
      "22 \t18    \t0.94148 \t0.00281156 \t0.944306   \t0.935162   \n",
      "23 \t15    \t0.940565\t0.00309357 \t0.944306   \t0.934331   \n",
      "24 \t19    \t0.941812\t0.00240921 \t0.944306   \t0.935162   \n",
      "25 \t20    \t0.940233\t0.00269229 \t0.942643   \t0.935162   \n",
      "26 \t18    \t0.94123 \t0.00200365 \t0.942643   \t0.936825   \n",
      "27 \t16    \t0.939983\t0.00257018 \t0.942643   \t0.935993   \n",
      "28 \t20    \t0.939152\t0.00306101 \t0.942643   \t0.934331   \n",
      "29 \t20    \t0.939734\t0.00278811 \t0.942643   \t0.934331   \n",
      "30 \t18    \t0.940067\t0.00233492 \t0.942643   \t0.936825   \n",
      "31 \t17    \t0.939734\t0.00252816 \t0.942643   \t0.934331   \n",
      "32 \t20    \t0.93857 \t0.00320761 \t0.942643   \t0.931006   \n",
      "33 \t17    \t0.937988\t0.00283603 \t0.94015    \t0.932668   \n",
      "34 \t18    \t0.93882 \t0.00210949 \t0.941812   \t0.935162   \n",
      "35 \t17    \t0.938903\t0.00158811 \t0.94015    \t0.935993   \n",
      "36 \t16    \t0.940648\t0.002554   \t0.943475   \t0.936825   \n",
      "37 \t20    \t0.942228\t0.00154399 \t0.943475   \t0.94015    \n",
      "38 \t20    \t0.939983\t0.00428399 \t0.943475   \t0.934331   \n",
      "39 \t18    \t0.940316\t0.00342332 \t0.943475   \t0.935162   \n",
      "40 \t18    \t0.937822\t0.00282627 \t0.943475   \t0.935162   \n"
     ]
    },
    {
     "data": {
      "text/plain": [
       "GASearchCV(cv=StratifiedKFold(n_splits=3, random_state=None, shuffle=True),\n",
       "           estimator=RandomForestClassifier(bootstrap=False, max_depth=17,\n",
       "                                            max_leaf_nodes=30,\n",
       "                                            min_weight_fraction_leaf=0.014063753910338362,\n",
       "                                            n_estimators=282),\n",
       "           n_jobs=-1,\n",
       "           param_grid={'bootstrap': <sklearn_genetic.space.space.Categorical object at 0x000002A4725CBD30>,\n",
       "                       'max_depth': <sklearn_genetic.space.space.Integer object at 0x000002A4725CBD90>,\n",
       "                       'max_leaf_nodes': <sklearn_genetic.space.space.Integer object at 0x000002A4725CB7C0>,\n",
       "                       'min_weight_fraction_leaf': <sklearn_genetic.space.space.Continuous object at 0x000002A4725CBC70>,\n",
       "                       'n_estimators': <sklearn_genetic.space.space.Integer object at 0x000002A4725CBD60>},\n",
       "           return_train_score=True, scoring='accuracy')"
      ]
     },
     "execution_count": 27,
     "metadata": {},
     "output_type": "execute_result"
    }
   ],
   "source": [
    " # Train and optimize the estimator\n",
    "evolved_estimator.fit(X_train, y_train)"
   ]
  },
  {
   "cell_type": "code",
   "execution_count": 28,
   "metadata": {},
   "outputs": [
    {
     "name": "stdout",
     "output_type": "stream",
     "text": [
      "{'min_weight_fraction_leaf': 0.014063753910338362, 'bootstrap': False, 'max_depth': 17, 'max_leaf_nodes': 30, 'n_estimators': 282}\n",
      "0.9377104377104377\n"
     ]
    }
   ],
   "source": [
    "# Best parameters found\n",
    "print(evolved_estimator.best_params_)\n",
    "# Use the model fitted with the best parameters\n",
    "y_predict_ga = evolved_estimator.predict(X_test)\n",
    "print(accuracy_score(y_test, y_predict_ga))"
   ]
  },
  {
   "cell_type": "code",
   "execution_count": 29,
   "metadata": {},
   "outputs": [
    {
     "data": {
      "text/plain": [
       "<AxesSubplot:title={'center':'Fitness average evolution over generations'}, xlabel='generations', ylabel='fitness (accuracy)'>"
      ]
     },
     "execution_count": 29,
     "metadata": {},
     "output_type": "execute_result"
    },
    {
     "data": {
      "image/png": "[encoded data removed]",
      "text/plain": [
       "<Figure size 720x720 with 1 Axes>"
      ]
     },
     "metadata": {},
     "output_type": "display_data"
    }
   ],
   "source": [
    "from sklearn_genetic.plots import plot_fitness_evolution\n",
    "plot_fitness_evolution(evolved_estimator)\n",
    "plt.show()"
   ]
  },
  {
   "cell_type": "markdown",
   "metadata": {},
   "source": [
    "# Train Neural Networks Using a Genetic Algorithm in Python with PyGAD\n",
    "- Both genetic algorithms (GAs) and neural networks (NNs) are similar, as both are biologically-inspired techniques. This similarity motivates us to create a hybrid of both to see whether a GA can train NNs with high accuracy.\n",
    "https://heartbeat.fritz.ai/train-neural-networks-using-a-genetic-algorithm-in-python-with-pygad-862905048429"
   ]
  },
  {
   "cell_type": "code",
   "execution_count": 30,
   "metadata": {},
   "outputs": [],
   "source": [
    "data_inputs = numpy.array([[1, 1],\n",
    "                           [1, 0],\n",
    "                           [0, 1],\n",
    "                           [0, 0]])\n",
    "data_outputs = numpy.array([0, \n",
    "                            1, \n",
    "                            1, \n",
    "                            0])"
   ]
  },
  {
   "cell_type": "code",
   "execution_count": 31,
   "metadata": {},
   "outputs": [
    {
     "data": {
      "text/html": [
       "<div>\n",
       "<style scoped>\n",
       "    .dataframe tbody tr th:only-of-type {\n",
       "        vertical-align: middle;\n",
       "    }\n",
       "\n",
       "    .dataframe tbody tr th {\n",
       "        vertical-align: top;\n",
       "    }\n",
       "\n",
       "    .dataframe thead th {\n",
       "        text-align: right;\n",
       "    }\n",
       "</style>\n",
       "<table border=\"1\" class=\"dataframe\">\n",
       "  <thead>\n",
       "    <tr style=\"text-align: right;\">\n",
       "      <th></th>\n",
       "      <th>x1</th>\n",
       "      <th>x2</th>\n",
       "      <th>xor</th>\n",
       "    </tr>\n",
       "  </thead>\n",
       "  <tbody>\n",
       "    <tr>\n",
       "      <th>0</th>\n",
       "      <td>1</td>\n",
       "      <td>1</td>\n",
       "      <td>0</td>\n",
       "    </tr>\n",
       "    <tr>\n",
       "      <th>1</th>\n",
       "      <td>1</td>\n",
       "      <td>0</td>\n",
       "      <td>1</td>\n",
       "    </tr>\n",
       "    <tr>\n",
       "      <th>2</th>\n",
       "      <td>0</td>\n",
       "      <td>1</td>\n",
       "      <td>1</td>\n",
       "    </tr>\n",
       "    <tr>\n",
       "      <th>3</th>\n",
       "      <td>0</td>\n",
       "      <td>0</td>\n",
       "      <td>0</td>\n",
       "    </tr>\n",
       "  </tbody>\n",
       "</table>\n",
       "</div>"
      ],
      "text/plain": [
       "   x1  x2  xor\n",
       "0   1   1    0\n",
       "1   1   0    1\n",
       "2   0   1    1\n",
       "3   0   0    0"
      ]
     },
     "execution_count": 31,
     "metadata": {},
     "output_type": "execute_result"
    }
   ],
   "source": [
    "import pandas as pd\n",
    "data = pd.DataFrame(numpy.c_[data_inputs, data_outputs], columns=['x1','x2', 'xor'])\n",
    "data"
   ]
  },
  {
   "cell_type": "code",
   "execution_count": 32,
   "metadata": {},
   "outputs": [
    {
     "data": {
      "image/png": "[encoded data removed]",
      "text/plain": [
       "<Figure size 288x288 with 2 Axes>"
      ]
     },
     "metadata": {},
     "output_type": "display_data"
    }
   ],
   "source": [
    "ax2 = data.plot.scatter(x='x1', y='x2', c='xor',\n",
    "                        colormap='viridis', figsize=(4,4))"
   ]
  },
  {
   "cell_type": "markdown",
   "metadata": {},
   "source": [
    "The XOR problem has 4 samples, where each sample has 2 inputs and 1 output. As a result, the num_neurons_input parameter should be assigned a value of 2. The value of the num_neurons_output parameter should be 2 because there are 2 classes."
   ]
  },
  {
   "cell_type": "code",
   "execution_count": 33,
   "metadata": {},
   "outputs": [],
   "source": [
    "num_neurons_input = 2\n",
    "num_neurons_output = 2"
   ]
  },
  {
   "cell_type": "markdown",
   "metadata": {},
   "source": [
    "The num_neurons_hidden_layers parameter accepts a list representing the number of neurons in the hidden layer. For example, num_neurons_hidden_layers=[5, 2] means there are 2 hidden layers, where the first layer has 5 neurons and the second layer has 2 neurons. For the XOR problem, a single hidden layer with 2 neurons is enough."
   ]
  },
  {
   "cell_type": "code",
   "execution_count": 34,
   "metadata": {},
   "outputs": [],
   "source": [
    "num_neurons_hidden_layers = [2]"
   ]
  },
  {
   "cell_type": "code",
   "execution_count": 35,
   "metadata": {},
   "outputs": [],
   "source": [
    "hidden_activations=[\"relu\"]"
   ]
  },
  {
   "cell_type": "code",
   "execution_count": 36,
   "metadata": {},
   "outputs": [],
   "source": [
    "output_activation = \"softmax\""
   ]
  },
  {
   "cell_type": "markdown",
   "metadata": {},
   "source": [
    "The last parameter to prepare its value is the num_solutions parameter, which accepts the number of solutions in the population. Let's set it to 5. As a result, there are 5 different value combinations for the parameters in the neural network."
   ]
  },
  {
   "cell_type": "code",
   "execution_count": 37,
   "metadata": {},
   "outputs": [],
   "source": [
    "num_solutions = 5"
   ]
  },
  {
   "cell_type": "markdown",
   "metadata": {},
   "source": [
    "After preparing all the parameters, here is the Python code that creates an instance of the GANN class to build the initial population for networks solving the XOR problem."
   ]
  },
  {
   "cell_type": "code",
   "execution_count": 38,
   "metadata": {},
   "outputs": [],
   "source": [
    "import pygad.gann\n",
    "GANN_instance = pygad.gann.GANN(num_solutions=5,\n",
    "                                num_neurons_input=2,\n",
    "                                num_neurons_hidden_layers=[2],\n",
    "                                num_neurons_output=1,\n",
    "                                hidden_activations=[\"relu\"],\n",
    "                                output_activation=\"softmax\")"
   ]
  },
  {
   "cell_type": "code",
   "execution_count": 39,
   "metadata": {},
   "outputs": [
    {
     "name": "stdout",
     "output_type": "stream",
     "text": [
      "[<pygad.nn.nn.DenseLayer object at 0x000002A473D01DF0>, <pygad.nn.nn.DenseLayer object at 0x000002A473D01D60>, <pygad.nn.nn.DenseLayer object at 0x000002A473D0C310>, <pygad.nn.nn.DenseLayer object at 0x000002A473D0C5B0>, <pygad.nn.nn.DenseLayer object at 0x000002A473D0C700>]\n"
     ]
    }
   ],
   "source": [
    "print(GANN_instance.population_networks)"
   ]
  },
  {
   "cell_type": "code",
   "execution_count": 40,
   "metadata": {},
   "outputs": [
    {
     "name": "stdout",
     "output_type": "stream",
     "text": [
      "[array([ 0.00967447, -0.05813946,  0.00072954,  0.02025188, -0.09357359,\n",
      "        0.06618932]), array([ 7.56309108e-02,  8.11383156e-05, -7.35652082e-02, -9.26492534e-02,\n",
      "       -2.71122387e-02, -4.00977600e-03]), array([-0.01660611, -0.08965691,  0.02786077, -0.03636322, -0.03687997,\n",
      "       -0.05331446]), array([-0.00568155,  0.0372903 ,  0.066302  ,  0.0965374 ,  0.08684175,\n",
      "        0.01310084]), array([-0.06218735, -0.02004992,  0.0541519 , -0.01617065, -0.00420032,\n",
      "       -0.02929272])]\n"
     ]
    }
   ],
   "source": [
    "population_vectors = pygad.gann.population_as_vectors(population_networks=GANN_instance.population_networks)\n",
    "print(population_vectors)"
   ]
  },
  {
   "cell_type": "markdown",
   "metadata": {},
   "source": [
    "## Build the Genetic Algorithm"
   ]
  },
  {
   "cell_type": "code",
   "execution_count": 41,
   "metadata": {
    "scrolled": false
   },
   "outputs": [
    {
     "name": "stdout",
     "output_type": "stream",
     "text": [
      "Generation = 1\n",
      "Accuracy   = 100.0\n",
      "Generation = 2\n",
      "Accuracy   = 75.0\n",
      "Generation = 3\n",
      "Accuracy   = 75.0\n",
      "Generation = 4\n",
      "Accuracy   = 75.0\n",
      "Generation = 5\n",
      "Accuracy   = 75.0\n",
      "Generation = 6\n",
      "Accuracy   = 75.0\n",
      "Generation = 7\n",
      "Accuracy   = 75.0\n",
      "Generation = 8\n",
      "Accuracy   = 75.0\n",
      "Generation = 9\n",
      "Accuracy   = 75.0\n",
      "Generation = 10\n",
      "Accuracy   = 75.0\n",
      "Generation = 11\n",
      "Accuracy   = 75.0\n",
      "Generation = 12\n",
      "Accuracy   = 75.0\n",
      "Generation = 13\n",
      "Accuracy   = 75.0\n",
      "Generation = 14\n",
      "Accuracy   = 75.0\n",
      "Generation = 15\n",
      "Accuracy   = 75.0\n",
      "Generation = 16\n",
      "Accuracy   = 75.0\n",
      "Generation = 17\n",
      "Accuracy   = 75.0\n",
      "Generation = 18\n",
      "Accuracy   = 75.0\n",
      "Generation = 19\n",
      "Accuracy   = 75.0\n",
      "Generation = 20\n",
      "Accuracy   = 75.0\n",
      "Generation = 21\n",
      "Accuracy   = 75.0\n",
      "Generation = 22\n",
      "Accuracy   = 75.0\n",
      "Generation = 23\n",
      "Accuracy   = 75.0\n",
      "Generation = 24\n",
      "Accuracy   = 75.0\n",
      "Generation = 25\n",
      "Accuracy   = 75.0\n",
      "Generation = 26\n",
      "Accuracy   = 75.0\n",
      "Generation = 27\n",
      "Accuracy   = 75.0\n",
      "Generation = 28\n",
      "Accuracy   = 75.0\n",
      "Generation = 29\n",
      "Accuracy   = 75.0\n",
      "Generation = 30\n",
      "Accuracy   = 75.0\n",
      "Generation = 31\n",
      "Accuracy   = 75.0\n",
      "Generation = 32\n",
      "Accuracy   = 75.0\n",
      "Generation = 33\n",
      "Accuracy   = 75.0\n",
      "Generation = 34\n",
      "Accuracy   = 75.0\n",
      "Generation = 35\n",
      "Accuracy   = 75.0\n",
      "Generation = 36\n",
      "Accuracy   = 75.0\n",
      "Generation = 37\n",
      "Accuracy   = 75.0\n",
      "Generation = 38\n",
      "Accuracy   = 75.0\n",
      "Generation = 39\n",
      "Accuracy   = 75.0\n",
      "Generation = 40\n",
      "Accuracy   = 75.0\n",
      "Generation = 41\n",
      "Accuracy   = 75.0\n",
      "Generation = 42\n",
      "Accuracy   = 75.0\n",
      "Generation = 43\n",
      "Accuracy   = 75.0\n",
      "Generation = 44\n",
      "Accuracy   = 100.0\n",
      "Generation = 45\n",
      "Accuracy   = 100.0\n",
      "Generation = 46\n",
      "Accuracy   = 100.0\n",
      "Generation = 47\n",
      "Accuracy   = 100.0\n",
      "Generation = 48\n",
      "Accuracy   = 100.0\n",
      "Generation = 49\n",
      "Accuracy   = 100.0\n",
      "Generation = 50\n",
      "Accuracy   = 100.0\n"
     ]
    },
    {
     "data": {
      "image/png": "[encoded data removed]",
      "text/plain": [
       "<Figure size 720x720 with 1 Axes>"
      ]
     },
     "metadata": {},
     "output_type": "display_data"
    },
    {
     "data": {
      "image/png": "[encoded data removed]",
      "text/plain": [
       "<Figure size 720x720 with 1 Axes>"
      ]
     },
     "execution_count": 41,
     "metadata": {},
     "output_type": "execute_result"
    },
    {
     "name": "stdout",
     "output_type": "stream",
     "text": [
      "[-1.07341963  0.36775924  0.63513068 -0.93083019  0.5962771  -0.41917192\n",
      " -0.87553748 -0.71795687]\n",
      "100.0\n",
      "0\n"
     ]
    }
   ],
   "source": [
    "def fitness_func(solution, sol_idx):\n",
    "    global GANN_instance, data_inputs, data_outputs\n",
    "\n",
    "    predictions = pygad.nn.predict(last_layer=GANN_instance.population_networks[sol_idx],\n",
    "                                   data_inputs=data_inputs)\n",
    "    correct_predictions = numpy.where(predictions == data_outputs)[0].size\n",
    "    solution_fitness = (correct_predictions/data_outputs.size)*100\n",
    "\n",
    "    return solution_fitness\n",
    "\n",
    "def callback_generation(ga_instance):\n",
    "    global GANN_instance\n",
    "\n",
    "    population_matrices = pygad.gann.population_as_matrices(population_networks=GANN_instance.population_networks, \n",
    "                                                            population_vectors=ga_instance.population)\n",
    "\n",
    "    GANN_instance.update_population_trained_weights(population_trained_weights=population_matrices)\n",
    "\n",
    "    print(\"Generation = {generation}\".format(generation=ga_instance.generations_completed))\n",
    "    print(\"Accuracy   = {fitness}\".format(fitness=ga_instance.best_solution()[1]))\n",
    "\n",
    "data_inputs = numpy.array([[1, 1],\n",
    "                           [1, 0],\n",
    "                           [0, 1],\n",
    "                           [0, 0]])\n",
    "\n",
    "data_outputs = numpy.array([0, \n",
    "                            1, \n",
    "                            1, \n",
    "                            0])\n",
    "\n",
    "GANN_instance = pygad.gann.GANN(num_solutions=5,\n",
    "                                num_neurons_input=2,\n",
    "                                num_neurons_hidden_layers=[2],\n",
    "                                num_neurons_output=2,\n",
    "                                hidden_activations=[\"relu\"],\n",
    "                                output_activation=\"softmax\")\n",
    "\n",
    "population_vectors = pygad.gann.population_as_vectors(population_networks=GANN_instance.population_networks)\n",
    "\n",
    "ga_instance = pygad.GA(num_generations=50, \n",
    "                       num_parents_mating=3, \n",
    "                       initial_population=population_vectors.copy(),\n",
    "                       fitness_func=fitness_func,\n",
    "                       mutation_percent_genes=5,\n",
    "                       callback_generation=callback_generation)\n",
    "\n",
    "ga_instance.run()\n",
    "\n",
    "ga_instance.plot_result()\n",
    "\n",
    "solution, solution_fitness, solution_idx = ga_instance.best_solution()\n",
    "print(solution)\n",
    "print(solution_fitness)\n",
    "print(solution_idx)"
   ]
  },
  {
   "cell_type": "markdown",
   "metadata": {},
   "source": [
    "## Regression Neural Networks\n",
    "In addition to building neural networks for classification, PyGAD also supports regression networks. Compared to the previous code, there are 2 changes:"
   ]
  },
  {
   "cell_type": "code",
   "execution_count": 42,
   "metadata": {},
   "outputs": [],
   "source": [
    "data_inputs = numpy.array([[2, 5, -3, 0.1],\n",
    "                           [8, 15, 20, 13]])\n",
    "\n",
    "data_outputs = numpy.array([[0.1, 0.2],\n",
    "                            [1.8, 1.5]])"
   ]
  },
  {
   "cell_type": "code",
   "execution_count": 43,
   "metadata": {},
   "outputs": [],
   "source": [
    "def fitness_func(solution, sol_idx):\n",
    "    global GANN_instance, data_inputs, data_outputs\n",
    "\n",
    "    predictions = pygad.nn.predict(last_layer=GANN_instance.population_networks[sol_idx],\n",
    "                                   data_inputs=data_inputs, \n",
    "                                   problem_type=\"regression\")\n",
    "    solution_fitness = 1.0/numpy.mean(numpy.abs(predictions - data_outputs))\n",
    "\n",
    "    return solution_fitness"
   ]
  },
  {
   "cell_type": "markdown",
   "metadata": {},
   "source": [
    "# End"
   ]
  },
  {
   "cell_type": "code",
   "execution_count": 44,
   "metadata": {},
   "outputs": [
    {
     "data": {
      "text/plain": [
       "'d:\\\\2021_데이터솔루션\\\\2021_0823_scripts'"
      ]
     },
     "execution_count": 44,
     "metadata": {},
     "output_type": "execute_result"
    }
   ],
   "source": [
    "pwd"
   ]
  },
  {
   "cell_type": "code",
   "execution_count": null,
   "metadata": {},
   "outputs": [],
   "source": []
  }
 ],
 "metadata": {
  "kernelspec": {
   "display_name": "Python 3",
   "language": "python",
   "name": "python3"
  },
  "language_info": {
   "codemirror_mode": {
    "name": "ipython",
    "version": 3
   },
   "file_extension": ".py",
   "mimetype": "text/x-python",
   "name": "python",
   "nbconvert_exporter": "python",
   "pygments_lexer": "ipython3",
   "version": "3.8.8"
  }
 },
 "nbformat": 4,
 "nbformat_minor": 2
}
